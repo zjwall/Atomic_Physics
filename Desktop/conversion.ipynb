{
 "cells": [
  {
   "cell_type": "code",
   "execution_count": 1,
   "id": "accurate-acrylic",
   "metadata": {},
   "outputs": [
    {
     "name": "stdout",
     "output_type": "stream",
     "text": [
      "564.808990872\n",
      "564.8689493636\n"
     ]
    }
   ],
   "source": [
    "#wavenumber to freq in cm-1 to thz\n",
    "import scipy.constants as sc\n",
    "k = [18840,18842]\n",
    "for i in k:\n",
    "    l = 1/(i*100)\n",
    "    f = (sc.c/l)/1e12\n",
    "    print(f)"
   ]
  },
  {
   "cell_type": "code",
   "execution_count": 12,
   "id": "baking-welsh",
   "metadata": {},
   "outputs": [
    {
     "name": "stdout",
     "output_type": "stream",
     "text": [
      "18867.924528301886\n",
      "18832.391713747642\n",
      "18796.992481203004\n",
      "24271.844660194172\n",
      "24213.07506053269\n",
      "20833.33333333333\n",
      "22346.368715083798\n"
     ]
    }
   ],
   "source": [
    "#nm to wavenum  \n",
    "import numpy as np\n",
    "import scipy.constants as sc\n",
    "l = [530,531,532,412,413,960/2,895/2]\n",
    "for i in l:\n",
    "    k = 1/(i*1e-9)\n",
    "    print(k/100)"
   ]
  },
  {
   "cell_type": "code",
   "execution_count": 13,
   "id": "surprising-viewer",
   "metadata": {},
   "outputs": [
    {
     "name": "stdout",
     "output_type": "stream",
     "text": [
      "530.7855626326963\n",
      "530.2226935312831\n",
      "530.9053263076862\n",
      "535.3319057815846\n",
      "530.8278259946386\n",
      "232.5581395348837\n"
     ]
    }
   ],
   "source": [
    "#wavenumber to nm\n",
    "import numpy as np\n",
    "import scipy.constants as sc\n",
    "k = [18840,18860,18835.75,18680,18838.5,43000]\n",
    "for i in k:\n",
    "    l = 1/(i*100)\n",
    "    print(l/1e-9)"
   ]
  },
  {
   "cell_type": "code",
   "execution_count": 14,
   "id": "surprised-worker",
   "metadata": {},
   "outputs": [
    {
     "name": "stdout",
     "output_type": "stream",
     "text": [
      "531.5469113475177\n",
      "531.5469113475177\n"
     ]
    }
   ],
   "source": [
    "#thz to nm  \n",
    "import numpy as np\n",
    "import scipy.constants as sc\n",
    "l = [564.000,564]\n",
    "for i in l:\n",
    "    w = (sc.c/i)/1e12\n",
    "    print(w/1e-9)"
   ]
  },
  {
   "cell_type": "code",
   "execution_count": 15,
   "id": "trying-benchmark",
   "metadata": {},
   "outputs": [
    {
     "data": {
      "text/plain": [
       "-0.0007539661806958975"
      ]
     },
     "execution_count": 15,
     "metadata": {},
     "output_type": "execute_result"
    }
   ],
   "source": [
    "531.546157381337-531.5469113475177"
   ]
  },
  {
   "cell_type": "code",
   "execution_count": 16,
   "id": "hybrid-custom",
   "metadata": {},
   "outputs": [
    {
     "data": {
      "text/plain": [
       "0.0009911164666648977"
      ]
     },
     "execution_count": 16,
     "metadata": {},
     "output_type": "execute_result"
    }
   ],
   "source": [
    "import numpy as np\n",
    "mf = 3.8e-6\n",
    "l = 493e-9\n",
    "f = 6e-3\n",
    "(f*4*l)/(mf*np.pi)"
   ]
  },
  {
   "cell_type": "code",
   "execution_count": 17,
   "id": "mighty-heaven",
   "metadata": {},
   "outputs": [
    {
     "data": {
      "text/plain": [
       "0.004233521486244416"
      ]
     },
     "execution_count": 17,
     "metadata": {},
     "output_type": "execute_result"
    }
   ],
   "source": [
    "l = 532e-9\n",
    "l/(np.pi*40e-6)"
   ]
  },
  {
   "cell_type": "code",
   "execution_count": 18,
   "id": "decimal-enforcement",
   "metadata": {},
   "outputs": [
    {
     "name": "stdout",
     "output_type": "stream",
     "text": [
      "0.0014150314575607419\n",
      "0.00143\n"
     ]
    },
    {
     "data": {
      "text/plain": [
       "35.02095589367411"
      ]
     },
     "execution_count": 18,
     "metadata": {},
     "output_type": "execute_result"
    }
   ],
   "source": [
    "##beam propogation\n",
    "import numpy as np\n",
    "w0 = 28.6e-6/2\n",
    "zr = 2.86e-3/2\n",
    "l = 454e-9\n",
    "print(np.pi*w0**2/l)\n",
    "print(zr)\n",
    "z = 1e-3\n",
    "wz = w0*np.sqrt(1+(l*z/(np.pi*w0**2))**2)\n",
    "wz*2/1e-6"
   ]
  },
  {
   "cell_type": "code",
   "execution_count": 19,
   "id": "quantitative-tender",
   "metadata": {},
   "outputs": [
    {
     "name": "stdout",
     "output_type": "stream",
     "text": [
      "wl,  649.8717431524\n",
      "freq in thz,  461.3101910628792\n"
     ]
    }
   ],
   "source": [
    "## wavelength in air to vacuum\n",
    "lam_air = 649.68983e-9\n",
    "n = 1.00028\n",
    "lam_vac = n*lam_air\n",
    "print(\"wl, \", lam_vac/1e-9)\n",
    "#convert to terahertz\n",
    "import scipy.constants as sc\n",
    "f = sc.c/lam_vac\n",
    "print('freq in thz, ', f/1e12)"
   ]
  },
  {
   "cell_type": "code",
   "execution_count": 20,
   "id": "serial-consultation",
   "metadata": {},
   "outputs": [
    {
     "name": "stdout",
     "output_type": "stream",
     "text": [
      "sat param 0.9999740211393895\n",
      "sat para 1.0032985215410357\n",
      "power to sat 6.468168035635803e-07\n",
      "dipole moment 2.0116282263624198e-29\n"
     ]
    }
   ],
   "source": [
    "##saturation parameter for 493 using the equations in foot\n",
    "\n",
    "import scipy.constants as sc\n",
    "import numpy as np\n",
    "I = 2*6.468e-7/(np.pi*(50e-6)**2)\n",
    "E = np.sqrt(2*I/(sc.c*sc.epsilon_0))\n",
    "gampi = 2*np.pi*15.1e6\n",
    "tau = 1/gampi\n",
    "wpi = 2*np.pi*607.425890e12\n",
    "lam = 493e-9\n",
    "mu = np.sqrt((gampi*3*np.pi*sc.epsilon_0*sc.hbar*sc.c**3)/(wpi**3))\n",
    "rabi = E*mu/(sc.hbar)\n",
    "\n",
    "Is = np.pi*sc.h*sc.c/(3*lam**3*tau)\n",
    "\n",
    "\n",
    "s0 = 2*rabi**2/gampi**2\n",
    "\n",
    "\n",
    "ps = Is*(np.pi*(50e-6)**2)/2\n",
    "\n",
    "\n",
    "print('sat param', I/Is)\n",
    "print('sat para', s0)\n",
    "print('power to sat', ps)\n",
    "print('dipole moment', mu)"
   ]
  },
  {
   "cell_type": "code",
   "execution_count": 21,
   "id": "colored-childhood",
   "metadata": {},
   "outputs": [
    {
     "name": "stdout",
     "output_type": "stream",
     "text": [
      "21.372227209548644\n"
     ]
    }
   ],
   "source": [
    "####power broadened linewidth\n",
    "gam_b=  gampi*np.sqrt(1+s0)\n",
    "\n",
    "print(gam_b/(2*np.pi*1e6))"
   ]
  },
  {
   "cell_type": "code",
   "execution_count": 22,
   "id": "willing-business",
   "metadata": {},
   "outputs": [
    {
     "name": "stdout",
     "output_type": "stream",
     "text": [
      "xsection 1.1604734929062621e-13\n",
      "xsection in Mb 1160473492.9062622\n"
     ]
    }
   ],
   "source": [
    "#calc the cross section ### first use metcalc simplest equation\n",
    "lam = 493e-9\n",
    "sig = 3*lam**2/(2*np.pi)\n",
    "print('xsection', sig)\n",
    "print('xsection in Mb', sig/1e-28/1e6)"
   ]
  },
  {
   "cell_type": "code",
   "execution_count": 23,
   "id": "small-kinase",
   "metadata": {},
   "outputs": [
    {
     "name": "stdout",
     "output_type": "stream",
     "text": [
      "xsection 1.163044133048243e-13\n",
      "xsection in Mb 1163044133.0482433\n"
     ]
    }
   ],
   "source": [
    "##another check is the equation from foot on resonance\n",
    "\n",
    "sig = rabi**2/gampi**2*gampi*sc.hbar*wpi/(I)\n",
    "\n",
    "print('xsection', sig)\n",
    "print('xsection in Mb', sig/1e-28/1e6)\n",
    "\n",
    "\n",
    "\n",
    "#####note the foot and metcalf methods agree so I am inclined to trust the equations there#####"
   ]
  },
  {
   "cell_type": "code",
   "execution_count": 24,
   "id": "circular-handbook",
   "metadata": {},
   "outputs": [
    {
     "name": "stdout",
     "output_type": "stream",
     "text": [
      "xsection 1.1630441330482434e-13\n",
      "xsection in Mb 1163044133.0482435\n"
     ]
    }
   ],
   "source": [
    "##now from the budker kimbell book we have an equation\n",
    "\n",
    "gam = 2*np.pi*15.1e6\n",
    "w = 2*np.pi*607.425890e12\n",
    "\n",
    "\n",
    "\n",
    "mu = np.sqrt(gam*3*sc.hbar*sc.c**3/(4*w**3))\n",
    "sig = 3*8*np.pi/3*w/sc.c*(1/(sc.hbar*gam))*mu**2\n",
    "print('xsection', sig)\n",
    "print('xsection in Mb', sig/1e-28/1e6)"
   ]
  },
  {
   "cell_type": "code",
   "execution_count": 25,
   "id": "cubic-rehabilitation",
   "metadata": {},
   "outputs": [
    {
     "name": "stdout",
     "output_type": "stream",
     "text": [
      "xsection 1.1630441330482436e-13\n",
      "xsection in Mb 1163044133.0482438\n"
     ]
    }
   ],
   "source": [
    "##my derivation, note i was forgeting the density of states part of the hamiltonian\n",
    "gam = 2*np.pi*15.1e6\n",
    "w = 2*np.pi*607.425890e12\n",
    "\n",
    "\n",
    "\n",
    "mu = np.sqrt((gampi*3*np.pi*sc.epsilon_0*sc.hbar*sc.c**3)/(wpi**3))\n",
    "sig = w*np.pi/(sc.hbar*sc.c*sc.epsilon_0)*mu**2/gam*2/np.pi\n",
    "print('xsection', sig)\n",
    "print('xsection in Mb', sig/1e-28/1e6)"
   ]
  },
  {
   "cell_type": "code",
   "execution_count": 26,
   "id": "animated-agriculture",
   "metadata": {},
   "outputs": [
    {
     "name": "stdout",
     "output_type": "stream",
     "text": [
      "xsection 2.033797187910833e-49\n",
      "xsection in Mb 2.033797187910833e-27\n"
     ]
    }
   ],
   "source": [
    "##fano book units seem to be off can't make sense of it, the book says atomic units, but m^2 should be units  I believe the source of all confusion is that in au 1/4pie0 is 1\n",
    "sig = 4*np.pi**2*(mu)**2*wpi/sc.c\n",
    "print('xsection', sig)\n",
    "print('xsection in Mb', sig/1e-28/1e6)"
   ]
  },
  {
   "cell_type": "markdown",
   "id": "charming-lunch",
   "metadata": {},
   "source": [
    "from \"atomic collisions and spectra --- Fano\" \n",
    "$$\\sigma = 4\\pi^2e^2(\\omega/c)|<\\epsilon|x|0>|^2$$\n",
    "\n",
    "except one must know that there is a $$\\hbar/(4\\pi \\epsilon_0)$$\n",
    "because atomic units says so"
   ]
  },
  {
   "cell_type": "code",
   "execution_count": 27,
   "id": "different-norway",
   "metadata": {},
   "outputs": [
    {
     "data": {
      "text/plain": [
       "4.981847100520031e-19"
      ]
     },
     "execution_count": 27,
     "metadata": {},
     "output_type": "execute_result"
    }
   ],
   "source": [
    "sig = 6000*1e6*1e-28\n",
    "w = 565e12*2*np.pi\n",
    "mu = np.sqrt(sig*sc.c*4*sc.epsilon_0/(4*np.pi**2*sc.e**2*w))*sc.hbar*w\n",
    "mu"
   ]
  },
  {
   "cell_type": "code",
   "execution_count": null,
   "id": "correct-island",
   "metadata": {},
   "outputs": [],
   "source": []
  },
  {
   "cell_type": "code",
   "execution_count": 28,
   "id": "under-architect",
   "metadata": {},
   "outputs": [
    {
     "name": "stdout",
     "output_type": "stream",
     "text": [
      "dipole moment 2.003277358114381e-30\n",
      "saturation intensity 105851461658.01295\n",
      "saturation power for 50um beam (W) 415.67771789569395\n"
     ]
    }
   ],
   "source": [
    "gam = 2*np.pi*27e9\n",
    "w = 565e12*2*np.pi\n",
    "sig = 6000e6*1e-28\n",
    "\n",
    "mu = np.sqrt(sc.hbar*sig*sc.c*sc.epsilon_0*gam/(2*w))\n",
    "E = np.sqrt(gam**2*sc.hbar**2/(mu**2))\n",
    "\n",
    "Is = E**2*sc.c*sc.epsilon_0/2\n",
    "ps = Is*(np.pi*(50e-6)**2)/2\n",
    "print('dipole moment', mu)\n",
    "print('saturation intensity', Is)\n",
    "print('saturation power for 50um beam (W)', ps)"
   ]
  },
  {
   "cell_type": "code",
   "execution_count": 29,
   "id": "tamil-inclusion",
   "metadata": {},
   "outputs": [
    {
     "name": "stdout",
     "output_type": "stream",
     "text": [
      "1.0976075633640151e-16\n"
     ]
    }
   ],
   "source": [
    "import numpy as np\n",
    "import scipy.constants as sc\n",
    "ev = 1.60218e-19\n",
    "mb = 1e-18\n",
    "c = 2*np.pi**2*sc.e**2*sc.hbar/(sc.m_e*sc.c)/ev*1e4*(1/(4*np.pi*sc.epsilon_0))\n",
    "print(c)"
   ]
  },
  {
   "cell_type": "code",
   "execution_count": 30,
   "id": "small-roberts",
   "metadata": {},
   "outputs": [
    {
     "data": {
      "text/plain": [
       "54.6643463498997"
      ]
     },
     "execution_count": 30,
     "metadata": {},
     "output_type": "execute_result"
    }
   ],
   "source": [
    "sig = 6000*1e-18\n",
    "df = sig/c\n",
    "df"
   ]
  },
  {
   "cell_type": "code",
   "execution_count": 31,
   "id": "amazing-birth",
   "metadata": {},
   "outputs": [
    {
     "data": {
      "text/plain": [
       "2.0585265163941094e-30"
      ]
     },
     "execution_count": 31,
     "metadata": {},
     "output_type": "execute_result"
    }
   ],
   "source": [
    "fn = 0.010122\n",
    "g = 0.000107283\n",
    "x0 = 2.33533\n",
    "w = x0/27.21\n",
    "d = np.sqrt(fn/(2*w))\n",
    "a0 = 5.291e-11\n",
    "d*a0*sc.e"
   ]
  },
  {
   "cell_type": "code",
   "execution_count": 32,
   "id": "specialized-pendant",
   "metadata": {},
   "outputs": [
    {
     "name": "stdout",
     "output_type": "stream",
     "text": [
      "sat param 0.004115181890751601\n",
      "sat para 0.004115181890751601\n",
      "power to sat 243.00262456135542\n",
      "dipole moment 2.0585265163941094e-30\n"
     ]
    }
   ],
   "source": [
    "##saturation parameter for 493 using the equations in foot\n",
    "\n",
    "import scipy.constants as sc\n",
    "import numpy as np\n",
    "I = 2*1/(np.pi*(50e-6)**2)\n",
    "E = np.sqrt(2*I/(sc.c*sc.epsilon_0))\n",
    "\n",
    "\n",
    "mu = 2.0585265163941094e-30\n",
    "rabi = E*mu/(sc.hbar)\n",
    "gam = 30e9*2*np.pi\n",
    "\n",
    "\n",
    "s0 = 2*rabi**2/gam**2\n",
    "Is = I/s0\n",
    "\n",
    "ps = Is*(np.pi*(50e-6)**2)/2\n",
    "\n",
    "\n",
    "print('sat param', I/Is)\n",
    "print('sat para', s0)\n",
    "print('power to sat', ps)\n",
    "print('dipole moment', mu)"
   ]
  },
  {
   "cell_type": "code",
   "execution_count": 33,
   "id": "august-universal",
   "metadata": {},
   "outputs": [
    {
     "name": "stdout",
     "output_type": "stream",
     "text": [
      "0.01829345938940025\n"
     ]
    },
    {
     "data": {
      "text/plain": [
       "6.913022974140067e-21"
      ]
     },
     "execution_count": 33,
     "metadata": {},
     "output_type": "execute_result"
    }
   ],
   "source": [
    "sig = 6000*1e6*1e-28\n",
    "w = 565e12*2*np.pi\n",
    "fn = sig*sc.m_e*sc.c/(sc.hbar*2*np.pi**2*sc.e**2)*4*np.pi*sc.epsilon_0\n",
    "print(1/(fn*ev))\n",
    "mu = np.sqrt(sc.hbar/(2*sc.m_e*w*fn))\n",
    "mu"
   ]
  },
  {
   "cell_type": "code",
   "execution_count": 34,
   "id": "competitive-service",
   "metadata": {},
   "outputs": [
    {
     "name": "stdout",
     "output_type": "stream",
     "text": [
      "power to sat 0.0011484926561668534\n"
     ]
    }
   ],
   "source": [
    "#crystal senko paper way of calcing sat param for 389 agrees with their paper\n",
    "\n",
    "import scipy.constants as sc\n",
    "import numpy as np\n",
    "\n",
    "gam = 60e9\n",
    "w = 2*np.pi*769.21e12\n",
    "Isat = sc.hbar*w**3*gam/(4*np.pi*sc.c**2)\n",
    "\n",
    "w0 = 34e-6\n",
    "psat = Isat*w0**2*np.pi/2\n",
    "\n",
    "\n",
    "print('power to sat', psat)\n"
   ]
  },
  {
   "cell_type": "code",
   "execution_count": 35,
   "id": "technological-jacket",
   "metadata": {},
   "outputs": [
    {
     "name": "stdout",
     "output_type": "stream",
     "text": [
      "power to sat 0.0039371409889176635\n"
     ]
    }
   ],
   "source": [
    "#now for 454\n",
    "\n",
    "import scipy.constants as sc\n",
    "import numpy as np\n",
    "\n",
    "gam = 60e9\n",
    "w = 565e12*2*np.pi\n",
    "Isat = sc.hbar*w**3*gam/(4*np.pi*sc.c**2)\n",
    "\n",
    "w0 = 100e-6\n",
    "psat = Isat*w0**2*np.pi/2\n",
    "\n",
    "\n",
    "print('power to sat', psat)"
   ]
  },
  {
   "cell_type": "code",
   "execution_count": 36,
   "id": "valid-bride",
   "metadata": {},
   "outputs": [
    {
     "name": "stdout",
     "output_type": "stream",
     "text": [
      "cross section in Mb if pure dipole transition 1.035125e-13\n",
      "450 xsection 6e-19\n",
      "6.233660788537383e-42\n"
     ]
    }
   ],
   "source": [
    "wl = 455e-9\n",
    "print(\"cross section in Mb if pure dipole transition\", (wl**2/2))\n",
    "##contrast this with a xsection of 6000 Mb which is 6000e-22\n",
    "print('450 xsection', 6000e-22)\n",
    "gam = 2*np.pi*15.1e6\n",
    "w = 2*np.pi*607.425890e12\n",
    "mu = np.sqrt((gampi*3*np.pi*sc.epsilon_0*sc.hbar*sc.c**3)/(wpi**3))\n",
    "xs = 4*np.pi**(1/127)*w*mu**2\n",
    "print(xs)"
   ]
  },
  {
   "cell_type": "code",
   "execution_count": 37,
   "id": "pressed-reviewer",
   "metadata": {},
   "outputs": [],
   "source": [
    "####from C. greene notebook .242833 au is 2.0587e-30 NM "
   ]
  },
  {
   "cell_type": "markdown",
   "id": "encouraging-pregnancy",
   "metadata": {},
   "source": [
    "$$\n",
    "\\gamma = \\frac{\\omega_0^3}{3\\pi \\epsilon_0 \\hbar c^3}|<e|\\mu|g>|^2\n",
    "$$"
   ]
  },
  {
   "cell_type": "code",
   "execution_count": 38,
   "id": "supposed-driving",
   "metadata": {},
   "outputs": [
    {
     "data": {
      "text/plain": [
       "2.0116282263624198e-29"
      ]
     },
     "execution_count": 38,
     "metadata": {},
     "output_type": "execute_result"
    }
   ],
   "source": [
    "gam = 2*np.pi*20e6\n",
    "w = 2*np.pi*607e12\n",
    "mu = np.sqrt((gampi*3*np.pi*sc.epsilon_0*sc.hbar*sc.c**3)/(wpi**3))\n",
    "mu\n"
   ]
  },
  {
   "cell_type": "code",
   "execution_count": 39,
   "id": "fewer-disability",
   "metadata": {},
   "outputs": [
    {
     "name": "stdout",
     "output_type": "stream",
     "text": [
      "254.64790894703256\n"
     ]
    }
   ],
   "source": [
    "I = 2*1e-10/(np.pi*(50e-6)**2)\n",
    "print(I*100**2)"
   ]
  },
  {
   "cell_type": "code",
   "execution_count": 40,
   "id": "orange-tunnel",
   "metadata": {},
   "outputs": [
    {
     "data": {
      "text/plain": [
       "1.0124999999999997"
      ]
     },
     "execution_count": 40,
     "metadata": {},
     "output_type": "execute_result"
    }
   ],
   "source": [
    "10e22*(450e-9**2)/2/(10e9)"
   ]
  },
  {
   "cell_type": "code",
   "execution_count": 5,
   "id": "second-taste",
   "metadata": {},
   "outputs": [
    {
     "name": "stdout",
     "output_type": "stream",
     "text": [
      "dp in au 0.24283341592402277\n",
      "8987551792.261171\n"
     ]
    },
    {
     "data": {
      "text/plain": [
       "1.097696201760402e-20"
      ]
     },
     "execution_count": 5,
     "metadata": {},
     "output_type": "execute_result"
    }
   ],
   "source": [
    "import numpy as np\n",
    "import scipy.constants as sc\n",
    "####making sense of c green notebook on oscialltor strength\n",
    "##lets start from the bottom, his dipole moment is .242833 a.u. lets conver this to N/C ---2.058823848e-30\n",
    "dp = 2.058823848e-30\n",
    "#next equation is fano 2.23 \n",
    "##first in au\n",
    "fn=.010122\n",
    "ws = 2.3353285079384345/27.21\n",
    "dp = np.sqrt(fn/(2*ws))\n",
    "print('dp in au', dp)\n",
    "#now try to use SI and get same answer\n",
    "ws = \n",
    "k =(1/(4*np.pi*sc.epsilon_0))\n",
    "print(k)\n",
    "ev = 6.242e18\n",
    "2*np.pi**2*sc.e**2*sc.hbar/(sc.m_e*sc.c)*6.242e18*k"
   ]
  },
  {
   "cell_type": "markdown",
   "id": "direct-berlin",
   "metadata": {},
   "source": [
    "fano 2.23\n",
    "$$f_s = (2m\\omega_s/\\hbar)|<s|x|0>|^2$$\n",
    "or solving for the dipole moment\n",
    "$$dp = \\sqrt{\\hbar f_s/(2m\\omega_s)}$$"
   ]
  },
  {
   "cell_type": "code",
   "execution_count": 83,
   "id": "sealed-madonna",
   "metadata": {},
   "outputs": [
    {
     "data": {
      "text/plain": [
       "47123889.803846896"
      ]
     },
     "execution_count": 83,
     "metadata": {},
     "output_type": "execute_result"
    }
   ],
   "source": [
    "r = np.pi*15e6\n",
    "r"
   ]
  },
  {
   "cell_type": "code",
   "execution_count": 85,
   "id": "golden-bottle",
   "metadata": {},
   "outputs": [
    {
     "data": {
      "text/plain": [
       "242.6880324898115"
      ]
     },
     "execution_count": 85,
     "metadata": {},
     "output_type": "execute_result"
    }
   ],
   "source": [
    "r/(1000)/20*(.103)"
   ]
  },
  {
   "cell_type": "code",
   "execution_count": 72,
   "id": "endangered-recovery",
   "metadata": {},
   "outputs": [
    {
     "data": {
      "text/plain": [
       "0.1035234192545466"
      ]
     },
     "execution_count": 72,
     "metadata": {},
     "output_type": "execute_result"
    }
   ],
   "source": [
    "a = np.arcsin(.6)\n",
    "a**2/4"
   ]
  },
  {
   "cell_type": "code",
   "execution_count": 65,
   "id": "british-default",
   "metadata": {},
   "outputs": [
    {
     "data": {
      "text/plain": [
       "0.013225"
      ]
     },
     "execution_count": 65,
     "metadata": {},
     "output_type": "execute_result"
    }
   ],
   "source": [
    "np.pi*.23**2/(4*np.pi)"
   ]
  },
  {
   "cell_type": "code",
   "execution_count": 69,
   "id": "maritime-milwaukee",
   "metadata": {},
   "outputs": [
    {
     "data": {
      "text/plain": [
       "0.01346501272073152"
      ]
     },
     "execution_count": 69,
     "metadata": {},
     "output_type": "execute_result"
    }
   ],
   "source": []
  },
  {
   "cell_type": "code",
   "execution_count": 73,
   "id": "choice-canvas",
   "metadata": {},
   "outputs": [
    {
     "data": {
      "text/plain": [
       "0.6168502750680849"
      ]
     },
     "execution_count": 73,
     "metadata": {},
     "output_type": "execute_result"
    }
   ],
   "source": [
    "(np.pi)**2/16"
   ]
  },
  {
   "cell_type": "code",
   "execution_count": null,
   "id": "nutritional-pitch",
   "metadata": {},
   "outputs": [],
   "source": []
  }
 ],
 "metadata": {
  "kernelspec": {
   "display_name": "Python 3",
   "language": "python",
   "name": "python3"
  },
  "language_info": {
   "codemirror_mode": {
    "name": "ipython",
    "version": 3
   },
   "file_extension": ".py",
   "mimetype": "text/x-python",
   "name": "python",
   "nbconvert_exporter": "python",
   "pygments_lexer": "ipython3",
   "version": "3.9.2"
  }
 },
 "nbformat": 4,
 "nbformat_minor": 5
}
