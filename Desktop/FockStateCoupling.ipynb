{
 "cells": [
  {
   "cell_type": "markdown",
   "id": "hundred-federation",
   "metadata": {
    "tags": []
   },
   "source": [
    "$$\\newcommand{\\braket}[2]{\\left\\langle{#1}\\middle|{#2}\\right\\rangle}$$\n",
    "$$\\newcommand{\\ket}[1]{\\left|{#1}\\right\\rangle}$$\n",
    "$$\\newcommand{\\bra}[1]{\\left\\langle{#1}\\right|}$$\n",
    "We are interested in harmonic oscillator matrix elements of the form \n",
    "$$\n",
    "\\begin{align}\n",
    "    \\bra{n'}\\exp{i(\\boldsymbol{k}}\\cdot\\boldsymbol{x})\\ket{n}& \\\\\n",
    "    &=\\bra{n_x'}\\exp(ik_x x)\\ket{n_x}\\bra{n_y'}\\exp(ik_y y){n_y}\\times\\bra{n_z'}\\exp(ik_z z)\\ket{n_z}\n",
    "\\end{align}\n",
    "$$\n",
    "Next note the following operator method\n",
    "$$e^{A+B}=e^Ae^Be^{-[A,B]/2}$$\n",
    "when \n",
    "$$[A,[A,B]]=[B,[A,B]]=0$$\n",
    "We have\n",
    "$$\\exp(ikx) =\\exp[ikx_0(a^{\\dagger}+a)]=\\exp[-\\frac{1}{2}(kx_0)^2]\\exp(ikx_0a^{\\dagger}) \\exp(ikx_0 a)$$\n",
    "Since \n",
    "$$\n",
    "a^m\\ket{n}=\\Bigg\\{\n",
    "\\begin{matrix}\n",
    "[n!/(n-m)!]^{1/2}\\ket{n-m} & m \\leq {n}\\\\\n",
    "0 & m>n\n",
    "\\end{matrix}\n",
    "$$\n",
    "Then we have\n",
    "$$\n",
    "\\exp(ikx_0 a)\\ket{n}=\\sum^{\\infty}_0 \\frac{(ikx_0)^m}{m!}\\left(\\frac{n!}{(n-m)!}\\right)^{1/2}\\ket{n-m}\n",
    "$$\n",
    "Now operating to the right with $\\exp(ikx_0 a)$ and to the left with $\\exp(ikx_0 a^{\\dagger})$, we obtain\n",
    "$$\n",
    "\\bra{n'}\\exp(ikx)\\ket{n}=\\exp[-\\frac{1}{2}(kx_0)^2](n!n'!)^{1/2}(ikx_0)^{\\Delta n}\\sum^{n_<}_{m=0}\n",
    "\\frac{(-1)^m(kx_0)^{2m}}{m!(m+\\Delta n)!(n_<-m)!}\n",
    "$$\n",
    "where $\\Delta n=|n'-n|$ and $n_<$ is the lesser of the $n$ and $n'$. Only terms for which $n-m=n'-m'$ survive, thus $\\Delta n = |m'-m|$. \n",
    "Noting the explicit form of the generalized Laguerre polynomial, \n",
    "$$\n",
    "L^{\\alpha}_m(X) = \\sum^n_{m=0}=(-1)^m \\begin{pmatrix}n+\\alpha \\\\ n-m \\end{pmatrix}\\frac{X^m}{m!}\n",
    "$$\n",
    "Thus we arrive at the result\n",
    "$$\n",
    "\\bra{n'}\\exp(ikx)\\ket{n}=\\exp[-\\frac{1}{2}(kx_0)^2][n_<!/(n_<+\\Delta n)!]^{1/2}(ikx_0)^{\\Delta n}L_{n_<}^{\\Delta n}[(kx_0)^2]\n",
    "$$"
   ]
  },
  {
   "cell_type": "code",
   "execution_count": 2,
   "id": "annual-stick",
   "metadata": {
    "tags": []
   },
   "outputs": [
    {
     "data": {
      "image/png": "[encoded data removed]",
      "text/plain": [
       "<Figure size 432x288 with 1 Axes>"
      ]
     },
     "metadata": {
      "needs_background": "light"
     },
     "output_type": "display_data"
    }
   ],
   "source": [
    "import numpy as np\n",
    "from numpy.polynomial import Laguerre\n",
    "from scipy.special import eval_genlaguerre\n",
    "from scipy.special import factorial\n",
    "\n",
    "\n",
    "\n",
    "eta = .12\n",
    "n_arr = np.linspace(0, 170,1000)\n",
    "import matplotlib.pyplot as plt\n",
    "for del_n in range(0,4):\n",
    "    y = np.abs(eval_genlaguerre(n_arr-del_n,del_n,eta**2)*(eta)**del_n*np.exp(-.5*eta**2)*(factorial(n_arr-del_n)/(factorial(n_arr)))**(1/2))\n",
    "    plt.plot(n_arr , y, label=r'$\\Delta n=-{} $'.format(del_n))\n",
    "\n",
    "plt.title(r'$\\langle n_f |\\exp(ikx)|n_i \\rangle $')\n",
    "plt.xlabel(\"Motional State n\")\n",
    "plt.ylabel(r'$\\langle n_f |\\exp(ikx)|n_i \\rangle $')\n",
    "plt.legend(loc='lower right')\n",
    "plt.show()"
   ]
  },
  {
   "cell_type": "markdown",
   "id": "knowing-nigeria",
   "metadata": {
    "tags": []
   },
   "source": [
    "# Numerical Simulations of Two Level Atom in Thermal State Distribution\n",
    "The goal of this notebook is to simulate the rabi flopping of a state that is occupying a number of motional levels ie is in a thermal state\n",
    "The dynamics with the RWA are described by\n",
    "\\begin{align*}\n",
    "    \\frac{d^2c_g(t)}{dt^2}&=i\\delta \\frac{dc_g(t)}{dt}-\\frac{\\Omega^2}{4}c_g(t)  \\\\\n",
    "     \\frac{d^2c_e(t)}{dt^2}&=-i\\delta \\frac{dc_e(t)}{dt}-\\frac{\\Omega^2}{4}c_e(t) \n",
    "\\end{align*}\n",
    "The analytic solutions are \n",
    "\\begin{align}\n",
    "c_g(t) &= \\left(\\cos\\frac{\\Omega' t}{2}-i\\frac{\\delta}{\\Omega'}\\sin\\frac{\\Omega't}{2}\\right)e^{i\\delta t/2}  \\\\\n",
    "c_e(t) &= -i\\frac{\\Omega}{\\Omega'}\\sin\\frac{\\Omega't}{2}e^{-i\\delta t/2}\\\\\n",
    "\\Omega' &= \\sqrt{\\Omega^2 + \\delta^2} \n",
    "\\end{align}\n",
    "The Rabifrequency of each n state is given by \n",
    "$$\n",
    "\\Omega_{n,n+s}=\\Omega_0e^{-\\eta^2/2}\\eta^{|s|}\\sqrt{\\frac{n_<!}{n_>!}}L_{n_<}^{|s|}(\\eta^2)\n",
    "$$\n",
    "\n",
    "Note also if we assume a thermal distribution (ie pretend the ion is coupled to a reservoir at temp T), we find a probability distribution of motional modes as\n",
    "$$\n",
    "T=\\frac{\\hbar \\nu}{k_B ln\\left(\\frac{\\bar{n}}{\\bar{n}+1}\\right)}\n",
    "$$\n",
    "$$\n",
    "P_n=\\frac{\\bar{n}^n}{(\\bar{n}+1)^{n+1})}\n",
    "$$"
   ]
  },
  {
   "cell_type": "code",
   "execution_count": 26,
   "id": "burning-litigation",
   "metadata": {},
   "outputs": [],
   "source": [
    "import matplotlib.pyplot as plt\n",
    "import numpy as np\n",
    "from matplotlib.ticker import MultipleLocator, FormatStrFormatter\n",
    "import math\n",
    "import statistics\n",
    "%matplotlib inline\n",
    "\n",
    "import time\n",
    "t0=time.time()\n",
    "##Variables\n",
    "hbar = 1.0545e-34\n",
    "k = 1.38e-23\n",
    "ws=200e3*2*np.pi\n",
    "W0=1*1e6  ##Rabi Frequency\n",
    "eta=.11\n",
    "d = 0  ##Detuning\n",
    "nmax=1500 #needs to be 2000 for convergence\n",
    "n_arr = np.linspace(0, nmax,nmax+1)\n",
    "pn = np.zeros(len(n_arr))\n",
    "del_n=0\n",
    "y = np.abs(eval_genlaguerre(n_arr-del_n,del_n,eta**2)*(eta)**del_n*np.exp(-.5*eta**2))\n",
    "wn=y*W0\n",
    "\n",
    "\n",
    "\n",
    "#Initial Conditions \n",
    "del_t = (4*np.pi/W0)/10e3\n",
    "t = np.arange(0,2*4*np.pi/W0,del_t)\n",
    "\n",
    "##make thermal state prob distribution\n",
    "nbar= 40"
   ]
  },
  {
   "cell_type": "code",
   "execution_count": 27,
   "id": "visible-mixer",
   "metadata": {
    "tags": []
   },
   "outputs": [
    {
     "name": "stdout",
     "output_type": "stream",
     "text": [
      "temp 0.0003888752640509976\n"
     ]
    },
    {
     "data": {
      "image/png": "[encoded data removed]",
      "text/plain": [
       "<Figure size 432x288 with 1 Axes>"
      ]
     },
     "metadata": {
      "needs_background": "light"
     },
     "output_type": "display_data"
    },
    {
     "name": "stdout",
     "output_type": "stream",
     "text": [
      "for loop time 0.4507944583892822\n",
      "graph time 0.07569289207458496\n",
      "total time 0.732783317565918\n",
      "number of state 1500\n",
      "nbar 40\n",
      "mean 40.000000000000156\n"
     ]
    }
   ],
   "source": [
    "T = hbar*ws/(k*np.log((nbar+1)/nbar))\n",
    "print('temp', T)\n",
    "z=0\n",
    "for n in n_arr:\n",
    "    z += np.exp(-n*hbar*ws/(k*T))\n",
    "                \n",
    "for i in range(len(pn)):\n",
    "    pn[i] = np.exp(-n_arr[i]*hbar*ws/(k*T))/z\n",
    "\n",
    "mean=0\n",
    "for x,y in zip(n_arr,pn):\n",
    "    mean += x*y\n",
    "\n",
    "\n",
    "t3=time.time()\n",
    "\n",
    "##Analytic Solution\n",
    "\n",
    "cgtot=np.zeros(len(t))\n",
    "for i in range(nmax):\n",
    "    Wp= math.sqrt(wn[i]**2+d**2)\n",
    "    cgtot=cgtot+pn[i]*(np.cos(Wp*t/2))**2+(d/Wp)**2*(np.sin(Wp*t/2))**2\n",
    "#     ce=((wn[i]/Wp)**2 * np.sin(Wp*t/2))**2\n",
    "\n",
    "\n",
    "t4=time.time()\n",
    "fig = plt.figure()\n",
    "fig.suptitle('Analytic Result', fontsize=20)\n",
    "ax = fig.gca()\n",
    "ax.set_ylim(0,1.0)\n",
    "plt.ticklabel_format(style='sci', axis='x', scilimits=(0,0))\n",
    "plt.plot(t,cgtot , color = 'darkred')\n",
    "#     plt.plot(t,ce , color = 'darkblue')\n",
    "#     plt.plot(t,cg , color = 'darkred',label=\"|g>, $\\delta = 0$ \")\n",
    "#     plt.plot(t,ce , color = 'darkblue',label=\"|e>, $\\delta = 0$ \")\n",
    "# plt.legend(loc=(1.04,.51))\n",
    "plt.grid()\n",
    "plt.show()\n",
    "\n",
    "t5=time.time()\n",
    "print('for loop time', t4-t3)\n",
    "print('graph time', t5-t4)\n",
    "print('total time', t5-t0)\n",
    "print('number of state' , nmax)\n",
    "print('nbar', nbar)\n",
    "print('mean',mean)"
   ]
  },
  {
   "cell_type": "code",
   "execution_count": 18,
   "id": "blind-variety",
   "metadata": {},
   "outputs": [
    {
     "name": "stdout",
     "output_type": "stream",
     "text": [
      "temp 0.28807518838216967\n"
     ]
    },
    {
     "data": {
      "image/png": "[encoded data removed]",
      "text/plain": [
       "<Figure size 432x288 with 1 Axes>"
      ]
     },
     "metadata": {
      "needs_background": "light"
     },
     "output_type": "display_data"
    },
    {
     "name": "stdout",
     "output_type": "stream",
     "text": [
      "for loop time 6.846186399459839\n",
      "graph time 0.10970354080200195\n",
      "total time 51.613487005233765\n",
      "number of state 1500\n",
      "nbar 30000\n",
      "mean 743.7420320530956\n"
     ]
    }
   ],
   "source": [
    "#with decoherence term\n",
    "\n",
    "T = hbar*ws/(k*np.log((nbar+1)/nbar))\n",
    "print('temp', T)\n",
    "z=0\n",
    "for n in n_arr:\n",
    "    z += np.exp(-n*hbar*ws/(k*T))\n",
    "                \n",
    "for i in range(len(pn)):\n",
    "    pn[i] = np.exp(-n_arr[i]*hbar*ws/(k*T))/z\n",
    "\n",
    "mean=0\n",
    "for x,y in zip(n_arr,pn):\n",
    "    mean += x*y\n",
    "\n",
    "\n",
    "t3=time.time()\n",
    "\n",
    "##Analytic Solution\n",
    "gam = 1e-9\n",
    "cgtot=np.zeros(len(t))\n",
    "for i in range(nmax):\n",
    "    Wp= math.sqrt(wn[i]**2+d**2)\n",
    "    cgtot=cgtot+pn[i]*.5*(1-np.exp(-gam*t)*np.cos(Wp*t))\n",
    "#     ce=((wn[i]/Wp)**2 * np.sin(Wp*t/2))**2\n",
    "\n",
    "\n",
    "t4=time.time()\n",
    "fig = plt.figure()\n",
    "fig.suptitle('Analytic Result', fontsize=20)\n",
    "ax = fig.gca()\n",
    "ax.set_ylim(0,1.0)\n",
    "plt.ticklabel_format(style='sci', axis='x', scilimits=(0,0))\n",
    "plt.plot(t,cgtot , color = 'darkred')\n",
    "#     plt.plot(t,ce , color = 'darkblue')\n",
    "#     plt.plot(t,cg , color = 'darkred',label=\"|g>, $\\delta = 0$ \")\n",
    "#     plt.plot(t,ce , color = 'darkblue',label=\"|e>, $\\delta = 0$ \")\n",
    "# plt.legend(loc=(1.04,.51))\n",
    "plt.grid()\n",
    "plt.show()\n",
    "\n",
    "t5=time.time()\n",
    "print('for loop time', t4-t3)\n",
    "print('graph time', t5-t4)\n",
    "print('total time', t5-t0)\n",
    "print('number of state' , nmax)\n",
    "print('nbar', nbar)\n",
    "print('mean',mean)"
   ]
  },
  {
   "cell_type": "code",
   "execution_count": 220,
   "id": "economic-creator",
   "metadata": {},
   "outputs": [
    {
     "name": "stdout",
     "output_type": "stream",
     "text": [
      "74.98167446946763\n"
     ]
    }
   ],
   "source": [
    "T=360e-6\n",
    "1/(1-np.exp(-hbar*ws/(k*T)))**3\n",
    "print(6*k*T/(hbar*ws)/3)"
   ]
  },
  {
   "cell_type": "markdown",
   "id": "secret-economy",
   "metadata": {},
   "source": [
    "We would now like to answer the question of why the decay does not always go to .5. We can do this by adding a decoherence term to the Hamiltonian."
   ]
  },
  {
   "cell_type": "code",
   "execution_count": null,
   "id": "explicit-spiritual",
   "metadata": {},
   "outputs": [],
   "source": []
  }
 ],
 "metadata": {
  "kernelspec": {
   "display_name": "Python 3",
   "language": "python",
   "name": "python3"
  },
  "language_info": {
   "codemirror_mode": {
    "name": "ipython",
    "version": 3
   },
   "file_extension": ".py",
   "mimetype": "text/x-python",
   "name": "python",
   "nbconvert_exporter": "python",
   "pygments_lexer": "ipython3",
   "version": "3.9.2"
  }
 },
 "nbformat": 4,
 "nbformat_minor": 5
}
