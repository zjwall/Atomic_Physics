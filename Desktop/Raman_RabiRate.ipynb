{
 "cells": [
  {
   "cell_type": "markdown",
   "id": "typical-detector",
   "metadata": {},
   "source": [
    "Raman rabi rate calculation"
   ]
  },
  {
   "cell_type": "code",
   "execution_count": 2,
   "id": "wrong-triumph",
   "metadata": {},
   "outputs": [
    {
     "name": "stdout",
     "output_type": "stream",
     "text": [
      "0.001\n",
      "power 0.00412572964197145\n",
      "error 1.025805538916119e-05\n"
     ]
    }
   ],
   "source": [
    "import matplotlib.pyplot as plt\n",
    "import numpy as np\n",
    "from scipy.optimize import curve_fit\n",
    "from scipy.special import factorial\n",
    "import scipy.constants as sc\n",
    "import sympy\n",
    "from sympy import S\n",
    "from sympy.physics.wigner import wigner_3j\n",
    "from sympy.physics.wigner import wigner_6j\n",
    "import numpy as np\n",
    "import scipy.constants as sc\n",
    "\n",
    "\n",
    "I = 2*.1/(np.pi*(60e-6)**2)\n",
    "E = np.sqrt(2*I/(sc.c*sc.epsilon_0))\n",
    "w = 2*np.pi*620e12\n",
    "w32 = 2*np.pi*(658)*1e12\n",
    "d = w-w32\n",
    "gampi = 2*np.pi*15.1e6\n",
    "wpi = 2*np.pi*607.425890e12\n",
    "mpi = sympy.sqrt((gampi*3*np.pi*sc.epsilon_0*sc.hbar*sc.c**3)/(wpi**3))\n",
    "# gpi = E*mpi/(2*sc.hbar)\n",
    "\n",
    "\n",
    "##single qubit gate time and scatter\n",
    "tg = 250e-6\n",
    "rr = np.pi/(2*tg)\n",
    "print(rr/(2*np.pi*1e6))\n",
    "gpi = sympy.sqrt(rr*-d*(15/2))\n",
    "E = (gpi*2*sc.hbar)/mpi\n",
    "I = (E**2*sc.c*sc.epsilon_0)/2\n",
    "p = I*np.pi*(40e-6)**2/2\n",
    "print('power', p)\n",
    "sr = 0.01025805538916119*4\n",
    "er = tg*sr\n",
    "\n",
    "print('error', er)"
   ]
  },
  {
   "cell_type": "code",
   "execution_count": 3,
   "id": "balanced-contributor",
   "metadata": {
    "tags": []
   },
   "outputs": [
    {
     "name": "stdout",
     "output_type": "stream",
     "text": [
      "rabi rate 0.062421572159882865\n",
      "power 0.00412572964197145\n",
      "error 8.993348562908425\n"
     ]
    }
   ],
   "source": [
    "##two qubit gate time and scatter prob\n",
    "tg = 50e-6\n",
    "m=2.2085e-25\n",
    "w_s = 2*np.pi*1e6\n",
    "z0 = sympy.sqrt(sc.hbar/(4*m*w_s))\n",
    "eta = sympy.sqrt(2)*w*z0/sc.c\n",
    "\n",
    "rr = np.pi/(2*tg)*(1/eta)\n",
    "\n",
    "print('rabi rate', float(rr/(2*np.pi*1e6)))\n",
    "\n",
    "# E = (gpi*2*sc.hbar)/mpi\n",
    "# I = (E**2*sc.c*sc.epsilon_0)/2\n",
    "# p = I*np.pi*(20e-6)**2/2\n",
    "\n",
    "\n",
    "print('power', p)\n",
    "sr = 0.00044966742814542125*4\n",
    "er = tg*sr\n",
    "print('error', er/1e-8)\n"
   ]
  },
  {
   "cell_type": "code",
   "execution_count": 4,
   "id": "fancy-pointer",
   "metadata": {
    "tags": []
   },
   "outputs": [
    {
     "name": "stdout",
     "output_type": "stream",
     "text": [
      "gate time us 121.02062548055542\n",
      "error 0.5779945072951327\n"
     ]
    }
   ],
   "source": [
    "##two qubit gate time and scatter prob\n",
    "m=2.2085e-25\n",
    "w_s = 2*np.pi*5e6\n",
    "z0 = sympy.sqrt(sc.hbar/(4*m*w_s))\n",
    "eta = sympy.sqrt(2)*w*z0/sc.c\n",
    "rr =2*np.pi*0.0576673926686707e6\n",
    "# rr =2*np.pi*0.29646393686189515e6\n",
    "\n",
    "tg = np.pi/(2*rr*eta)\n",
    "\n",
    "\n",
    "\n",
    "\n",
    "print('gate time us' , float(tg)/1e-6)\n",
    "\n",
    "sr = 0.1194*4\n",
    "er = tg*sr\n",
    "print('error', float(er/1e-4))\n"
   ]
  },
  {
   "cell_type": "code",
   "execution_count": 5,
   "id": "creative-equity",
   "metadata": {
    "tags": []
   },
   "outputs": [
    {
     "data": {
      "text/plain": [
       "-0.4967265628830681"
      ]
     },
     "execution_count": 5,
     "metadata": {},
     "output_type": "execute_result"
    }
   ],
   "source": [
    "import sympy\n",
    "from sympy import S\n",
    "from sympy.physics.wigner import wigner_3j\n",
    "from sympy.physics.wigner import wigner_6j\n",
    "import numpy as np\n",
    "import scipy.constants as sc\n",
    "\n",
    "I = 2*.11/(np.pi*(29.3e-6)**2)\n",
    "E = np.sqrt(2*I/(sc.c*sc.epsilon_0))\n",
    "a = 1/(4*np.pi*sc.epsilon_0*sc.hbar*sc.c)\n",
    "\n",
    "gam1ps = 2*np.pi*15.1e6\n",
    "gam2ps = 2*np.pi*18.8e6\n",
    "gam1pd1 = 2*np.pi*5.3e6\n",
    "gam2pd1 = 2*np.pi*.7e6\n",
    "gam2pd2 = 2*np.pi*5.9e6\n",
    "\n",
    "\n",
    "###i = |F=0, mf=0, L=0> ###\n",
    "si = S(1)/2\n",
    "fi = 0\n",
    "mfi = 0\n",
    "ji = S(1)/2\n",
    "li = 0\n",
    "wi = 2*np.pi*(9.925e9)\n",
    "q= 1\n",
    "\n",
    "##--------------------- f = |F=1, J=1/2, L=0, mf=0> -----------------------------##\n",
    "sf = S(1)/2\n",
    "ff = 1\n",
    "mff = 0\n",
    "jf = S(1)/2\n",
    "lf = 0\n",
    "\n",
    "wf = 2*np.pi*(0)\n",
    "con = (E/(2*sc.hbar))**2\n",
    "\n",
    "\n",
    "##--------------------- l = |F=1, J=1/2, L=0, mf=-1> -----------------------------##\n",
    "sl = S(1)/2\n",
    "fl = 1\n",
    "mfl = -1\n",
    "jl = S(1)/2\n",
    "ll = 1\n",
    "wl = 2*np.pi*(607.429890e12-1.815e9)\n",
    "\n",
    "\n",
    "glf = gam1ps\n",
    "gli = gam1ps\n",
    "\n",
    "\n",
    "\n",
    "#i -- > l e_q ##\n",
    "c1 = wigner_3j(fl, 1, fi, -mfl, -q , mfi)*(-1)**(fl-mfl)*sympy.sqrt(2*fl+1)\n",
    "c2 = wigner_6j(jl,fl,S(1)/2,fi,ji,1)*sympy.sqrt(2*fi+1)*(-1)**(jl+S(1)/2+fi+1)\n",
    "x = c1*c2*sympy.sqrt(2*jl+1)\n",
    "\n",
    "mu12 = np.sqrt(gli*3*sc.c**2/(4*a*wl**3))*x\n",
    "\n",
    "##l --> f e_q ##\n",
    "\n",
    "c1 = wigner_3j(fl, 1, ff, -mfl,  -q , mff)*(-1)**(fl-mfl)*sympy.sqrt(2*fl+1)\n",
    "c2 = wigner_6j(jl,fl,S(1)/2,ff,jf,1)*sympy.sqrt(2*ff+1)*(-1)**(jl+S(1)/2+ff+1)\n",
    "x = c1*c2*sympy.sqrt(2*jl+1)\n",
    "\n",
    "mu21 = np.sqrt(glf*3*sc.c**2/(4*a*wl**3))*x\n",
    "\n",
    "t11 = mu12*mu21/(w-wl)\n",
    "\n",
    "\n",
    "##--------------------- l = |F=1, J=1/2, L=0, mf=1> -----------------------------##\n",
    "sl = S(1)/2\n",
    "fl = 1\n",
    "mfl = 1\n",
    "jl = S(1)/2\n",
    "ll = 1\n",
    "wl = 2*np.pi*(607.429890e12-1.815e9)\n",
    "\n",
    "\n",
    "glf = gam1ps\n",
    "gli = gam1ps\n",
    "\n",
    "#i -- > l e_q ##\n",
    "c1 = wigner_3j(fl, 1, fi, -mfl, q , mfi)*(-1)**(fl-mfl)*sympy.sqrt(2*fl+1)\n",
    "c2 = wigner_6j(jl,fl,S(1)/2,fi,ji,1)*sympy.sqrt(2*fi+1)*(-1)**(jl+S(1)/2+fi+1)\n",
    "x = c1*c2*sympy.sqrt(2*jl+1)\n",
    "mu12 = np.sqrt(gli*3*sc.c**2/(4*a*wl**3))*x\n",
    "\n",
    "##l --> f e_q ##\n",
    "\n",
    "c1 = wigner_3j(fl, 1, ff, -mfl,  q , mff)*(-1)**(fl-mfl)*sympy.sqrt(2*fl+1)\n",
    "c2 = wigner_6j(jl,fl,S(1)/2,ff,jf,1)*sympy.sqrt(2*ff+1)*(-1)**(jl+S(1)/2+ff+1)\n",
    "x = c1*c2*sympy.sqrt(2*jl+1)\n",
    "mu21 = np.sqrt(glf*3*sc.c**2/(4*a*wl**3))*x\n",
    "\n",
    "t12 = mu12*mu21/(w-wl)\n",
    "\n",
    "\n",
    "##--------------------- l = |F=1, J=1/2, L=0, mf=-1> -----------------------------##\n",
    "sl = S(1)/2\n",
    "fl = 1\n",
    "mfl = -1\n",
    "jl = S(3)/2\n",
    "ll = 1\n",
    "wl = 2*np.pi*(658.115271e12+625e6)\n",
    "\n",
    "glf = gam2ps\n",
    "gli = gam2ps\n",
    "\n",
    "#i -- > l e_q ##\n",
    "c1 = wigner_3j(fl, 1, fi, -mfl, -q , mfi)*(-1)**(fl-mfl)*sympy.sqrt(2*fl+1)\n",
    "c2 = wigner_6j(jl,fl,S(1)/2,fi,ji,1)*sympy.sqrt(2*fi+1)*(-1)**(jl+S(1)/2+fi+1)\n",
    "x = c1*c2*sympy.sqrt(2*jl+1)\n",
    "mu12 = np.sqrt(gli*3*sc.c**2/(4*a*wl**3))*x\n",
    "\n",
    "##l --> f e_q ##\n",
    "\n",
    "c1 = wigner_3j(fl, 1, ff, -mfl,  -q , mff)*(-1)**(fl-mfl)*sympy.sqrt(2*fl+1)\n",
    "c2 = wigner_6j(jl,fl,S(1)/2,ff,jf,1)*sympy.sqrt(2*ff+1)*(-1)**(jl+S(1)/2+ff+1)\n",
    "x = c1*c2*sympy.sqrt(2*jl+1)\n",
    "\n",
    "mu21 = np.sqrt(glf*3*sc.c**2/(4*a*wl**3))*x\n",
    "t21 = mu12*mu21/(w-wl)\n",
    "\n",
    "\n",
    "##--------------------- l = |F=1, J=3/2, L=1, mf=1> -----------------------------##\n",
    "sl = S(1)/2\n",
    "fl = 1\n",
    "mfl = 1\n",
    "jl = S(3)/2\n",
    "ll = 1\n",
    "wl = 2*np.pi*(658.115271e12+625e6)\n",
    "\n",
    "\n",
    "glf = gam2ps\n",
    "gli = gam2ps\n",
    "\n",
    "#i -- > l e_q ##\n",
    "c1 = wigner_3j(fl, 1, fi, -mfl, q , mfi)*(-1)**(fl-mfl)*sympy.sqrt(2*fl+1)\n",
    "c2 = wigner_6j(jl,fl,S(1)/2,fi,ji,1)*sympy.sqrt(2*fi+1)*(-1)**(jl+S(1)/2+fi+1)\n",
    "x = c1*c2*sympy.sqrt(2*jl+1)\n",
    "mu12 = np.sqrt(gli*3*sc.c**2/(4*a*wl**3))*x\n",
    "##l --> f e_q ##\n",
    "\n",
    "c1 = wigner_3j(fl, 1, ff, -mfl,  q , mff)*(-1)**(fl-mfl)*sympy.sqrt(2*fl+1)\n",
    "c2 = wigner_6j(jl,fl,S(1)/2,ff,jf,1)*sympy.sqrt(2*ff+1)*(-1)**(jl+S(1)/2+ff+1)\n",
    "x = c1*c2*sympy.sqrt(2*jl+1)\n",
    "mu21 = np.sqrt(glf*3*sc.c**2/(4*a*wl**3))*x\n",
    "t22 = mu12*mu21/(w-wl)\n",
    "\n",
    "rr = con*(-t11+t12)\n",
    "rr1 = con*(t21-t22)\n",
    "\n",
    "float((rr-rr1)/(2*np.pi*1e6)/2)"
   ]
  },
  {
   "cell_type": "code",
   "execution_count": 6,
   "id": "affected-navigator",
   "metadata": {},
   "outputs": [
    {
     "data": {
      "text/plain": [
       "-0.48883641310480846"
      ]
     },
     "execution_count": 6,
     "metadata": {},
     "output_type": "execute_result"
    }
   ],
   "source": [
    "I = 2*.11/(np.pi*(29.3e-6)**2)\n",
    "E = np.sqrt(2*I/(sc.c*sc.epsilon_0))\n",
    "w32 = 2*np.pi*658.118e12\n",
    "w12 = 2*np.pi*607.429e12\n",
    "wf = w32-w12\n",
    "\n",
    "gam = 2*np.pi*18.8e6\n",
    "d = w-w12\n",
    "\n",
    "g= E*np.sqrt(gam*3*np.pi*sc.c**3*sc.epsilon_0/(w32**3*4*sc.hbar))\n",
    "rr = g**2*1/3*(wf/(d*(d-wf)))\n",
    "\n",
    "float(rr/(2*np.pi*1e6))"
   ]
  },
  {
   "cell_type": "code",
   "execution_count": 7,
   "id": "flying-component",
   "metadata": {},
   "outputs": [
    {
     "data": {
      "text/plain": [
       "-0.5859972297719616"
      ]
     },
     "execution_count": 7,
     "metadata": {},
     "output_type": "execute_result"
    }
   ],
   "source": [
    "I = 2*.2/(np.pi*(20e-6)**2)\n",
    "E = np.sqrt(2*I/(sc.c*sc.epsilon_0))\n",
    "gampi = 2*np.pi*15.1e6\n",
    "wpi = 2*np.pi*607.425890e12\n",
    "d = w-wpi\n",
    "mpi = sympy.sqrt((gampi*3*np.pi*sc.epsilon_0*sc.hbar*sc.c**3)/(wpi**3))\n",
    "gpi = E*mpi/(2*sc.hbar)\n",
    "rr = (2/15)*gpi**2/d\n",
    "float(-rr/(2*np.pi*1e6))"
   ]
  },
  {
   "cell_type": "code",
   "execution_count": 8,
   "id": "robust-canada",
   "metadata": {},
   "outputs": [
    {
     "name": "stdout",
     "output_type": "stream",
     "text": [
      "0.034\n"
     ]
    },
    {
     "data": {
      "text/plain": [
       "1.456655417235406"
      ]
     },
     "execution_count": 8,
     "metadata": {},
     "output_type": "execute_result"
    }
   ],
   "source": [
    "eta = .034\n",
    "gam = 2*np.pi*20.1e6\n",
    "wf = 2*np.pi*51e12\n",
    "print(float(eta))\n",
    "edinf = 3*np.pi*4*gam/(3*wf*eta)\n",
    "float(edinf/1e-4)"
   ]
  },
  {
   "cell_type": "code",
   "execution_count": 15,
   "id": "latter-broadcast",
   "metadata": {},
   "outputs": [
    {
     "name": "stdout",
     "output_type": "stream",
     "text": [
      "6.47293251490738\n",
      "76.0\n",
      "rr 137.825182047846\n",
      "79.57747154594767\n",
      "power 0.0216664968772527\n"
     ]
    }
   ],
   "source": [
    "import matplotlib.pyplot as plt\n",
    "import numpy as np\n",
    "from scipy.optimize import curve_fit\n",
    "from scipy.special import factorial\n",
    "import scipy.constants as sc\n",
    "import sympy\n",
    "from sympy import S\n",
    "from sympy.physics.wigner import wigner_3j\n",
    "from sympy.physics.wigner import wigner_6j\n",
    "import numpy as np\n",
    "import scipy.constants as sc\n",
    "\n",
    "\n",
    "I = 2*.2/(np.pi*(40e-6)**2)\n",
    "E = np.sqrt(2*I/(sc.c*sc.epsilon_0))\n",
    "w = 2*np.pi*563e12\n",
    "wf = 2*np.pi*(487)*1e12\n",
    "d = w-wf\n",
    "gam = 2*np.pi*5.9e6\n",
    "wpi = 2*np.pi*487e12\n",
    "mpi = sympy.sqrt((gam*3*np.pi*sc.epsilon_0*sc.hbar*sc.c**3)/(wpi**3))\n",
    "# gpi = E*mpi/(2*sc.hbar)\n",
    "\n",
    "##single qubit gate time and scatter\n",
    "\n",
    "g= E*np.sqrt(gam*3*np.pi*sc.c**3*sc.epsilon_0/(wf**3*4*sc.hbar))\n",
    "g = E*mpi/(sc.hbar)\n",
    "print(g/(2*np.pi*1e9))\n",
    "rr = g**2*(1/(4*d))\n",
    "print(d/(2*np.pi*1e12))\n",
    "print('rr', rr/(2*np.pi*1e3))\n",
    "print(I/1e6)\n",
    "print('power', p)"
   ]
  },
  {
   "cell_type": "code",
   "execution_count": 17,
   "id": "gentle-process",
   "metadata": {},
   "outputs": [
    {
     "data": {
      "text/latex": [
       "$\\displaystyle 1.15475953470277 \\cdot 10^{-6}$"
      ],
      "text/plain": [
       "1.15475953470277e-6"
      ]
     },
     "execution_count": 17,
     "metadata": {},
     "output_type": "execute_result"
    }
   ],
   "source": [
    "1/(rr)"
   ]
  },
  {
   "cell_type": "code",
   "execution_count": 11,
   "id": "periodic-circulation",
   "metadata": {},
   "outputs": [
    {
     "data": {
      "text/plain": [
       "1.8999998196989054e-07"
      ]
     },
     "execution_count": 11,
     "metadata": {},
     "output_type": "execute_result"
    }
   ],
   "source": [
    "(1-np.exp(-5.7e-7/3))"
   ]
  },
  {
   "cell_type": "code",
   "execution_count": null,
   "id": "widespread-knife",
   "metadata": {},
   "outputs": [],
   "source": []
  },
  {
   "cell_type": "code",
   "execution_count": 12,
   "id": "medical-springer",
   "metadata": {},
   "outputs": [
    {
     "data": {
      "text/plain": [
       "1.2391227575903052e-05"
      ]
     },
     "execution_count": 12,
     "metadata": {},
     "output_type": "execute_result"
    }
   ],
   "source": [
    "1-(np.exp(-5.7e-7/46e-3))**(1)"
   ]
  },
  {
   "cell_type": "code",
   "execution_count": 13,
   "id": "nervous-alpha",
   "metadata": {},
   "outputs": [
    {
     "name": "stdout",
     "output_type": "stream",
     "text": [
      "-0.000551454955879219\n",
      "2.38799200597734\n",
      "power 0.00600167851424766\n",
      "-288.6091445821621\n"
     ]
    }
   ],
   "source": [
    "import matplotlib.pyplot as plt\n",
    "import numpy as np\n",
    "from scipy.optimize import curve_fit\n",
    "from scipy.special import factorial\n",
    "import scipy.constants as sc\n",
    "import sympy\n",
    "from sympy import S\n",
    "from sympy.physics.wigner import wigner_3j\n",
    "from sympy.physics.wigner import wigner_6j\n",
    "import numpy as np\n",
    "import scipy.constants as sc\n",
    "\n",
    "\n",
    "I = 2*.02/(np.pi*(80e-6)**2)\n",
    "E = np.sqrt(2*I/(sc.c*sc.epsilon_0))\n",
    "w = 2*np.pi*563e12\n",
    "wf = 2*np.pi*(487)*1e12\n",
    "d = w-wf\n",
    "gam = 2*np.pi*5.9e6\n",
    "wpi = 2*np.pi*487e12\n",
    "mpi = sympy.sqrt((gam*3*np.pi*sc.epsilon_0*sc.hbar*sc.c**3)/(wpi**3))\n",
    "\n",
    "##single qubit gate time and scatter\n",
    "\n",
    "\n",
    "g= E*np.sqrt(gam*3*np.pi*sc.c**3*sc.epsilon_0/(w32**3*4*sc.hbar))\n",
    "rr = g**2*1/3*(wf/(d*(d-wf)))\n",
    "\n",
    "print(rr/(2*np.pi*1e6))\n",
    "gpi = sympy.sqrt(rr*-d*(15/2))\n",
    "E = (gpi*2*sc.hbar)/mpi\n",
    "I = (E**2*sc.c*sc.epsilon_0)/2\n",
    "p = I*np.pi*(40e-6)**2/2\n",
    "print(I/1e6)\n",
    "print('power', p)\n",
    "print(1/rr*1e6)"
   ]
  },
  {
   "cell_type": "code",
   "execution_count": 14,
   "id": "productive-compression",
   "metadata": {},
   "outputs": [
    {
     "name": "stdout",
     "output_type": "stream",
     "text": [
      "2.15520629843742\n",
      "power 0.0216664968772527\n"
     ]
    }
   ],
   "source": [
    "rr = (2*np.pi/267.9e-6)\n",
    "rr1=np.sqrt(4*d*rr)\n",
    "E = rr1/mpi*sc.hbar\n",
    "I = (E**2*sc.c*sc.epsilon_0)/2\n",
    "p = I*np.pi*(80e-6)**2/2\n",
    "print(I/1e6)\n",
    "print('power', p)"
   ]
  },
  {
   "cell_type": "code",
   "execution_count": null,
   "id": "occupational-saskatchewan",
   "metadata": {},
   "outputs": [],
   "source": []
  }
 ],
 "metadata": {
  "kernelspec": {
   "display_name": "Python 3",
   "language": "python",
   "name": "python3"
  },
  "language_info": {
   "codemirror_mode": {
    "name": "ipython",
    "version": 3
   },
   "file_extension": ".py",
   "mimetype": "text/x-python",
   "name": "python",
   "nbconvert_exporter": "python",
   "pygments_lexer": "ipython3",
   "version": "3.9.2"
  }
 },
 "nbformat": 4,
 "nbformat_minor": 5
}
