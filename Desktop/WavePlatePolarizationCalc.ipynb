{
 "cells": [
  {
   "cell_type": "code",
   "execution_count": 14,
   "id": "bright-number",
   "metadata": {},
   "outputs": [
    {
     "data": {
      "text/plain": [
       "array([6.123234e-17+0.j, 1.000000e+00+0.j])"
      ]
     },
     "execution_count": 14,
     "metadata": {},
     "output_type": "execute_result"
    }
   ],
   "source": [
    "##input polarization##\n",
    "import numpy as np\n",
    "v = np.array([1,0],dtype = complex)\n",
    "\n",
    "def halfwp(th):\n",
    "    mat = np.array([[np.cos(2*th),np.sin(2*th)],[np.sin(2*th), -np.cos(2*th)]], dtype = complex)\n",
    "    return mat\n",
    "# def quarterwp(th,p):\n",
    "#     mat = np.array([np.cos(th)**2+i*np.sin(th)**2,np.sin(2*th)][np.sin(2*th), -np.cos(2*th)])\n",
    "#     return mat\n",
    "\n",
    "\n",
    "th = np.pi/4\n",
    "np.trunc(np.matmul(v,halfwp(th))"
   ]
  },
  {
   "cell_type": "code",
   "execution_count": null,
   "id": "cardiac-friday",
   "metadata": {},
   "outputs": [],
   "source": []
  }
 ],
 "metadata": {
  "kernelspec": {
   "display_name": "Python 3",
   "language": "python",
   "name": "python3"
  },
  "language_info": {
   "codemirror_mode": {
    "name": "ipython",
    "version": 3
   },
   "file_extension": ".py",
   "mimetype": "text/x-python",
   "name": "python",
   "nbconvert_exporter": "python",
   "pygments_lexer": "ipython3",
   "version": "3.9.2"
  }
 },
 "nbformat": 4,
 "nbformat_minor": 5
}
