{
 "cells": [
  {
   "cell_type": "code",
   "execution_count": 2,
   "id": "portuguese-cruise",
   "metadata": {},
   "outputs": [
    {
     "name": "stdout",
     "output_type": "stream",
     "text": [
      "1.1754195462556229e+39\n",
      "g 3.723361791641925\n",
      "rr -5.622824451177319\n",
      "6.323230961751503\n"
     ]
    }
   ],
   "source": [
    "\n",
    "import matplotlib.pyplot as plt\n",
    "import numpy as np\n",
    "from scipy.optimize import curve_fit\n",
    "from scipy.special import factorial\n",
    "import scipy.constants as sc\n",
    "###ozeri paper calc##\n",
    "gam1 = 2*np.pi*15.1e6\n",
    "gam  = 2*np.pi*20.1e6\n",
    "d = 2*np.pi*(563-607)*1e12\n",
    "wf = 2*np.pi*50.7e12\n",
    "w32 = 2*np.pi*658.118271e12\n",
    "gam3 = 2*np.pi*18.8e6\n",
    "\n",
    "I = 2*.11/(np.pi*(29.3e-6)**2)\n",
    "E = np.sqrt(2*I/(sc.c*sc.epsilon_0))\n",
    "g2 = (gam3*3*np.pi*sc.epsilon_0*sc.c**3*E**2)/(4*sc.hbar*w32**3)\n",
    "print(E/(2*sc.hbar))\n",
    "print('g', np.sqrt(g2)/(2*np.pi*1e9))\n",
    "rr = .1*g2/3*(wf/(d*(wf-d)))\n",
    "\n",
    "print('rr', rr/(1e3*2*np.pi))\n",
    "print((rr)**2/(5e6*(2*np.pi)**2))\n",
    "\n",
    "\n",
    "\n",
    "sr = (gam1/3)*(g2*((1/d**2)+(2/(d-wf)**2)))\n",
    "\n",
    "d3 = .24*(gam/3)*(g2*((1/d**2)))\n",
    "srd = .23*(gam/3)*(g2*((2/(d-wf)**2)))\n",
    "\n",
    "\n",
    "##Raman scat\n",
    "\n",
    "rsr = (2*gam3/9)*g2*(wf/(d*(d-wf)))**2\n",
    "\n",
    "\n"
   ]
  },
  {
   "cell_type": "code",
   "execution_count": 70,
   "id": "pacific-garbage",
   "metadata": {},
   "outputs": [
    {
     "data": {
      "text/plain": [
       "2.0880816351935336"
      ]
     },
     "execution_count": 70,
     "metadata": {},
     "output_type": "execute_result"
    }
   ],
   "source": [
    "R=.13\n",
    "I = 2.2\n",
    "z=.25+10e-6\n",
    "N = 200\n",
    "B = N*sc.mu_0/(4*np.pi)*(2*np.pi*R**2)*I/(z**2+R**2)**(3/2)\n",
    "B*10000"
   ]
  },
  {
   "cell_type": "code",
   "execution_count": 62,
   "id": "bearing-stress",
   "metadata": {},
   "outputs": [
    {
     "data": {
      "text/plain": [
       "0.0018000000000000238"
      ]
     },
     "execution_count": 62,
     "metadata": {},
     "output_type": "execute_result"
    }
   ],
   "source": [
    ".27455-.27275"
   ]
  },
  {
   "cell_type": "code",
   "execution_count": 71,
   "id": "danish-default",
   "metadata": {},
   "outputs": [
    {
     "data": {
      "text/plain": [
       "0.00019724398022180623"
      ]
     },
     "execution_count": 71,
     "metadata": {},
     "output_type": "execute_result"
    }
   ],
   "source": [
    "2.0882788791737554-2.0880816351935336"
   ]
  },
  {
   "cell_type": "code",
   "execution_count": null,
   "id": "brutal-efficiency",
   "metadata": {},
   "outputs": [],
   "source": []
  }
 ],
 "metadata": {
  "kernelspec": {
   "display_name": "Python 3",
   "language": "python",
   "name": "python3"
  },
  "language_info": {
   "codemirror_mode": {
    "name": "ipython",
    "version": 3
   },
   "file_extension": ".py",
   "mimetype": "text/x-python",
   "name": "python",
   "nbconvert_exporter": "python",
   "pygments_lexer": "ipython3",
   "version": "3.9.2"
  }
 },
 "nbformat": 4,
 "nbformat_minor": 5
}
