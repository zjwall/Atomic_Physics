{
 "cells": [
  {
   "cell_type": "code",
   "execution_count": 2,
   "id": "wireless-relation",
   "metadata": {},
   "outputs": [
    {
     "name": "stdout",
     "output_type": "stream",
     "text": [
      "20000\n",
      "19319\n",
      "59\n",
      "0.30539883016719294\n",
      "0.3058661240437447\n",
      "0.039698782102763085\n"
     ]
    }
   ],
   "source": [
    "import matplotlib.pyplot as plt\n",
    "import numpy as np\n",
    "from scipy.optimize import curve_fit\n",
    "from scipy.special import factorial\n",
    "import scipy.constants as sc\n",
    "\n",
    "%matplotlib inline\n",
    "\n",
    "data3 = np.loadtxt('Z:/Group_Share/Barium/Data/2022.dir/03.dir/2022_03_08.dir/00283 - green_shelving_hist.csv', delimiter = ',')\n",
    "data3 = data3[0:20000]\n",
    "counts = [i[2] for i in data3]\n",
    "print(len(counts))\n",
    "\n",
    "dcc = [i[1] for i in data3]\n",
    "dccind = [i for i in range(len(dcc)) if dcc[i] < 20]\n",
    "counts = [e for i, e in enumerate(counts) if i not in dccind]\n",
    "print(len(counts))\n",
    "\n",
    "dark = [i for i in counts if i < 10]\n",
    "print(len(dark))\n",
    "\n",
    "psc = ((len(dark))/len(counts))\n",
    "print(psc/10e-3)\n",
    "print(-np.log(1-psc)/10e-3)\n",
    "print(np.sqrt(psc*(1-psc)/len(counts))/10e-3)"
   ]
  },
  {
   "cell_type": "code",
   "execution_count": 3,
   "id": "diagnostic-nature",
   "metadata": {},
   "outputs": [
    {
     "name": "stdout",
     "output_type": "stream",
     "text": [
      "20000\n",
      "19995\n"
     ]
    }
   ],
   "source": [
    "data3 = np.loadtxt('Z:/Group_Share/Barium/Data/2022.dir/03.dir/2022_03_08.dir/00681 - green_shelving_hist.csv', delimiter = ',')\n",
    "data3 = data3[:20000]\n",
    "counts2 = [i[2] for i in data3]\n",
    "print(len(counts2))\n",
    "\n",
    "dcc = [i[1] for i in data3]\n",
    "dccind = [i for i in range(len(dcc)) if dcc[i] < 10]\n",
    "counts2 = [e for i, e in enumerate(counts2) if i not in dccind]\n",
    "print(len(counts2))\n",
    "dark2 = [i for i in counts2 if i < 7]\n"
   ]
  },
  {
   "cell_type": "code",
   "execution_count": 4,
   "id": "average-valuation",
   "metadata": {},
   "outputs": [
    {
     "name": "stdout",
     "output_type": "stream",
     "text": [
      "99\n"
     ]
    },
    {
     "data": {
      "image/png": "[encoded data removed]",
      "text/plain": [
       "<Figure size 432x288 with 1 Axes>"
      ]
     },
     "metadata": {
      "needs_background": "light"
     },
     "output_type": "display_data"
    }
   ],
   "source": [
    "# print(data)\n",
    "fig = plt.figure()\n",
    "fig.suptitle('Total Scattering Rate Histogram', fontsize=20)\n",
    "ax = fig.gca()\n",
    "\n",
    "\n",
    "\n",
    "plt.hist(counts2,  bins=int(max(counts)+2),color='r', edgecolor='k', label = \"With 10 ms 532\")\n",
    "plt.hist(counts,  bins=int(max(counts)), color  = 'b', edgecolor='k', label = \"10 ms Dark\")\n",
    "print(int(max(counts)))\n",
    "plt.xlabel('Kcounts/sec')\n",
    "plt.ylabel('Number of Experiments')\n",
    "plt.savefig(\"Z:\\Group_Share\\Barium\\Data\\Scattering Rate Graphs\\starkvsscatter(counts).png\",dpi=800)\n",
    "\n",
    "plt.legend(loc=(1.04,.51))\n",
    "plt.yscale('log')\n",
    "plt.show()"
   ]
  },
  {
   "cell_type": "code",
   "execution_count": 5,
   "id": "innocent-terrorism",
   "metadata": {},
   "outputs": [
    {
     "name": "stdout",
     "output_type": "stream",
     "text": [
      "0.2800700175043761\n",
      "0.28046294740193906\n",
      "0.03737348419825097\n"
     ]
    }
   ],
   "source": [
    "psc = ((len(dark2)-7)/len(counts2))\n",
    "print(psc/10e-3)\n",
    "print(-np.log(1-psc)/10e-3)\n",
    "print(np.sqrt(psc*(1-psc)/len(counts2))/10e-3)"
   ]
  },
  {
   "cell_type": "code",
   "execution_count": 6,
   "id": "incomplete-flush",
   "metadata": {},
   "outputs": [
    {
     "name": "stdout",
     "output_type": "stream",
     "text": [
      "20000\n",
      "19568\n",
      "0.14309076042518395\n",
      "0.1431932330179816\n",
      "0.02702225797832039\n",
      "32\n"
     ]
    }
   ],
   "source": [
    "data3 = np.loadtxt('Z:/Group_Share/Barium/Data/2022.dir/02.dir/2022_02_16.dir/00048 - green_shelving_hist.csv', delimiter = ',')\n",
    "data3 = data3[:20000]\n",
    "counts2 = [i[2] for i in data3]\n",
    "print(len(counts2))\n",
    "\n",
    "dcc = [i[1] for i in data3]\n",
    "dccind = [i for i in range(len(dcc)) if dcc[i] < 15]\n",
    "counts2 = [e for i, e in enumerate(counts2) if i not in dccind]\n",
    "print(len(counts2))\n",
    "dark2 = [i for i in counts2 if i < 10]\n",
    "\n",
    "psc = ((len(dark2)-4)/len(counts2))\n",
    "print(psc/10e-3)\n",
    "print(-np.log(1-psc)/10e-3)\n",
    "print(np.sqrt(psc*(1-psc)/len(counts2))/10e-3)\n",
    "\n",
    "print(len(dark2))\n",
    "\n"
   ]
  },
  {
   "cell_type": "code",
   "execution_count": 96,
   "id": "successful-farming",
   "metadata": {},
   "outputs": [
    {
     "data": {
      "text/plain": [
       "0.009358856868570457"
      ]
     },
     "execution_count": 96,
     "metadata": {},
     "output_type": "execute_result"
    }
   ],
   "source": [
    "9.358856868570456e-5*100"
   ]
  },
  {
   "cell_type": "code",
   "execution_count": 7,
   "id": "sacred-entity",
   "metadata": {},
   "outputs": [
    {
     "name": "stdout",
     "output_type": "stream",
     "text": [
      "20000\n",
      "19571\n",
      "4\n"
     ]
    }
   ],
   "source": [
    "\n",
    "\n",
    "import matplotlib.pyplot as plt\n",
    "import numpy as np\n",
    "from scipy.optimize import curve_fit\n",
    "from scipy.special import factorial\n",
    "import scipy.constants as sc\n",
    "\n",
    "%matplotlib inline\n",
    "\n",
    "data3 = np.loadtxt('Z:/Group_Share/Barium/Data/2022.dir/02.dir/2022_02_16.dir/00105 - green_shelving_hist.csv', delimiter = ',')\n",
    "data3 = data3[:20000]\n",
    "counts = [i[2] for i in data3]\n",
    "print(len(counts))\n",
    "\n",
    "dcc = [i[1] for i in data3]\n",
    "dccind = [i for i in range(len(dcc)) if dcc[i] < 15]\n",
    "counts = [e for i, e in enumerate(counts) if i not in dccind]\n",
    "print(len(counts))\n",
    "\n",
    "dark = [i for i in counts if i < 10]\n",
    "print(len(dark))"
   ]
  },
  {
   "cell_type": "code",
   "execution_count": 8,
   "id": "australian-magnitude",
   "metadata": {},
   "outputs": [
    {
     "name": "stdout",
     "output_type": "stream",
     "text": [
      "20000\n",
      "19580\n"
     ]
    }
   ],
   "source": [
    "data3 = np.loadtxt('Z:/Group_Share/Barium/Data/2022.dir/02.dir/2022_02_16.dir/00008 - green_shelving_hist.csv', delimiter = ',')\n",
    "data3 = data3[:20000]\n",
    "counts2 = [i[2] for i in data3]\n",
    "print(len(counts2))\n",
    "\n",
    "dcc = [i[1] for i in data3]\n",
    "dccind = [i for i in range(len(dcc)) if dcc[i] < 15]\n",
    "counts2 = [e for i, e in enumerate(counts2) if i not in dccind]\n",
    "print(len(counts2))\n",
    "dark2 = [i for i in counts2 if i < 5]\n"
   ]
  },
  {
   "cell_type": "code",
   "execution_count": 9,
   "id": "portable-fountain",
   "metadata": {},
   "outputs": [
    {
     "name": "stdout",
     "output_type": "stream",
     "text": [
      "78\n"
     ]
    },
    {
     "data": {
      "image/png": "[encoded data removed]",
      "text/plain": [
       "<Figure size 432x288 with 1 Axes>"
      ]
     },
     "metadata": {
      "needs_background": "light"
     },
     "output_type": "display_data"
    }
   ],
   "source": [
    "# print(data)\n",
    "fig = plt.figure()\n",
    "fig.suptitle('Total Scattering Rate Histogram', fontsize=20)\n",
    "ax = fig.gca()\n",
    "\n",
    "\n",
    "\n",
    "plt.hist(counts2,  bins=int(max(counts)+3),color='r', edgecolor='k', label = \"With 10 ms 532\")\n",
    "plt.hist(counts,  bins=int(max(counts)), color  = 'b', edgecolor='k', label = \"10 ms Dark\")\n",
    "print(int(max(counts)))\n",
    "plt.xlabel('Kcounts/sec')\n",
    "plt.ylabel('Number of Experiments')\n",
    "\n",
    "plt.legend(loc=(1.04,.51))\n",
    "plt.yscale('log')\n",
    "plt.show()"
   ]
  },
  {
   "cell_type": "code",
   "execution_count": 10,
   "id": "nonprofit-booth",
   "metadata": {},
   "outputs": [
    {
     "name": "stdout",
     "output_type": "stream",
     "text": [
      "20000\n",
      "19709\n",
      "0.345020041605358\n",
      "0.34561660832933233\n",
      "0.041767585463674366\n"
     ]
    }
   ],
   "source": [
    "data3 = np.loadtxt('Z:/Group_Share/Barium/Data/2022.dir/02.dir/2022_02_16.dir/00109 - green_shelving_hist.csv', delimiter = ',')\n",
    "data3 = data3[:20000]\n",
    "counts2 = [i[2] for i in data3]\n",
    "print(len(counts2))\n",
    "\n",
    "dcc = [i[1] for i in data3]\n",
    "dccind = [i for i in range(len(dcc)) if dcc[i] < 15]\n",
    "counts2 = [e for i, e in enumerate(counts2) if i not in dccind]\n",
    "print(len(counts2))\n",
    "dark2 = [i for i in counts2 if i < 10]\n",
    "\n",
    "psc = ((len(dark2))/len(counts2))\n",
    "print(psc/10e-3)\n",
    "print(-np.log(1-psc)/10e-3)\n",
    "print(np.sqrt(psc*(1-psc)/len(counts2))/10e-3)"
   ]
  },
  {
   "cell_type": "code",
   "execution_count": 11,
   "id": "moving-startup",
   "metadata": {},
   "outputs": [
    {
     "name": "stdout",
     "output_type": "stream",
     "text": [
      "20000\n",
      "19756\n",
      "0.28345818991698724\n",
      "0.2838606934435561\n",
      "0.03782497070589731\n"
     ]
    }
   ],
   "source": [
    "data3 = np.loadtxt('Z:/Group_Share/Barium/Data/2022.dir/02.dir/2022_02_16.dir/00155 - green_shelving_hist.csv', delimiter = ',')\n",
    "data3 = data3[:20000]\n",
    "counts2 = [i[2] for i in data3]\n",
    "print(len(counts2))\n",
    "\n",
    "dcc = [i[1] for i in data3]\n",
    "dccind = [i for i in range(len(dcc)) if dcc[i] < 15]\n",
    "counts2 = [e for i, e in enumerate(counts2) if i not in dccind]\n",
    "print(len(counts2))\n",
    "dark2 = [i for i in counts2 if i < 10]\n",
    "\n",
    "psc = ((len(dark2))/len(counts2))\n",
    "print(psc/10e-3)\n",
    "print(-np.log(1-psc)/10e-3)\n",
    "print(np.sqrt(psc*(1-psc)/len(counts2))/10e-3)"
   ]
  },
  {
   "cell_type": "code",
   "execution_count": 165,
   "id": "eastern-apple",
   "metadata": {},
   "outputs": [
    {
     "name": "stdout",
     "output_type": "stream",
     "text": [
      "21000\n",
      "20743\n",
      "27\n",
      "0.0013016439280721208\n",
      "0.0013024918023633043\n",
      "0.13024918023633042\n",
      "0.0002503384057947032\n",
      "0.025033840579470317\n",
      "slope 0.0002647341061714033\n"
     ]
    }
   ],
   "source": [
    "import numpy as np\n",
    "import math\n",
    "data3 = np.loadtxt('Z:/Group_Share/Barium/Data/2022.dir/08.dir/2022_08_18.dir/00207 - green_shelving_hist.csv', delimiter = ',')\n",
    "data3 = data3\n",
    "counts2 = [i[2] for i in data3]\n",
    "print(len(counts2))\n",
    "ss = 492\n",
    "dcc = [i[1] for i in data3]\n",
    "dccind = [i for i in range(len(dcc)) if dcc[i] < 15]\n",
    "counts2 = [e for i, e in enumerate(counts2) if i not in dccind]\n",
    "print(len(counts2))\n",
    "dark2 = [i for i in counts2 if i < 15]\n",
    "print(len(dark2))\n",
    "psc = ((len(dark2))/len(counts2))\n",
    "print(psc)\n",
    "# psc = psc-0.0006759692916807493\n",
    "print(-math.log(1-psc))\n",
    "sr = -math.log(1-psc)/10e-3\n",
    "print(sr)\n",
    "print(np.sqrt(psc*(1-psc)/len(counts2)))\n",
    "print(np.sqrt(psc*(1-psc)/len(counts2))/10e-3)\n",
    "\n",
    "print('slope', sr/ss)"
   ]
  },
  {
   "cell_type": "code",
   "execution_count": 80,
   "id": "boolean-orbit",
   "metadata": {
    "tags": []
   },
   "outputs": [
    {
     "data": {
      "text/plain": [
       "0.05980513497570967"
      ]
     },
     "execution_count": 80,
     "metadata": {},
     "output_type": "execute_result"
    }
   ],
   "source": [
    "np.sqrt(0.00024175773987442575**2+0.0005470087861790656**2)/10e-3"
   ]
  },
  {
   "cell_type": "code",
   "execution_count": 166,
   "id": "preliminary-classic",
   "metadata": {},
   "outputs": [
    {
     "data": {
      "text/plain": [
       "0.14473632618292362"
      ]
     },
     "execution_count": 166,
     "metadata": {},
     "output_type": "execute_result"
    }
   ],
   "source": [
    "0.13024918023633042/0.89990663485348"
   ]
  },
  {
   "cell_type": "code",
   "execution_count": null,
   "id": "graduate-lighter",
   "metadata": {},
   "outputs": [],
   "source": []
  },
  {
   "cell_type": "code",
   "execution_count": 4,
   "id": "brief-england",
   "metadata": {},
   "outputs": [
    {
     "name": "stdout",
     "output_type": "stream",
     "text": [
      "88\n"
     ]
    },
    {
     "data": {
      "image/png": "[encoded data removed]",
      "text/plain": [
       "<Figure size 432x288 with 1 Axes>"
      ]
     },
     "metadata": {
      "needs_background": "light"
     },
     "output_type": "display_data"
    }
   ],
   "source": [
    "# print(data)\n",
    "import matplotlib.pyplot as plt\n",
    "fig = plt.figure()\n",
    "fig.suptitle('Total Scattering Rate Histogram', fontsize=20)\n",
    "ax = fig.gca()\n",
    "\n",
    "\n",
    "plt.hist(counts2,  bins=int(max(counts2)),color='r', edgecolor='k', label = \"With 10 ms 532\")\n",
    "\n",
    "plt.axvline(x=20)\n",
    "\n",
    "\n",
    "\n",
    "\n",
    "print(int(max(counts2)))\n",
    "plt.xlabel('Kcounts/sec')\n",
    "plt.ylabel('Number of Experiments')\n",
    "\n",
    "plt.legend(loc=(1.04,.51))\n",
    "plt.yscale('log')\n",
    "plt.show()\n"
   ]
  },
  {
   "cell_type": "code",
   "execution_count": 155,
   "id": "legitimate-compound",
   "metadata": {},
   "outputs": [
    {
     "name": "stdout",
     "output_type": "stream",
     "text": [
      "114\n"
     ]
    },
    {
     "data": {
      "image/png": "[encoded data removed]",
      "text/plain": [
       "<Figure size 432x288 with 1 Axes>"
      ]
     },
     "metadata": {
      "needs_background": "light"
     },
     "output_type": "display_data"
    }
   ],
   "source": [
    "# print(data)\n",
    "fig = plt.figure()\n",
    "fig.suptitle('Total Scattering Rate Histogram', fontsize=20)\n",
    "ax = fig.gca()\n",
    "\n",
    "\n",
    "\n",
    "plt.hist(dcc,  bins=int(max(dcc)),color='r', edgecolor='k', label = \"With 10 ms 532\")\n",
    "print(int(max(counts2)))\n",
    "plt.xlabel('Kcounts/sec')\n",
    "\n",
    "plt.ylabel('Number of Experiments')\n",
    "\n",
    "plt.legend(loc=(1.04,.51))\n",
    "plt.yscale('log')\n",
    "plt.show()"
   ]
  },
  {
   "cell_type": "code",
   "execution_count": 43,
   "id": "foreign-uniform",
   "metadata": {},
   "outputs": [
    {
     "data": {
      "text/plain": [
       "89.63290000000052"
      ]
     },
     "execution_count": 43,
     "metadata": {},
     "output_type": "execute_result"
    }
   ],
   "source": [
    "5730.559+4284.5382-9925.4643\n"
   ]
  },
  {
   "cell_type": "code",
   "execution_count": null,
   "id": "acting-technology",
   "metadata": {},
   "outputs": [],
   "source": []
  }
 ],
 "metadata": {
  "kernelspec": {
   "display_name": "Python 3",
   "language": "python",
   "name": "python3"
  },
  "language_info": {
   "codemirror_mode": {
    "name": "ipython",
    "version": 3
   },
   "file_extension": ".py",
   "mimetype": "text/x-python",
   "name": "python",
   "nbconvert_exporter": "python",
   "pygments_lexer": "ipython3",
   "version": "3.9.2"
  }
 },
 "nbformat": 4,
 "nbformat_minor": 5
}
