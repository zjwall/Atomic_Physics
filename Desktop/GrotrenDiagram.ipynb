{
 "cells": [
  {
   "cell_type": "code",
   "execution_count": 8,
   "id": "growing-version",
   "metadata": {},
   "outputs": [
    {
     "data": {
      "image/png": "[encoded data removed]",
      "text/plain": [
       "<Figure size 432x288 with 1 Axes>"
      ]
     },
     "metadata": {
      "needs_background": "light"
     },
     "output_type": "display_data"
    }
   ],
   "source": [
    "# -*- coding: utf-8 -*-\n",
    "\"\"\"\n",
    "Created on Mon May 16 17:25:10 2016\n",
    "\n",
    "@author: jaymz_ubuntu\n",
    "\"\"\"\n",
    "\n",
    "import numpy as np\n",
    "import matplotlib.pyplot as plt\n",
    "from fractions import Fraction\n",
    "\n",
    "levelWidth = 0.2\n",
    "\n",
    "levels = []\n",
    "levels.append(  {'energy' : 0,                  'label' : '1^2S_1/2'})\n",
    "levels.append(  {'energy' : 10.198806,          'label' : '2^2P_1/2'})\n",
    "levels.append(  {'energy' : 10.198851,          'label' : '2^2P_3/2'})\n",
    "levels.append(  {'energy' : 11.19881043960433,  'label' : '2^2S_1/2'})\n",
    "levels.append(  {'energy' : 12.0874935577,      'label' : '2^2P_1/2'})\n",
    "levels.append(  {'energy' : 12.0875069990,      'label' : '2^2P_3/2'})\n",
    "levels.append(  {'energy' : 12.0874948597,      'label' : '2^2S_1/2'})\n",
    "levels.append(  {'energy' : 12.0875069769,      'label' : '2^2D_3/2'})\n",
    "levels.append(  {'energy' : 12.0875114568,      'label' : '2^2D_5/2'})\n",
    "\n",
    "transitions = []\n",
    "transitions.append( {'i' : 2, 'f' : 0})\n",
    "\n",
    "for i in range(0,len(levels)):\n",
    "    st = levels[i]['label']\n",
    "    st=st.split('^')\n",
    "    \n",
    "    levels[i]['n']=int(st[0])\n",
    "    levels[i]['mult']=int(st[1][0])\n",
    "    levels[i]['j']=Fraction(st[1].split('_')[-1])\n",
    "    if('S' in st[1]):\n",
    "        levels[i]['l']=0\n",
    "    elif('P' in st[1]):\n",
    "        levels[i]['l']=1\n",
    "    elif('D' in st[1]):\n",
    "        levels[i]['l']=2\n",
    "    else:\n",
    "        levels[i]['l']=-1\n",
    "    \n",
    "    if(levels[i]['l'] == 0):\n",
    "        xstart = 1\n",
    "    elif(levels[i]['l'] == 1):\n",
    "        xstart = 2\n",
    "    elif(levels[i]['l'] == 2):\n",
    "        xstart = 3\n",
    "    levels[i]['xstart']=xstart\n",
    "\n",
    "    \n",
    "for level in levels:\n",
    "    plt.plot([level['xstart']-levelWidth,level['xstart']+levelWidth],[level['energy'],level['energy']],'-0')\n",
    "for level in levels:\n",
    "    plt.annotate('$'+level['label'].split('_')[0]+ '_{'+ str(level['j']) + '}$',xy=(level['xstart']+levelWidth,level['energy']))\n",
    "for t in transitions:\n",
    "    plt.arrow(levels[t['i']]['xstart'],levels[t['i']]['energy'],levels[t['f']]['xstart']-levels[t['i']]['xstart'],levels[t['f']]['energy']-levels[t['i']]['energy'],head_width=0.1,head_length=.2,color='red')\n",
    "plt.ylim(-1,15)\n",
    "plt.xlim(0,5)\n",
    "plt.xticks([1,2,3],['S','P','D'])\n",
    "plt.show()"
   ]
  },
  {
   "cell_type": "code",
   "execution_count": null,
   "id": "european-invite",
   "metadata": {},
   "outputs": [],
   "source": []
  }
 ],
 "metadata": {
  "kernelspec": {
   "display_name": "Python 3",
   "language": "python",
   "name": "python3"
  },
  "language_info": {
   "codemirror_mode": {
    "name": "ipython",
    "version": 3
   },
   "file_extension": ".py",
   "mimetype": "text/x-python",
   "name": "python",
   "nbconvert_exporter": "python",
   "pygments_lexer": "ipython3",
   "version": "3.9.2"
  }
 },
 "nbformat": 4,
 "nbformat_minor": 5
}
