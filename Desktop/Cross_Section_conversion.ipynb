{
 "cells": [
  {
   "cell_type": "code",
   "execution_count": 46,
   "id": "graduate-encyclopedia",
   "metadata": {},
   "outputs": [
    {
     "name": "stdout",
     "output_type": "stream",
     "text": [
      "dp in au 0.24283341592402277\n",
      "dp in si 0.0026127751197143594\n",
      "\n",
      "8987551792.261171\n",
      "fs 2.5983252853148665e-40\n"
     ]
    }
   ],
   "source": [
    "import numpy as np\n",
    "import scipy.constants as sc\n",
    "####making sense of c green notebook on oscialltor strength\n",
    "##lets start from the bottom, his dipole moment is .242833 a.u. lets conver this to N/C ---2.058823848e-30\n",
    "dp = 2.058823848e-30\n",
    "#next equation is fano 2.23 \n",
    "##first in au\n",
    "fn=.010122\n",
    "ws = 2.3353285079384345/27.21\n",
    "dp = np.sqrt(fn/(2*ws))\n",
    "print('dp in au', dp)\n",
    "#now try to use SI and get same answer\n",
    "ws2 =  2*np.pi*564.7190531346e12\n",
    "fn2 = 1\n",
    "dp2=  np.sqrt(sc.hbar*fn/(sc.m_e*2*ws))\n",
    "print('dp in si', dp2)\n",
    "print()\n",
    "k =(1/(4*np.pi*sc.epsilon_0))\n",
    "print(k)\n",
    "ev = 6.242e18\n",
    "2*np.pi**2*sc.e**2*sc.hbar/(sc.m_e*sc.c)*6.242e18*k\n",
    "print('fs', 2*sc.m_e*ws2/sc.hbar*(2.058823848e-30)**2)"
   ]
  },
  {
   "cell_type": "markdown",
   "id": "abroad-september",
   "metadata": {},
   "source": [
    "Frist step is to convert from cross section $\\sigma$ in units of Megabarnes to $\\frac{df}{de}$ in units of $eV^{-1}$, (and then I will convert this to joules to stay in S.I.)\n",
    "we us equation 2.18 of fano to do this.\n",
    "$$\\sigma = 2\\pi^2e^2\\frac{\\hbar}{mc}\\frac{df}{d\\epsilon}$$\n",
    "we want to solve for $\\frac{df}{d\\epsilon}$ , note though that for an unknown reason to me except that atomic units suck we must multiply by $(1/4\\pi\\epsilon_0)$ for this to work\n",
    "when we do this we get the constant in units of $cm^2eV$ of 1.098e-16 which agrees with fano.\n",
    "With this we can find $\\frac{df}{de}$ at the relevant peak \n",
    "\n"
   ]
  },
  {
   "cell_type": "code",
   "execution_count": 76,
   "id": "floppy-yellow",
   "metadata": {},
   "outputs": [
    {
     "name": "stdout",
     "output_type": "stream",
     "text": [
      "1.7585648858705577e-39\n",
      "constant in units of cm2 ev 1.0976962017604022e-16\n",
      "df/de in units of 1/ev 50.36469098766844\n"
     ]
    }
   ],
   "source": [
    "#sig now in units of m^2\n",
    "sig = 5528.513e6*1e-28\n",
    "c = 2*np.pi**2*sc.e**2*sc.hbar/(sc.m_e*sc.c)*(1/(4*np.pi*sc.epsilon_0))\n",
    "evtoj = 6.242e18\n",
    "df = sig/c\n",
    "print(c)\n",
    "print('constant in units of cm2 ev', (100)**2*c*evtoj)\n",
    "print('df/de in units of 1/ev', df/evtoj)\n",
    "dfev =  df/evtoj"
   ]
  },
  {
   "cell_type": "code",
   "execution_count": 70,
   "id": "gorgeous-vampire",
   "metadata": {},
   "outputs": [
    {
     "name": "stdout",
     "output_type": "stream",
     "text": [
      "25.938873765227324\n",
      "0.008487444747647904\n"
     ]
    }
   ],
   "source": [
    "gn = 0.000107283\n",
    "f = np.pi*dfev*gn/2\n",
    "print(gn/evtoj/sc.h/1e9)\n",
    "print(f)\n"
   ]
  },
  {
   "cell_type": "markdown",
   "id": "solar-juvenile",
   "metadata": {},
   "source": [
    "Now we can use fano 2.23 to extract the dipole element from the oscillator strength\n",
    "$$f_s = (2m\\omega_s/\\hbar)|<s|x|0>|^2$$\n",
    "or solving for the dipole moment\n",
    "$$|<s|x|0>| = \\sqrt{\\hbar f_s/(2m\\omega_s)}$$\n"
   ]
  },
  {
   "cell_type": "code",
   "execution_count": 49,
   "id": "complete-synthesis",
   "metadata": {},
   "outputs": [
    {
     "name": "stdout",
     "output_type": "stream",
     "text": [
      "0.008487444747647904\n",
      "dipole in a.u. 0.22236363386023436\n",
      "dipole in S.I. 1.885183531656546e-30\n"
     ]
    }
   ],
   "source": [
    "x0 = 2.3353285079384345 ##energy in units of ev of the photon\n",
    "ws = x0/27.21\n",
    "print(f)\n",
    "dp = np.sqrt(f/(2*ws))\n",
    "print('dipole in a.u.', dp)\n",
    "k = 18337 #freq of photon in units of cm^-1\n",
    "w = 2*np.pi*564.765e12\n",
    "dp2 = sc.e*np.sqrt(sc.hbar*f/(2*w*sc.m_e))\n",
    "print('dipole in S.I.', dp2)"
   ]
  },
  {
   "cell_type": "code",
   "execution_count": 27,
   "id": "moderate-spouse",
   "metadata": {},
   "outputs": [
    {
     "name": "stdout",
     "output_type": "stream",
     "text": [
      "sat power 7.794509965700319\n"
     ]
    }
   ],
   "source": [
    "#sat intensity using this\n",
    "gam = 32.15e9\n",
    "isat = sc.c*sc.epsilon_0*gam**2*sc.hbar**2/(2*dp2**2)\n",
    "w0 = 34e-6\n",
    "psat = isat*w0**2*np.pi/2\n",
    "print('sat power', psat)"
   ]
  },
  {
   "cell_type": "code",
   "execution_count": 28,
   "id": "pediatric-cargo",
   "metadata": {},
   "outputs": [
    {
     "name": "stdout",
     "output_type": "stream",
     "text": [
      "constant in units of cm2 ev 1.0976962017604022e-16\n",
      "df/de in units of 1/ev 50.36469098766844\n"
     ]
    }
   ],
   "source": [
    "#sig now in units of m^2\n",
    "sig = 5528.513e6*1e-28\n",
    "c = 2*np.pi**2*sc.e**2*sc.hbar/(sc.m_e*sc.c)*(1/(4*np.pi*sc.epsilon_0))\n",
    "evtoj = 6.242e18\n",
    "df = sig/c\n",
    "print('constant in units of cm2 ev', (100)**2*c*evtoj)\n",
    "print('df/de in units of 1/ev', df/evtoj)\n",
    "dfev =  df/evtoj"
   ]
  },
  {
   "cell_type": "code",
   "execution_count": 75,
   "id": "altered-practitioner",
   "metadata": {},
   "outputs": [
    {
     "name": "stdout",
     "output_type": "stream",
     "text": [
      "5528.513031599978\n",
      "1.7585648858705577e-39\n",
      "0.0046557690397171\n"
     ]
    }
   ],
   "source": [
    "sigma = 279.196/np.pi/(32.15e-3)*2\n",
    "print(sigma)\n",
    "fx = 279.196 #oscillator strength but in units of S.I.\n",
    "c = 2*np.pi**2*sc.e**2*sc.hbar/(sc.m_e*sc.c)*(1/(4*np.pi*sc.epsilon_0))\n",
    "print(c)\n",
    "fs = fx*c/sc.hbar\n",
    "print(fs)"
   ]
  },
  {
   "cell_type": "code",
   "execution_count": 45,
   "id": "sticky-employee",
   "metadata": {},
   "outputs": [
    {
     "name": "stdout",
     "output_type": "stream",
     "text": [
      "dipole in S.I. 1.3962425575742828e-30\n"
     ]
    }
   ],
   "source": [
    "w = 2*np.pi*564.765e12\n",
    "dp2 = sc.e*np.sqrt(sc.hbar*fs/(2*w*sc.m_e))\n",
    "print('dipole in S.I.', dp2)"
   ]
  },
  {
   "cell_type": "code",
   "execution_count": null,
   "id": "immediate-rebate",
   "metadata": {},
   "outputs": [],
   "source": []
  },
  {
   "cell_type": "code",
   "execution_count": null,
   "id": "appreciated-optics",
   "metadata": {},
   "outputs": [],
   "source": []
  },
  {
   "cell_type": "code",
   "execution_count": null,
   "id": "developmental-pride",
   "metadata": {},
   "outputs": [],
   "source": []
  }
 ],
 "metadata": {
  "kernelspec": {
   "display_name": "Python 3",
   "language": "python",
   "name": "python3"
  },
  "language_info": {
   "codemirror_mode": {
    "name": "ipython",
    "version": 3
   },
   "file_extension": ".py",
   "mimetype": "text/x-python",
   "name": "python",
   "nbconvert_exporter": "python",
   "pygments_lexer": "ipython3",
   "version": "3.9.2"
  }
 },
 "nbformat": 4,
 "nbformat_minor": 5
}
