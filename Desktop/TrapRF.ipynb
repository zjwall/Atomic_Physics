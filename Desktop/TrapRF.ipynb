{
 "cells": [
  {
   "cell_type": "code",
   "execution_count": 2,
   "id": "failing-singles",
   "metadata": {},
   "outputs": [
    {
     "name": "stdout",
     "output_type": "stream",
     "text": [
      "0.016608513793649044\n"
     ]
    },
    {
     "data": {
      "text/plain": [
       "75.09841200880626"
      ]
     },
     "execution_count": 2,
     "metadata": {},
     "output_type": "execute_result"
    }
   ],
   "source": [
    "import numpy as np\n",
    "w0 = 75e-6/2\n",
    "lam = 532e-9\n",
    "zr = np.pi*w0**2/lam\n",
    "print(zr*2)\n",
    "z = 25e-3\n",
    "w = w0*np.sqrt(1+(z/zr))\n",
    "w/1e-6"
   ]
  },
  {
   "cell_type": "code",
   "execution_count": 3,
   "id": "provincial-reset",
   "metadata": {},
   "outputs": [
    {
     "data": {
      "text/plain": [
       "1.2961270697346141"
      ]
     },
     "execution_count": 3,
     "metadata": {},
     "output_type": "execute_result"
    }
   ],
   "source": [
    "wrf = 20e6*2*np.pi\n",
    "import scipy.constants as sc\n",
    "m = 6.64216e-26\n",
    "V = 150\n",
    "r0 = 500e-6\n",
    "q = 2*sc.e*V/(m*wrf**2*r0**2)\n",
    "b = q/np.sqrt(2)\n",
    "b*wrf/2/1e6/(2*np.pi)"
   ]
  },
  {
   "cell_type": "code",
   "execution_count": 4,
   "id": "subject-singing",
   "metadata": {},
   "outputs": [
    {
     "name": "stdout",
     "output_type": "stream",
     "text": [
      "0.2285813582902357\n"
     ]
    },
    {
     "data": {
      "text/plain": [
       "2.5618581417227415"
      ]
     },
     "execution_count": 4,
     "metadata": {},
     "output_type": "execute_result"
    }
   ],
   "source": [
    "wrf = 31.7e6*2*np.pi\n",
    "import scipy.constants as sc\n",
    "m = 2.20852e-25\n",
    "V = 250\n",
    "r0 = 200e-6\n",
    "q = 2*sc.e*V/(m*wrf**2*r0**2)\n",
    "b = q/np.sqrt(2)\n",
    "print(q)\n",
    "b*wrf/2/1e6/(2*np.pi)"
   ]
  },
  {
   "cell_type": "code",
   "execution_count": 21,
   "id": "revised-borough",
   "metadata": {},
   "outputs": [
    {
     "data": {
      "text/plain": [
       "250.94636877229365"
      ]
     },
     "execution_count": 21,
     "metadata": {},
     "output_type": "execute_result"
    }
   ],
   "source": [
    "import numpy as np\n",
    "zed = 1.2\n",
    "P = .8\n",
    "Q = 145\n",
    "Z0 = 377\n",
    "Vrf = zed * np.sqrt(P*Q*Z0)\n",
    "Vrf"
   ]
  },
  {
   "cell_type": "markdown",
   "id": "pacific-philadelphia",
   "metadata": {},
   "source": [
    "### "
   ]
  },
  {
   "cell_type": "code",
   "execution_count": 16,
   "id": "colonial-banks",
   "metadata": {},
   "outputs": [
    {
     "name": "stdout",
     "output_type": "stream",
     "text": [
      "trap depth 1.1293822014943817 ev\n",
      "velocity 1256.6370614359173 m/s\n",
      "transit time 1.5915494309189535e-07 s\n",
      "transit time 4.0000000000000003e-07 s\n"
     ]
    }
   ],
   "source": [
    "#trap depth#\n",
    "import numpy as np\n",
    "ws = 1e6*2*np.pi #1 Mhz secular freq\n",
    "r0 = 200e-6\n",
    "td = .5*m*ws**2*r0**2\n",
    "ev = 6.242e+18\n",
    "\n",
    "print('trap depth', td*ev, 'ev')\n",
    "\n",
    "##velocity of ba with this energy##\n",
    "m = 2.29154e-25\n",
    "v = np.sqrt(2*td/m)\n",
    "print('velocity', v, 'm/s')\n",
    "\n",
    "#Transit time for 400 um trap length##\n",
    "t = 200e-6/v\n",
    "print('transit time', t, 's')\n",
    "\n",
    "\n",
    "##trapping a slower particle at .5 km/s\n",
    "v = .5e3\n",
    "t = 200e-6/v\n",
    "print('transit time', t, 's')"
   ]
  },
  {
   "cell_type": "code",
   "execution_count": null,
   "id": "boxed-uncle",
   "metadata": {},
   "outputs": [],
   "source": []
  }
 ],
 "metadata": {
  "kernelspec": {
   "display_name": "Python 3",
   "language": "python",
   "name": "python3"
  },
  "language_info": {
   "codemirror_mode": {
    "name": "ipython",
    "version": 3
   },
   "file_extension": ".py",
   "mimetype": "text/x-python",
   "name": "python",
   "nbconvert_exporter": "python",
   "pygments_lexer": "ipython3",
   "version": "3.9.2"
  }
 },
 "nbformat": 4,
 "nbformat_minor": 5
}
