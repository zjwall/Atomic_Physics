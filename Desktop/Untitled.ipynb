{
 "cells": [
  {
   "cell_type": "code",
   "execution_count": 25,
   "id": "worst-channel",
   "metadata": {
    "tags": []
   },
   "outputs": [
    {
     "name": "stdout",
     "output_type": "stream",
     "text": [
      "ss 97179.8329130488\n",
      "(-194261.51114293744+0j)\n"
     ]
    },
    {
     "data": {
      "image/png": "[encoded data removed]",
      "text/plain": [
       "<Figure size 432x288 with 1 Axes>"
      ]
     },
     "metadata": {
      "needs_background": "light"
     },
     "output_type": "display_data"
    },
    {
     "name": "stdout",
     "output_type": "stream",
     "text": [
      "8157.1334506440335\n"
     ]
    }
   ],
   "source": [
    "import matplotlib.pyplot as plt\n",
    "import numpy as np\n",
    "from matplotlib.ticker import MultipleLocator, FormatStrFormatter\n",
    "import math\n",
    "import cmath\n",
    "import scipy.constants as sc\n",
    "import time\n",
    "import numpy as np\n",
    "import math\n",
    "from scipy.linalg import eigh\n",
    "import matplotlib.pyplot as plt\n",
    "from numpy import linalg as LA\n",
    "import scipy.constants as sc\n",
    "\n",
    "%matplotlib inline\n",
    "\n",
    "\n",
    "\n",
    "\n",
    "\n",
    "\n",
    "\n",
    "### Two Level Atom ###                                \n",
    "t0=time.time()                        \n",
    "#create a list of times to simulate                                \n",
    "del_t = 1e-18\n",
    "t = np.arange(0,1e-15,del_t)           \n",
    "\n",
    "n=2 ## dimension of Hamiltonian\n",
    "H = np.zeros((len(t),n,n),dtype=complex)\n",
    "En = np.zeros((len(t),n),dtype=complex)\n",
    "##create Hamiltonian, in this example we have 2 level system with coupling electric field\n",
    "\n",
    "\n",
    "\n",
    "import sympy\n",
    "from sympy import S\n",
    "from sympy.physics.wigner import wigner_3j\n",
    "from sympy.physics.wigner import wigner_6j\n",
    "from sympy.physics.wigner import wigner_9j\n",
    "\n",
    "import numpy as np\n",
    "import scipy.constants as sc\n",
    "\n",
    "I = 2*.11/(np.pi*(29.3e-6)**2)\n",
    "E = np.sqrt(2*I/(sc.c*sc.epsilon_0))\n",
    "gam1 =2*np.pi*18.8e6\n",
    "a = 1/(4*np.pi*sc.epsilon_0*sc.hbar*sc.c)\n",
    "qf  = 9.9254644e9\n",
    "\n",
    "\n",
    "s = S(1)/2\n",
    "f1 = 1\n",
    "mf1 = 0\n",
    "j1 = S(3)/2\n",
    "l1 = 1\n",
    "\n",
    "f2 = 0\n",
    "mf2 = 0\n",
    "j2 = S(1)/2\n",
    "l2 = 0\n",
    "q = 0\n",
    "\n",
    "wl = 563e12*2*np.pi\n",
    "c1 = wigner_3j(f1, 1, f2, -mf1, q , mf2)*(-1)**(f1-mf1)*sympy.sqrt(2*f1+1)\n",
    "c2 = wigner_6j(j1,f1,S(1)/2,f2,j2,1)*sympy.sqrt(2*f2+1)*sympy.sqrt(2*j1+1)*(-1)**(j1+S(1)/2+f2+1)\n",
    "x = c1*c2\n",
    "w0 = 2*np.pi*(658.118271e12-qf+625e6)\n",
    "mu = np.sqrt(gam1*3*sc.c**2/(4*a*w0**3))*x\n",
    "W= E/sc.hbar*mu\n",
    "d = w0-wl\n",
    "ss = W**2/(4*d)/(2*np.pi)\n",
    "\n",
    "\n",
    "H[:,1,1] =  w0\n",
    "\n",
    "temp = np.cos(wl*t)\n",
    "H[:,0,1] = H[:,1,0] = W*temp\n",
    "                              \n",
    "for i in range(0,len(t)):\n",
    "    w,v = eigh(H[i]) \n",
    "    En[i] = w\n",
    "    \n",
    "    \n",
    "t1=time.time()\n",
    "t2=time.time()\n",
    "\n",
    "\n",
    "##Plotting Results###\n",
    "fig = plt.figure()\n",
    "fig.suptitle('Numerical Result', fontsize=20)\n",
    "ax = fig.gca()\n",
    "\n",
    "\n",
    "plt.plot(t,En[:,0].real, color = 'darkred',label=\"|g>, $\\delta = 0$ \")\n",
    "print('ss', ss)\n",
    "print(np.mean(En[:,0]))\n",
    "\n",
    "\n",
    "plt.legend(loc=(1.04,.51))\n",
    "plt.grid()\n",
    "plt.show()\n",
    "\n",
    "print(I*1e-4)"
   ]
  },
  {
   "cell_type": "code",
   "execution_count": 26,
   "id": "dimensional-monkey",
   "metadata": {},
   "outputs": [
    {
     "name": "stdout",
     "output_type": "stream",
     "text": [
      "-78082.9672091801\n",
      "-6.383385000008275\n"
     ]
    }
   ],
   "source": [
    "s =  106252.237422757-106281.189898584-78054.0147333531\n",
    "s2 = 97658.6200-97665.003385\n",
    "print(s)\n",
    "print(s2)"
   ]
  },
  {
   "cell_type": "code",
   "execution_count": 27,
   "id": "relative-anderson",
   "metadata": {
    "tags": []
   },
   "outputs": [
    {
     "data": {
      "text/latex": [
       "$\\displaystyle \\left[\\begin{matrix}0 & 0 & 9517026473.58904\\\\0 & 9900000000.0 & 13993992167.2949\\\\9517026473.58904 & 13993992167.2949 & 607000000000000.0\\end{matrix}\\right]$"
      ],
      "text/plain": [
       "Matrix([\n",
       "[               0,                0,  9517026473.58904],\n",
       "[               0,     9900000000.0,  13993992167.2949],\n",
       "[9517026473.58904, 13993992167.2949, 607000000000000.0]])"
      ]
     },
     "execution_count": 27,
     "metadata": {},
     "output_type": "execute_result"
    }
   ],
   "source": [
    "import numpy as np\n",
    "import math\n",
    "from scipy.linalg import eigh\n",
    "import matplotlib.pyplot as plt\n",
    "from numpy import linalg as LA\n",
    "import scipy.constants as sc\n",
    "import scipy.constants as sc\n",
    "import numpy as np\n",
    "from sympy import *\n",
    "\n",
    "\n",
    "H = zeros(3,3)\n",
    "\n",
    "\n",
    "\n",
    "I = 2*.11/(np.pi*(29.3e-6)**2)\n",
    "E = np.sqrt(2*I/(sc.c*sc.epsilon_0))\n",
    "\n",
    "\n",
    "qf = 2*np.pi*9.9e9\n",
    "w0 = 2*np.pi*607e12\n",
    "A=2*np.pi*15.1e6\n",
    "a = 1/(4*np.pi*sc.epsilon_0*sc.hbar*sc.c)\n",
    "mu = np.sqrt(A*3*sc.c**2/(4*a*w0**3))\n",
    "\n",
    "W = E/sc.hbar*mu\n",
    "w02 = w0-qf\n",
    "mu2 = np.sqrt(A*3*sc.c**2/(4*a*w02**3))\n",
    "\n",
    "d2 = 2*np.pi*(607-563)*1e12-qf\n",
    "ss = W**2/(4*d)/(2*np.pi)\n",
    "\n",
    "\n",
    "H[1,1] = sc.hbar*qf\n",
    "H[2,2] = sc.hbar*w0\n",
    "H[0,2] = H[2,0] = E*mu*(w0/d)**(1/2)/2\n",
    "H[1,2] = H[2,1] = E*mu2*(w02/d2)**(1/2)/2\n",
    "\n",
    "P, D = H.diagonalize()\n",
    "\n",
    "\n",
    "H/(2*np.pi*sc.hbar)"
   ]
  },
  {
   "cell_type": "code",
   "execution_count": 6,
   "id": "familiar-tyler",
   "metadata": {},
   "outputs": [
    {
     "name": "stdout",
     "output_type": "stream",
     "text": [
      "0.00019800992576263622\n"
     ]
    }
   ],
   "source": [
    "wl = 493e-9\n",
    "import numpy as np\n",
    "d = 24.13e-2\n",
    "R = 500e-3\n",
    "a = np.sqrt(d*(R-d))\n",
    "w = np.sqrt(a*wl/np.pi)\n",
    "print(w)"
   ]
  },
  {
   "cell_type": "code",
   "execution_count": 28,
   "id": "meaningful-product",
   "metadata": {},
   "outputs": [
    {
     "data": {
      "text/latex": [
       "$\\displaystyle \\left[\\begin{matrix}-149220.336999127 & 0 & 0\\\\0 & 9899677377.16819 & 0\\\\0 & 0 & 607000000471843.0\\end{matrix}\\right]$"
      ],
      "text/plain": [
       "Matrix([\n",
       "[-149220.336999127,                0,                 0],\n",
       "[                0, 9899677377.16819,                 0],\n",
       "[                0,                0, 607000000471843.0]])"
      ]
     },
     "execution_count": 28,
     "metadata": {},
     "output_type": "execute_result"
    }
   ],
   "source": [
    "(D)/(2*np.pi*sc.hbar)"
   ]
  },
  {
   "cell_type": "code",
   "execution_count": 29,
   "id": "hidden-lawsuit",
   "metadata": {},
   "outputs": [
    {
     "data": {
      "text/latex": [
       "$\\displaystyle -19799826597.5052$"
      ],
      "text/plain": [
       "-19799826597.5052"
      ]
     },
     "execution_count": 29,
     "metadata": {},
     "output_type": "execute_result"
    }
   ],
   "source": [
    "(D[0,0])/(2*np.pi*sc.hbar)-qf/(2*np.pi)-(D[1,1])/(2*np.pi*sc.hbar)"
   ]
  },
  {
   "cell_type": "code",
   "execution_count": 30,
   "id": "capable-redhead",
   "metadata": {},
   "outputs": [
    {
     "name": "stdout",
     "output_type": "stream",
     "text": [
      "x1 sqrt(3)/3\n",
      "x2 0.5773502691896257\n",
      "106252.237422757\n",
      "106257.446124704\n"
     ]
    }
   ],
   "source": [
    "import sympy\n",
    "from sympy import S\n",
    "from sympy.physics.wigner import wigner_3j\n",
    "from sympy.physics.wigner import wigner_6j\n",
    "import numpy as np\n",
    "import scipy.constants as sc\n",
    "\n",
    "I = 2*.11/(np.pi*(29.3e-6)**2)\n",
    "E = np.sqrt(2*I/(sc.c*sc.epsilon_0))\n",
    "l = 563e12\n",
    "gam1 =2*np.pi*15.1e6\n",
    "a = 1/(4*np.pi*sc.epsilon_0*sc.hbar*sc.c)\n",
    "qf  = 9.9254644e9\n",
    "\n",
    "\n",
    "s = S(1)/2\n",
    "f1 = 1\n",
    "mf1 = -1\n",
    "j1 = S(1)/2\n",
    "l1 = 1\n",
    "f2 = 1\n",
    "mf2 = 0\n",
    "j2 = S(1)/2\n",
    "l2 = 0\n",
    "q = -1\n",
    "\n",
    "c1 = wigner_3j(f1, 1, f2, -mf1, q , mf2)*(-1)**(f1-mf1)*sympy.sqrt(2*f1+1)\n",
    "c2 = wigner_6j(j1,f1,S(1)/2,f2,j2,1)*sympy.sqrt(2*f2+1)*sympy.sqrt(2*j1+1)*(-1)**(j1+S(1)/2+f2+1)\n",
    "x = c1*c2\n",
    "print('x1', x)\n",
    "w0 = 2*np.pi*(607.429890e12-1.815e9)\n",
    "mu = np.sqrt(gam1*3*sc.c**2/(4*a*w0**3))*x\n",
    "W= E/sc.hbar*mu\n",
    "d = w0-2*np.pi*l\n",
    "ss011 = W**2/(4*d)/(2*np.pi)\n",
    "\n",
    "s = S(1)/2\n",
    "f1 = 1\n",
    "mf1 = -1\n",
    "j1 = S(1)/2\n",
    "l1 = 1\n",
    "f2 = 0\n",
    "mf2 = 0\n",
    "j2 = S(1)/2\n",
    "l2 = 0\n",
    "q = -1\n",
    "\n",
    "c1 = wigner_3j(f1, 1, f2, -mf1, q , mf2)*(-1)**(f1-mf1)*sympy.sqrt(2*f1+1)\n",
    "c2 = wigner_6j(j1,f1,S(1)/2,f2,j2,1)*sympy.sqrt(2*f2+1)*sympy.sqrt(2*j1+1)*(-1)**(j1+S(1)/2+f2+1)\n",
    "x = c1*c2\n",
    "print('x2', float(x))\n",
    "w02 = 2*np.pi*(607.429890e12-qf-1.815e9)\n",
    "mu2 = np.sqrt(gam1*3*sc.c**2/(4*a*w02**3))*x\n",
    "W2= E/sc.hbar*mu2\n",
    "d2 =w0-2*np.pi*l\n",
    "gI=-.154\n",
    "mu_b = 1.4\n",
    "mn = sc.m_e/sc.m_p*mu_b\n",
    "ss001 = W2**2/(4*d2)/(2*np.pi)\n",
    "print(ss011)\n",
    "print(ss001)"
   ]
  },
  {
   "cell_type": "code",
   "execution_count": 31,
   "id": "played-pressure",
   "metadata": {},
   "outputs": [
    {
     "name": "stdout",
     "output_type": "stream",
     "text": [
      "-0.33333333333333326\n",
      "106252.237422757\n",
      "3.80627988054972e-10\n"
     ]
    }
   ],
   "source": [
    "I = 2*.11/(np.pi*(29.3e-6)**2)\n",
    "E = np.sqrt(2*I/(sc.c*sc.epsilon_0))\n",
    "\n",
    "s = I = S(1)/2\n",
    "f1 = 1\n",
    "mf1 = 1\n",
    "j1 = S(1)/2\n",
    "l1 = 1\n",
    "\n",
    "f2 = 1\n",
    "mf2 = 0\n",
    "j2 = S(1)/2\n",
    "l2 = 0\n",
    "q = 1\n",
    "\n",
    "c1 = wigner_3j(f1, 1, f2, -mf1, q , mf2)*(-1)**(f1-mf1)*sympy.sqrt(2*f1+1)\n",
    "c2 = wigner_6j(j1,f1,S(1)/2,f2,j2,1)*sympy.sqrt(2*f2+1)*sympy.sqrt(2*j1+1)*(-1)**(j1+S(1)/2+f2+1)\n",
    "x = c1*c2\n",
    "\n",
    "w0 = 2*np.pi*(607.429890e12-1.815e9)\n",
    "mu = np.sqrt(gam1*3*sc.c**2/(4*a*w0**3))\n",
    "W= E/sc.hbar*mu*x\n",
    "d = w0-2*np.pi*l\n",
    "\n",
    "c1 = (-1)**(I-j1+f1)*(2*f1+1)*np.sqrt(2*q+1)*wigner_6j(f1,q,f1,j1,I,j1)\n",
    "c2 = wigner_6j(j1,q,j1,1,j2,1)*np.sqrt((2*f1)/((2*f1+1)*(f1+1)))\n",
    "print(float(c1*c2))\n",
    "\n",
    "alph = c1*c2*(mu/sc.hbar)**2*(1/d)\n",
    "\n",
    "ss011 = -(E**2/4)*(alph)\n",
    "\n",
    "\n",
    "\n",
    "print(ss011/(2*np.pi))\n",
    "print(W**2/(4*d**2)/(2*np.pi))"
   ]
  },
  {
   "cell_type": "code",
   "execution_count": 32,
   "id": "novel-timeline",
   "metadata": {},
   "outputs": [
    {
     "name": "stdout",
     "output_type": "stream",
     "text": [
      "130131.88285740268\n"
     ]
    }
   ],
   "source": [
    "I = 2*.11/(np.pi*(29.3e-6)**2)\n",
    "E = np.sqrt(2*I/(sc.c*sc.epsilon_0))\n",
    "\n",
    "s = I = S(1)/2\n",
    "f1 = 1\n",
    "mf1 = 1\n",
    "j1 = S(1)/2\n",
    "l1 = 1\n",
    "\n",
    "f2 = 1\n",
    "mf2 = 0\n",
    "j2 = S(1)/2\n",
    "l2 = 0\n",
    "q = 1\n",
    "\n",
    "\n",
    "w0 = 2*np.pi*(607.429890e12-1.815e9)\n",
    "mu = np.sqrt(gam1*3*sc.c**2/(4*a*w0**3))\n",
    "d = w0-2*np.pi*l\n",
    "\n",
    "const = 5.96e-13\n",
    "\n",
    "\n",
    "t = 1/(j1*(2*j1)/(2*j1+1)/(2*j1+2))**(1/2)\n",
    "c1 = (2*f1+1)*np.sqrt(2*q+1)*sympy.sqrt(I*(I+1)*(2*I+1))\n",
    "c2 = (-1)**(j1+j2)*wigner_6j(I,I,1,j1,j2,f1)*wigner_6j(1,j2,j1,I,f1,f1)*wigner_6j(1,j1,j2,j1,1,1)\n",
    "\n",
    "\n",
    "alph = t*c1*c2*(mu/sc.hbar)**2*(1/d)\n",
    "\n",
    "ss011 = -(E**2/4)*(alph)\n",
    "\n",
    "\n",
    "\n",
    "print(float(ss011)/(2*np.pi))\n"
   ]
  },
  {
   "cell_type": "code",
   "execution_count": 33,
   "id": "graduate-coordination",
   "metadata": {},
   "outputs": [
    {
     "name": "stdout",
     "output_type": "stream",
     "text": [
      "-0.5773502691896257\n",
      "817642.7343652477\n"
     ]
    }
   ],
   "source": [
    "s = I = S(1)/2\n",
    "f1 = 1\n",
    "mf1 = 1\n",
    "j1 = S(1)/2\n",
    "l1 = 1\n",
    "\n",
    "f2 = 0\n",
    "mf2 = 0\n",
    "j2 = S(1)/2\n",
    "l2 = 0\n",
    "q = 1\n",
    "\n",
    "w0 = 2*np.pi*(607.429890e12-qf-1.815e9)\n",
    "\n",
    "mu = np.sqrt(gam1*3*sc.c**2/(4*a*w0**3))*x\n",
    "W= E/sc.hbar*mu\n",
    "d = w0-2*np.pi*l\n",
    "\n",
    "\n",
    "c1 = (-1)**(I-j1+f1)*(2*f1+1)*np.sqrt(2*q+1)*wigner_6j(f1,q,f1,j1,I,j1)\n",
    "c2 = wigner_6j(j1,q,j1,1,j2,1)\n",
    "print(float(c1*c2))\n",
    "\n",
    "alph = -np.sqrt((2*f1)/((2*f1+1)*(f1+1)))*c1*c2*(mu/sc.hbar)**2*(1/d)\n",
    "ss001 = -(E**2/4)*(alph)/2\n",
    "\n",
    "\n",
    "print(float(ss011))"
   ]
  },
  {
   "cell_type": "code",
   "execution_count": 34,
   "id": "foreign-qatar",
   "metadata": {},
   "outputs": [
    {
     "name": "stdout",
     "output_type": "stream",
     "text": [
      "928940.136165305\n"
     ]
    }
   ],
   "source": [
    "print(float(ss011-ss001))"
   ]
  },
  {
   "cell_type": "code",
   "execution_count": 35,
   "id": "statistical-lesson",
   "metadata": {},
   "outputs": [
    {
     "ename": "NameError",
     "evalue": "name 'mu0' is not defined",
     "output_type": "error",
     "traceback": [
      "\u001b[1;31m---------------------------------------------------------------------------\u001b[0m",
      "\u001b[1;31mNameError\u001b[0m                                 Traceback (most recent call last)",
      "\u001b[1;32m<ipython-input-35-1be3e27bd0c7>\u001b[0m in \u001b[0;36m<module>\u001b[1;34m\u001b[0m\n\u001b[0;32m      2\u001b[0m \u001b[0mmb\u001b[0m \u001b[1;33m=\u001b[0m \u001b[1;36m9.274e-24\u001b[0m\u001b[1;33m\u001b[0m\u001b[1;33m\u001b[0m\u001b[0m\n\u001b[0;32m      3\u001b[0m \u001b[0mmu_0\u001b[0m \u001b[1;33m=\u001b[0m \u001b[1;36m1.254e-6\u001b[0m\u001b[1;33m\u001b[0m\u001b[1;33m\u001b[0m\u001b[0m\n\u001b[1;32m----> 4\u001b[1;33m \u001b[0mA\u001b[0m \u001b[1;33m=\u001b[0m \u001b[1;33m(\u001b[0m\u001b[1;36m2\u001b[0m\u001b[1;33m/\u001b[0m\u001b[1;36m3\u001b[0m\u001b[1;33m)\u001b[0m\u001b[1;33m*\u001b[0m\u001b[0mmu0\u001b[0m\u001b[1;33m*\u001b[0m\u001b[1;36m2\u001b[0m\u001b[1;33m*\u001b[0m\u001b[1;36m5.6\u001b[0m\u001b[1;33m*\u001b[0m\u001b[0mmb\u001b[0m\u001b[1;33m**\u001b[0m\u001b[1;36m2\u001b[0m\u001b[1;33m*\u001b[0m\u001b[1;33m(\u001b[0m\u001b[1;36m1\u001b[0m\u001b[1;33m/\u001b[0m\u001b[1;36m1836\u001b[0m\u001b[1;33m)\u001b[0m\u001b[1;33m*\u001b[0m\u001b[1;33m(\u001b[0m\u001b[1;36m1\u001b[0m\u001b[1;33m/\u001b[0m\u001b[1;33m(\u001b[0m\u001b[0mnp\u001b[0m\u001b[1;33m.\u001b[0m\u001b[0mpi\u001b[0m\u001b[1;33m*\u001b[0m\u001b[0ma0\u001b[0m\u001b[1;33m**\u001b[0m\u001b[1;36m3\u001b[0m\u001b[1;33m)\u001b[0m\u001b[1;33m)\u001b[0m\u001b[1;33m\u001b[0m\u001b[1;33m\u001b[0m\u001b[0m\n\u001b[0m\u001b[0;32m      5\u001b[0m \u001b[0mE\u001b[0m \u001b[1;33m=\u001b[0m \u001b[0mA\u001b[0m\u001b[1;33m*\u001b[0m\u001b[1;36m1e-9\u001b[0m\u001b[1;33m/\u001b[0m\u001b[1;33m(\u001b[0m\u001b[0msc\u001b[0m\u001b[1;33m.\u001b[0m\u001b[0mh\u001b[0m\u001b[1;33m)\u001b[0m\u001b[1;33m\u001b[0m\u001b[1;33m\u001b[0m\u001b[0m\n\u001b[0;32m      6\u001b[0m \u001b[0mE\u001b[0m\u001b[1;33m\u001b[0m\u001b[1;33m\u001b[0m\u001b[0m\n",
      "\u001b[1;31mNameError\u001b[0m: name 'mu0' is not defined"
     ]
    }
   ],
   "source": [
    "a0 = 5.29e-11\n",
    "mb = 9.274e-24\n",
    "mu_0 = 1.254e-6\n",
    "A = (2/3)*mu0*2*5.6*mb**2*(1/1836)*(1/(np.pi*a0**3))\n",
    "E = A*1e-9/(sc.h)\n",
    "E"
   ]
  },
  {
   "cell_type": "code",
   "execution_count": null,
   "id": "subsequent-ontario",
   "metadata": {},
   "outputs": [],
   "source": [
    "E = 9.925e9\n",
    "A = E\n",
    "n=6\n",
    "z=56\n",
    "mb=1.4e6\n",
    "gI = 1836*np.pi*a0**3*n**3*A*(3/2)*1/(mu_0*2*mb**2)/z**3\n",
    "gI"
   ]
  },
  {
   "cell_type": "code",
   "execution_count": null,
   "id": "adaptive-devil",
   "metadata": {},
   "outputs": [],
   "source": [
    "E = 1.42e9*sc.h\n",
    "A = E\n",
    "n=1\n",
    "z=1\n",
    "gI = 1836*np.pi*a0**3*n**3*A*(3/2)*1/(mu_0*2*mb**2)/z**3\n",
    "gI"
   ]
  },
  {
   "cell_type": "code",
   "execution_count": 41,
   "id": "identical-trouble",
   "metadata": {},
   "outputs": [
    {
     "name": "stdout",
     "output_type": "stream",
     "text": [
      "53.10207157857463\n"
     ]
    }
   ],
   "source": [
    "I = 2*.11/(np.pi*(29.3e-6)**2)\n",
    "E = np.sqrt(2*I/(sc.c*sc.epsilon_0))\n",
    "\n",
    "s = I = S(1)/2\n",
    "f1 = 1\n",
    "mf1 = 1\n",
    "j1 = S(1)/2\n",
    "l1 = 1\n",
    "\n",
    "f2 = 1\n",
    "mf2 = 0\n",
    "j2 = S(1)/2\n",
    "l2 = 0\n",
    "q = 1\n",
    "\n",
    "\n",
    "\n",
    "mu = np.sqrt(gam1*3*sc.c**2/(4*a*w0**3))*(2*j1+1)\n",
    "d = w0-2*np.pi*l\n",
    "\n",
    "hf = 9.925e9*2*np.pi\n",
    "\n",
    "t = 1/(j1*((2*j1)/(2*j1+1)/(2*j1+2))**(1/2))\n",
    "x = c1*c2\n",
    "\n",
    "c1 = 1/3*sympy.sqrt(I*(I+1)*(I+2))\n",
    "c2 = (-1)**(f2+I+j2)\n",
    "c3 = wigner_6j(j2,I,f2,I,j2,1)*(-1)**(j1+j2)/(2*j2+1)\n",
    "\n",
    "\n",
    "alph = (mu/sc.hbar)**2*(1/d)**2*hf*c1*c2*c3*t\n",
    "\n",
    "ss011 = -(E**2/4)*(alph)\n",
    "\n",
    "print(float(ss011)/(2*np.pi))\n"
   ]
  },
  {
   "cell_type": "code",
   "execution_count": 42,
   "id": "literary-release",
   "metadata": {},
   "outputs": [
    {
     "name": "stdout",
     "output_type": "stream",
     "text": [
      "1/2\n"
     ]
    }
   ],
   "source": [
    "c1 = wigner_6j(j1,1,j1,f1,j1,1)\n",
    "c2 = wigner_6j(f1,q,f1,j1,j1,j1)\n",
    "\n",
    "c3 = wigner_6j(j1,I,0,I,j1,1)\n",
    "\n",
    "print(c3)"
   ]
  },
  {
   "cell_type": "code",
   "execution_count": null,
   "id": "postal-norman",
   "metadata": {},
   "outputs": [],
   "source": [
    "I = 2*.11/(np.pi*(29.3e-6)**2)\n",
    "E = np.sqrt(2*I/(sc.c*sc.epsilon_0))\n",
    "\n",
    "s = I = S(1)/2\n",
    "f1 = 1\n",
    "mf1 = 1\n",
    "j1 = S(1)/2\n",
    "l1 = 1\n",
    "\n",
    "f2 = 1\n",
    "mf2 = 0\n",
    "j2 = S(1)/2\n",
    "l2 = 0\n",
    "q = 1\n",
    "\n",
    "w0 = 2*np.pi*658e12\n",
    "gam1 = 2*np.pi*18.8e6\n",
    "\n",
    "mu = np.sqrt(gam1*3*sc.c**2/(4*a*w0**3))\n",
    "d = w0-2*np.pi*l\n",
    "\n",
    "hf = 9.925e9*2*np.pi\n",
    "\n",
    "t = 1/(j1*((2*j1)/(2*j1+1)/(2*j1+2))**(1/2))\n",
    "c1 = wigner_3j(f1, 1, f2, -mf1, q , mf2)*(-1)**(f1-mf1)*sympy.sqrt(2*f1+1)\n",
    "c2 = wigner_6j(j1,f1,S(1)/2,f2,j2,1)*sympy.sqrt(2*f2+1)*sympy.sqrt(2*j1+1)*(-1)**(j1+S(1)/2+f2+1)\n",
    "x = c1*c2\n",
    "\n",
    "c3 = (2*f1+1)*np.sqrt(2*q+1)*sympy.sqrt(I*(I+1)*(I+2))\n",
    "c4 = (-1)**(I-j1-f1+1)*(-1)**(j1-5-j1-j1-j2)*(2*j1+1)\n",
    "c5 = wigner_9j(f1,q,f1,j1,1,j2,I,1,j1)\n",
    "c6 = wigner_9j(I,j1,f1,1,j2,j1,I,1,j1+1)\n",
    "print(c5)\n",
    "print(c6)\n",
    "alph = t*x**2*c3*c4*c6*c5*(mu/sc.hbar)**2*(1/d)**2*hf\n",
    "\n",
    "ss011 = -(E**2/4)*(alph)\n",
    "\n",
    "print(float(ss011)/(2*np.pi))\n"
   ]
  },
  {
   "cell_type": "code",
   "execution_count": 44,
   "id": "fixed-bolivia",
   "metadata": {},
   "outputs": [
    {
     "name": "stdout",
     "output_type": "stream",
     "text": [
      "24.791286547832254\n"
     ]
    }
   ],
   "source": [
    "print(E/1e4)"
   ]
  },
  {
   "cell_type": "code",
   "execution_count": null,
   "id": "narrative-queensland",
   "metadata": {},
   "outputs": [],
   "source": [
    "import sympy\n",
    "from sympy import S\n",
    "from sympy.physics.wigner import wigner_3j\n",
    "from sympy.physics.wigner import wigner_6j\n",
    "import numpy as np\n",
    "import scipy.constants as sc\n",
    "\n",
    "I = 2*.11/(np.pi*(29.3e-6)**2)\n",
    "E = np.sqrt(2*I/(sc.c*sc.epsilon_0))\n",
    "l = 563e12\n",
    "gam1 =  3.177e8\n",
    "a = 1/(4*np.pi*sc.epsilon_0*sc.hbar*sc.c)\n",
    "qf  = 9.9254644e9\n",
    "\n",
    "\n",
    "s = S(1)/2\n",
    "f1 = 1\n",
    "mf1 = -1\n",
    "j1 = S(1)/2\n",
    "l1 = 1\n",
    "f2 = 1\n",
    "mf2 = 0\n",
    "j2 = S(1)/2\n",
    "l2 = 0\n",
    "q = -1\n",
    "\n",
    "c1 = wigner_3j(f1, 1, f2, -mf1, q , mf2)*(-1)**(f1-mf1)*sympy.sqrt(2*f1+1)\n",
    "c2 = wigner_6j(j1,f1,S(1)/2,f2,j2,1)*sympy.sqrt(2*f2+1)*sympy.sqrt(2*j1+1)*(-1)**(j1+S(1)/2+f2+1)\n",
    "x = c1*c2\n",
    "print('x1', x)\n",
    "w0 = 2*np.pi*(1326.51e12)\n",
    "\n",
    "mu = np.sqrt(gam1*3*sc.c**2/(4*a*w0**3))*x\n",
    "W= E/sc.hbar*mu\n",
    "d = w0-2*np.pi*l\n",
    "ss011 = W**2/(2*np.pi)\n",
    "\n",
    "s = S(1)/2\n",
    "f1 = 1\n",
    "mf1 = -1\n",
    "j1 = S(1)/2\n",
    "l1 = 1\n",
    "f2 = 0\n",
    "mf2 = 0\n",
    "j2 = S(1)/2\n",
    "l2 = 0\n",
    "q = -1\n",
    "\n",
    "c1 = wigner_3j(f1, 1, f2, -mf1, q , mf2)*(-1)**(f1-mf1)*sympy.sqrt(2*f1+1)\n",
    "c2 = wigner_6j(j1,f1,S(1)/2,f2,j2,1)*sympy.sqrt(2*f2+1)*sympy.sqrt(2*j1+1)*(-1)**(j1+S(1)/2+f2+1)\n",
    "x = c1*c2\n",
    "w02 = 2*np.pi*(607.429890e12-qf-1.815e9)\n",
    "mu2 = np.sqrt(gam1*3*sc.c**2/(4*a*w0**3))*x\n",
    "W2= E/sc.hbar*mu2\n",
    "\n",
    "\n",
    "mn = sc.m_e/sc.m_p*mu_b\n",
    "ss001 = W2**2/(4*d2)/(2*np.pi)\n",
    "print(ss011)\n",
    "print(ss001)"
   ]
  }
 ],
 "metadata": {
  "kernelspec": {
   "display_name": "Python 3",
   "language": "python",
   "name": "python3"
  },
  "language_info": {
   "codemirror_mode": {
    "name": "ipython",
    "version": 3
   },
   "file_extension": ".py",
   "mimetype": "text/x-python",
   "name": "python",
   "nbconvert_exporter": "python",
   "pygments_lexer": "ipython3",
   "version": "3.9.2"
  }
 },
 "nbformat": 4,
 "nbformat_minor": 5
}
