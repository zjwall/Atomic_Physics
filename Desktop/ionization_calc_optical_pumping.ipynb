{
 "cells": [
  {
   "cell_type": "code",
   "execution_count": 28,
   "id": "mature-august",
   "metadata": {},
   "outputs": [],
   "source": [
    "### 3 Level System ####\n",
    "\n",
    "import matplotlib.pyplot as plt\n",
    "import numpy as np\n",
    "from matplotlib.ticker import MultipleLocator, FormatStrFormatter\n",
    "import math\n",
    "import cmath\n",
    "import scipy.constants as sc\n",
    "import time\n",
    "%matplotlib inline\n",
    "\n",
    "\n",
    "\n",
    "def Euler(rho,L,Ld,t):\n",
    "    temp = np.cos(wl_1*t)\n",
    "    for i in range(1,len(t)):\n",
    "        H=Ham(t[i-1],temp[i-1])\n",
    "        H = np.dot(np.dot(Uni(t[i-1]),H), Unic(t[i-1]))\n",
    "        rho[i] = rho[i-1]+del_t*(-1j*(np.dot(H,rho[i-1])-np.dot(rho[i-1],H)) \\\n",
    "                       -.5*(np.dot(Ld,np.dot(L,rho[i-1])) + np.dot(rho[i-1], np.dot(Ld,L))) + np.dot(L,np.dot(rho[i-1], Ld)))                                \n",
    "    return(rho)\n",
    "\n",
    "### Two Level Atom ###                                \n",
    "#create a list of times to simulate                                \n",
    "del_t = .5e-12\n",
    "t = np.arange(0,25e-7,del_t)           \n"
   ]
  },
  {
   "cell_type": "code",
   "execution_count": 29,
   "id": "nervous-training",
   "metadata": {},
   "outputs": [
    {
     "data": {
      "image/png": "[encoded data removed]",
      "text/plain": [
       "<Figure size 432x288 with 1 Axes>"
      ]
     },
     "metadata": {
      "needs_background": "light"
     },
     "output_type": "display_data"
    },
    {
     "name": "stdout",
     "output_type": "stream",
     "text": [
      "total time 183.13688015937805\n",
      "probability of ionization after 2 us 0.00011678619051882888\n"
     ]
    }
   ],
   "source": [
    "t0=time.time()                        \n",
    "\n",
    "#create empty density matrix list and initial state\n",
    "n=4 ## dimension of Hamiltonian\n",
    "rho = np.zeros((len(t),n,n),dtype=complex)\n",
    "rho[0] = [[1,0,0,0],[0,0,0,0],[0,0,0,0],[0,0,0,0]] # initial conditions\n",
    "\n",
    "\n",
    "##create Hamiltonian, in this example we have 2 level system with coupling electric field\n",
    "\n",
    "w_1 = 442e12\n",
    "d_1=0 ##detuning\n",
    "wl_1 = w_1-d_1\n",
    "w_2 = 341e12\n",
    "d_2 = 0\n",
    "wl_2 = w_2-d_2\n",
    "w_3 = 770e12\n",
    "\n",
    "gam_1=1.19e8\n",
    "\n",
    "## given beam parameters get a rabi freq W\n",
    "I = 2*.00005/(np.pi*(80e-6)**2)\n",
    "E = np.sqrt(2*I/(sc.c*sc.epsilon_0))\n",
    "a = 1/(4*np.pi*sc.epsilon_0*sc.hbar*sc.c)\n",
    "mu = np.sqrt(gam_1*3*sc.c**2/(4*a*w_1**3))\n",
    "W_1 = E/sc.hbar*mu ##Rabi Frequency\n",
    "\n",
    "gam_2=1.1e5\n",
    "\n",
    "## given beam parameters get a rabi freq W\n",
    "I = 0*.0005/(np.pi*(200e-6)**2)\n",
    "E = np.sqrt(2*I/(sc.c*sc.epsilon_0))\n",
    "a = 1/(4*np.pi*sc.epsilon_0*sc.hbar*sc.c)\n",
    "mu = np.sqrt(gam_2*3*sc.c**2/(4*a*w_2**3))\n",
    "W_2 = E/sc.hbar*mu ##Rabi Frequency\n",
    "\n",
    "gam_3 = 100\n",
    "\n",
    "\n",
    "H_0 = np.zeros((n,n), dtype= complex)\n",
    "H_1 = np.zeros((n,n), dtype= complex)\n",
    "U = np.zeros((n,n), dtype=complex)\n",
    "Uc = np.zeros((n,n), dtype=complex)\n",
    "L = np.zeros((n,n), dtype=complex)\n",
    "Ld = np.zeros((n,n), dtype=complex)\n",
    "\n",
    "L[2,0] = np.sqrt(gam_1)\n",
    "Ld[0,2] = np.sqrt(gam_1)\n",
    "L[1,0] = np.sqrt(gam_2)\n",
    "Ld[0,1] = np.sqrt(gam_2)\n",
    "L[3,2] = np.sqrt(gam_3)\n",
    "Ld[2,3] = np.sqrt(gam_3)\n",
    "\n",
    "H_0[1,1] = w_2\n",
    "H_0[2,2] =  w_1\n",
    "H_0[3,3] = w_3\n",
    "\n",
    "def Ham(t,c):\n",
    "    H_1[2,0] = H_1[0,2] = W_1*c\n",
    "    return H_1\n",
    "\n",
    "def Uni(t):\n",
    "    for i in range(n):\n",
    "        U[i,i] = np.exp(-1j*H_0[i,i]*t)\n",
    "    return U\n",
    "\n",
    "def Unic(t):\n",
    "    for i in range(n):\n",
    "        Uc[i,i] = np.exp(1j*H_0[i,i]*t)\n",
    "    return Uc\n",
    "\n",
    "                                                                           \n",
    "t1=time.time()\n",
    "result = Euler(rho,L,Ld,t)\n",
    "t2=time.time()\n",
    "\n",
    "##Plotting Results###\n",
    "fig = plt.figure()\n",
    "fig.suptitle('Numerical Result', fontsize=20)\n",
    "ax = fig.gca()\n",
    "\n",
    "\n",
    "plt.plot(t,result[:,2,2].real, color = 'darkred',label=\"$|^1P>$, $\\delta = 0$ \")#\n",
    "plt.plot(t,result[:,0,0].real, color = 'royalblue',label=\"|g>, $\\delta = 0$ \")\n",
    "plt.plot(t,result[:,1,1].real, color = 'orange',label=\"|m>, $\\delta = 0$ \")\n",
    "plt.plot(t,result[:,3,3].real, color = 'green',label=\"|continuum>, $\\delta = 0$ \")\n",
    "\n",
    "plt.xlabel(\"time (s)\")\n",
    "plt.ylabel(\"population\")\n",
    "\n",
    "# plt.plot(t, (np.cos(Wp2*t/2))**2+(d2/Wp2)**2*(np.sin(Wp2*t/2))**2, color = 'royalblue',label=\"|g>, $\\delta = 0$ \")\n",
    "plt.legend(loc=(1.04,.51))\n",
    "plt.grid()\n",
    "plt.show()\n",
    "\n",
    "t3=time.time()\n",
    "\n",
    "\n",
    "print('total time', t3-t0)\n",
    "print('probability of ionization after 2 us', result[-1,3,3].real)"
   ]
  },
  {
   "cell_type": "code",
   "execution_count": 13,
   "id": "graduate-bedroom",
   "metadata": {},
   "outputs": [
    {
     "data": {
      "text/plain": [
       "4527.83065657886"
      ]
     },
     "execution_count": 13,
     "metadata": {},
     "output_type": "execute_result"
    }
   ],
   "source": [
    "#laser e field\n",
    "e0 = 8.854187e-12\n",
    "p = 3\n",
    "w = 30e-6\n",
    "I = p/(np.pi*w**2/2)\n",
    "E = np.sqrt(2*I/(sc.c*e0))\n",
    "cs = 1470e7*1e-28\n",
    "fl = E**2/(8*np.pi)*.5*323\n",
    "cs*fl*sc.c"
   ]
  },
  {
   "cell_type": "code",
   "execution_count": null,
   "id": "suffering-necessity",
   "metadata": {},
   "outputs": [],
   "source": []
  }
 ],
 "metadata": {
  "kernelspec": {
   "display_name": "Python 3",
   "language": "python",
   "name": "python3"
  },
  "language_info": {
   "codemirror_mode": {
    "name": "ipython",
    "version": 3
   },
   "file_extension": ".py",
   "mimetype": "text/x-python",
   "name": "python",
   "nbconvert_exporter": "python",
   "pygments_lexer": "ipython3",
   "version": "3.9.2"
  }
 },
 "nbformat": 4,
 "nbformat_minor": 5
}
