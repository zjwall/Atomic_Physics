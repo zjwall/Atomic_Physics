{
 "cells": [
  {
   "cell_type": "markdown",
   "id": "suitable-expansion",
   "metadata": {},
   "source": [
    "Raman rabi rate calculation"
   ]
  },
  {
   "cell_type": "code",
   "execution_count": 1,
   "id": "sonic-closing",
   "metadata": {
    "tags": []
   },
   "outputs": [
    {
     "name": "stdout",
     "output_type": "stream",
     "text": [
      "power 0.151321991802571\n",
      "error 9.771069146481805e-07\n"
     ]
    }
   ],
   "source": [
    "import matplotlib.pyplot as plt\n",
    "import numpy as np\n",
    "from scipy.optimize import curve_fit\n",
    "from scipy.special import factorial\n",
    "import scipy.constants as sc\n",
    "import sympy\n",
    "from sympy import S\n",
    "from sympy.physics.wigner import wigner_3j\n",
    "from sympy.physics.wigner import wigner_6j\n",
    "import numpy as np\n",
    "import scipy.constants as sc\n",
    "\n",
    "\n",
    "I = 2*.15/(np.pi*(20e-6)**2)\n",
    "E = np.sqrt(2*I/(sc.c*sc.epsilon_0))\n",
    "w = 2*np.pi*384e12\n",
    "w12 = 2*np.pi*(607)*1e12\n",
    "d = w-w12\n",
    "wf = 2*np.pi*(607-563)*1e12\n",
    "gampi = 2*np.pi*15.1e6\n",
    "wpi = 2*np.pi*607.425890e12\n",
    "mpi = sympy.sqrt((gampi*3*np.pi*sc.epsilon_0*sc.hbar*sc.c**3)/(wpi**3))\n",
    "# gpi = E*mpi/(2*sc.hbar)\n",
    "\n",
    "\n",
    "##single qubit gate time and scatter\n",
    "tg = 1e-5\n",
    "rr = np.pi/(2*tg)\n",
    "gpi = sympy.sqrt(rr*-d*(15/2))\n",
    "E = (gpi*2*sc.hbar)/mpi\n",
    "I = (E**2*sc.c*sc.epsilon_0)/2\n",
    "p = I*np.pi*(20e-6)**2/2\n",
    "print('power', p)\n",
    "sr = 0.09771069146481805\n",
    "er = tg*sr\n",
    "\n",
    "print('error', er)"
   ]
  },
  {
   "cell_type": "code",
   "execution_count": 2,
   "id": "dress-romania",
   "metadata": {},
   "outputs": [
    {
     "name": "stdout",
     "output_type": "stream",
     "text": [
      "power 0.740364845001420\n",
      "error 0.06761707774591394\n"
     ]
    }
   ],
   "source": [
    "##two qubit gate time and scatter prob\n",
    "tg = 1e-4\n",
    "m=2.2085e-25\n",
    "w_s = 2*np.pi*1e6\n",
    "z0 = sympy.sqrt(sc.hbar/(4*m*w_s))\n",
    "eta = sympy.sqrt(2)*w*z0/sc.c\n",
    "\n",
    "rr = np.pi/(2*tg)*(1/eta)\n",
    "E = sympy.sqrt(3*rr*(d*(d-wf))/(wf*(mpi/(2*sc.hbar))**2))\n",
    "\n",
    "I = (E**2*sc.c*sc.epsilon_0)/2\n",
    "p = I*np.pi*(20e-6)**2/2\n",
    "\n",
    "\n",
    "print('power', p)\n",
    "sr =0.016904269436478485*4\n",
    "er = tg*sr\n",
    "print('error', er/1e-4)\n"
   ]
  },
  {
   "cell_type": "code",
   "execution_count": null,
   "id": "young-habitat",
   "metadata": {},
   "outputs": [],
   "source": []
  },
  {
   "cell_type": "code",
   "execution_count": 3,
   "id": "diverse-providence",
   "metadata": {},
   "outputs": [
    {
     "ename": "NameError",
     "evalue": "name 'w32' is not defined",
     "output_type": "error",
     "traceback": [
      "\u001b[1;31m---------------------------------------------------------------------------\u001b[0m",
      "\u001b[1;31mNameError\u001b[0m                                 Traceback (most recent call last)",
      "\u001b[1;32m<ipython-input-3-f4dc4b5eec96>\u001b[0m in \u001b[0;36m<module>\u001b[1;34m\u001b[0m\n\u001b[1;32m----> 1\u001b[1;33m \u001b[0md\u001b[0m \u001b[1;33m=\u001b[0m \u001b[0mw\u001b[0m\u001b[1;33m-\u001b[0m\u001b[0mw32\u001b[0m\u001b[1;33m\u001b[0m\u001b[1;33m\u001b[0m\u001b[0m\n\u001b[0m\u001b[0;32m      2\u001b[0m \u001b[1;33m\u001b[0m\u001b[0m\n\u001b[0;32m      3\u001b[0m \u001b[0mI\u001b[0m \u001b[1;33m=\u001b[0m \u001b[1;36m2\u001b[0m\u001b[1;33m*\u001b[0m\u001b[1;36m.1e-2\u001b[0m\u001b[1;33m/\u001b[0m\u001b[1;33m(\u001b[0m\u001b[0mnp\u001b[0m\u001b[1;33m.\u001b[0m\u001b[0mpi\u001b[0m\u001b[1;33m*\u001b[0m\u001b[1;33m(\u001b[0m\u001b[1;36m20e-6\u001b[0m\u001b[1;33m)\u001b[0m\u001b[1;33m**\u001b[0m\u001b[1;36m2\u001b[0m\u001b[1;33m)\u001b[0m\u001b[1;33m\u001b[0m\u001b[1;33m\u001b[0m\u001b[0m\n\u001b[0;32m      4\u001b[0m \u001b[0mE\u001b[0m \u001b[1;33m=\u001b[0m \u001b[0mnp\u001b[0m\u001b[1;33m.\u001b[0m\u001b[0msqrt\u001b[0m\u001b[1;33m(\u001b[0m\u001b[1;36m2\u001b[0m\u001b[1;33m*\u001b[0m\u001b[0mI\u001b[0m\u001b[1;33m/\u001b[0m\u001b[1;33m(\u001b[0m\u001b[0msc\u001b[0m\u001b[1;33m.\u001b[0m\u001b[0mc\u001b[0m\u001b[1;33m*\u001b[0m\u001b[0msc\u001b[0m\u001b[1;33m.\u001b[0m\u001b[0mepsilon_0\u001b[0m\u001b[1;33m)\u001b[0m\u001b[1;33m)\u001b[0m\u001b[1;33m\u001b[0m\u001b[1;33m\u001b[0m\u001b[0m\n\u001b[0;32m      5\u001b[0m \u001b[1;33m\u001b[0m\u001b[0m\n",
      "\u001b[1;31mNameError\u001b[0m: name 'w32' is not defined"
     ]
    }
   ],
   "source": [
    "# d = w-w32\n",
    "\n",
    "# I = 2*.1e-2/(np.pi*(20e-6)**2)\n",
    "# E = np.sqrt(2*I/(sc.c*sc.epsilon_0))\n",
    "\n",
    "# gpi = E*mpi/(2*sc.hbar)\n",
    "# rr = (2/15)*gpi**2/d\n",
    "# float(rr/(2*np.pi*1e6))"
   ]
  },
  {
   "cell_type": "code",
   "execution_count": null,
   "id": "devoted-teacher",
   "metadata": {
    "jupyter": {
     "source_hidden": true
    },
    "tags": []
   },
   "outputs": [],
   "source": [
    "import sympy\n",
    "from sympy import S\n",
    "from sympy.physics.wigner import wigner_3j\n",
    "from sympy.physics.wigner import wigner_6j\n",
    "import numpy as np\n",
    "import scipy.constants as sc\n",
    "\n",
    "I = 2*1e-2/(np.pi*(20e-6)**2)\n",
    "E = np.sqrt(2*I/(sc.c*sc.epsilon_0))\n",
    "# w = 2*np.pi*(607.329890e12-1.815e9)\n",
    "w = 2*np.pi*(563e12)\n",
    "a = 1/(4*np.pi*sc.epsilon_0*sc.hbar*sc.c)\n",
    "\n",
    "gam1ps = 2*np.pi*15.1e6\n",
    "gam2ps = 2*np.pi*18.8e6\n",
    "gam1pd1 = 2*np.pi*5.3e6\n",
    "gam2pd1 = 2*np.pi*.7e6\n",
    "gam2pd2 = 2*np.pi*5.9e6\n",
    "\n",
    "\n",
    "###i = |F=0, mf=0, L=0> ###\n",
    "si = S(1)/2\n",
    "fi = 0\n",
    "mfi = 0\n",
    "ji = S(1)/2\n",
    "li = 0\n",
    "wi = 2*np.pi*(9.925e9)\n",
    "q= 1\n",
    "\n",
    "##--------------------- f = |F=1, J=1/2, L=0, mf=0> -----------------------------##\n",
    "sf = S(1)/2\n",
    "ff = 1\n",
    "mff = 0\n",
    "jf = S(1)/2\n",
    "lf = 0\n",
    "\n",
    "wf = 2*np.pi*(0)\n",
    "con = (E/(2*sc.hbar))**2\n",
    "\n",
    "\n",
    "##--------------------- l = |F=1, J=1/2, L=0, mf=-1> -----------------------------##\n",
    "sl = S(1)/2\n",
    "fl = 1\n",
    "mfl = -1\n",
    "jl = S(1)/2\n",
    "ll = 1\n",
    "wl = 2*np.pi*(607.429890e12-1.815e9)\n",
    "\n",
    "\n",
    "glf = gam1ps\n",
    "gli = gam1ps\n",
    "\n",
    "\n",
    "\n",
    "#i -- > l e_q ##\n",
    "c1 = wigner_3j(fl, 1, fi, -mfl, -q , mfi)*(-1)**(fl-mfl)*sympy.sqrt(2*fl+1)\n",
    "c2 = wigner_6j(jl,fl,S(1)/2,fi,ji,1)*sympy.sqrt(2*fi+1)*(-1)**(jl+S(1)/2+fi+1)\n",
    "x = c1*c2*sympy.sqrt(2*jl+1)\n",
    "\n",
    "mu12 = np.sqrt(gli*3*sc.c**2/(4*a*wl**3))*x\n",
    "\n",
    "##l --> f e_q ##\n",
    "\n",
    "c1 = wigner_3j(fl, 1, ff, -mfl,  -q , mff)*(-1)**(fl-mfl)*sympy.sqrt(2*fl+1)\n",
    "c2 = wigner_6j(jl,fl,S(1)/2,ff,jf,1)*sympy.sqrt(2*ff+1)*(-1)**(jl+S(1)/2+ff+1)\n",
    "x = c1*c2*sympy.sqrt(2*jl+1)\n",
    "\n",
    "mu21 = np.sqrt(glf*3*sc.c**2/(4*a*wl**3))*x\n",
    "\n",
    "t11 = mu12*mu21/(w-wl)\n",
    "\n",
    "\n",
    "##--------------------- l = |F=1, J=1/2, L=0, mf=1> -----------------------------##\n",
    "sl = S(1)/2\n",
    "fl = 1\n",
    "mfl = 1\n",
    "jl = S(1)/2\n",
    "ll = 1\n",
    "wl = 2*np.pi*(607.429890e12-1.815e9)\n",
    "\n",
    "\n",
    "glf = gam1ps\n",
    "gli = gam1ps\n",
    "\n",
    "#i -- > l e_q ##\n",
    "c1 = wigner_3j(fl, 1, fi, -mfl, q , mfi)*(-1)**(fl-mfl)*sympy.sqrt(2*fl+1)\n",
    "c2 = wigner_6j(jl,fl,S(1)/2,fi,ji,1)*sympy.sqrt(2*fi+1)*(-1)**(jl+S(1)/2+fi+1)\n",
    "x = c1*c2*sympy.sqrt(2*jl+1)\n",
    "mu12 = np.sqrt(gli*3*sc.c**2/(4*a*wl**3))*x\n",
    "\n",
    "##l --> f e_q ##\n",
    "\n",
    "c1 = wigner_3j(fl, 1, ff, -mfl,  q , mff)*(-1)**(fl-mfl)*sympy.sqrt(2*fl+1)\n",
    "c2 = wigner_6j(jl,fl,S(1)/2,ff,jf,1)*sympy.sqrt(2*ff+1)*(-1)**(jl+S(1)/2+ff+1)\n",
    "x = c1*c2*sympy.sqrt(2*jl+1)\n",
    "mu21 = np.sqrt(glf*3*sc.c**2/(4*a*wl**3))*x\n",
    "\n",
    "t12 = mu12*mu21/(w-wl)\n",
    "\n",
    "\n",
    "##--------------------- l = |F=1, J=1/2, L=0, mf=-1> -----------------------------##\n",
    "sl = S(1)/2\n",
    "fl = 1\n",
    "mfl = -1\n",
    "jl = S(3)/2\n",
    "ll = 1\n",
    "wl = 2*np.pi*(658.115271e12+625e6)\n",
    "\n",
    "glf = gam2ps\n",
    "gli = gam2ps\n",
    "\n",
    "#i -- > l e_q ##\n",
    "c1 = wigner_3j(fl, 1, fi, -mfl, -q , mfi)*(-1)**(fl-mfl)*sympy.sqrt(2*fl+1)\n",
    "c2 = wigner_6j(jl,fl,S(1)/2,fi,ji,1)*sympy.sqrt(2*fi+1)*(-1)**(jl+S(1)/2+fi+1)\n",
    "x = c1*c2*sympy.sqrt(2*jl+1)\n",
    "print(x)\n",
    "mu12 = np.sqrt(gli*3*sc.c**2/(4*a*wl**3))*x\n",
    "\n",
    "##l --> f e_q ##\n",
    "\n",
    "c1 = wigner_3j(fl, 1, ff, -mfl,  -q , mff)*(-1)**(fl-mfl)*sympy.sqrt(2*fl+1)\n",
    "c2 = wigner_6j(jl,fl,S(1)/2,ff,jf,1)*sympy.sqrt(2*ff+1)*(-1)**(jl+S(1)/2+ff+1)\n",
    "x = c1*c2*sympy.sqrt(2*jl+1)\n",
    "\n",
    "mu21 = np.sqrt(glf*3*sc.c**2/(4*a*wl**3))*x\n",
    "print(x)\n",
    "t21 = mu12*mu21/(w-wl)\n",
    "\n",
    "\n",
    "##--------------------- l = |F=1, J=3/2, L=1, mf=1> -----------------------------##\n",
    "sl = S(1)/2\n",
    "fl = 1\n",
    "mfl = 1\n",
    "jl = S(3)/2\n",
    "ll = 1\n",
    "wl = 2*np.pi*(658.115271e12+625e6)\n",
    "\n",
    "\n",
    "glf = gam2ps\n",
    "gli = gam2ps\n",
    "\n",
    "#i -- > l e_q ##\n",
    "c1 = wigner_3j(fl, 1, fi, -mfl, q , mfi)*(-1)**(fl-mfl)*sympy.sqrt(2*fl+1)\n",
    "c2 = wigner_6j(jl,fl,S(1)/2,fi,ji,1)*sympy.sqrt(2*fi+1)*(-1)**(jl+S(1)/2+fi+1)\n",
    "x = c1*c2*sympy.sqrt(2*jl+1)\n",
    "mu12 = np.sqrt(gli*3*sc.c**2/(4*a*wl**3))*x\n",
    "##l --> f e_q ##\n",
    "\n",
    "c1 = wigner_3j(fl, 1, ff, -mfl,  q , mff)*(-1)**(fl-mfl)*sympy.sqrt(2*fl+1)\n",
    "c2 = wigner_6j(jl,fl,S(1)/2,ff,jf,1)*sympy.sqrt(2*ff+1)*(-1)**(jl+S(1)/2+ff+1)\n",
    "x = c1*c2*sympy.sqrt(2*jl+1)\n",
    "mu21 = np.sqrt(glf*3*sc.c**2/(4*a*wl**3))*x\n",
    "t22 = mu12*mu21/(w-wl)\n",
    "\n",
    "rr = con*(-t11+t12)\n",
    "rr1 = con*(-t21+t22)\n",
    "float((rr+rr1)/(2*np.pi*1e6))"
   ]
  },
  {
   "cell_type": "code",
   "execution_count": 4,
   "id": "nearby-spending",
   "metadata": {},
   "outputs": [
    {
     "name": "stdout",
     "output_type": "stream",
     "text": [
      "-44.000000000000036\n",
      "0.012088974854932289\n",
      "-94.00000000000003\n"
     ]
    },
    {
     "data": {
      "text/plain": [
       "0.011659867919346319"
      ]
     },
     "execution_count": 4,
     "metadata": {},
     "output_type": "execute_result"
    }
   ],
   "source": [
    "I = 2*1e-2/(np.pi*(20e-6)**2)\n",
    "E = np.sqrt(2*I/(sc.c*sc.epsilon_0))\n",
    "w = 2*np.pi*563e12\n",
    "wf = 2*np.pi*50e12\n",
    "w32 = 2*np.pi*658e12\n",
    "w12 = 2*np.pi*607e12\n",
    "# w=w32+2*np.pi*418e10\n",
    "gam = 2*np.pi*20.1e6\n",
    "d = w-w12\n",
    "\n",
    "print(d/(2*np.pi*1e12))\n",
    "print((wf/(d*(d-wf)))*(2*np.pi*1e12))\n",
    "print((d-wf)/(2*np.pi*1e12))\n",
    "\n",
    "g= E*np.sqrt(gam*3*np.pi*sc.c**3*sc.epsilon_0/(w32**3*4*sc.hbar))\n",
    "rr = g**2*1/3*(wf/(d*(d-wf)))\n",
    "# rr = g**2*(1/3)*(1/d)\n",
    "\n",
    "float(rr/(2*np.pi*1e6))"
   ]
  },
  {
   "cell_type": "code",
   "execution_count": 5,
   "id": "peripheral-family",
   "metadata": {},
   "outputs": [
    {
     "data": {
      "text/plain": [
       "0.008292904910681511"
      ]
     },
     "execution_count": 5,
     "metadata": {},
     "output_type": "execute_result"
    }
   ],
   "source": [
    "gampi = 2*np.pi*15.1e6\n",
    "wpi = 2*np.pi*607.425890e12\n",
    "d = w-wpi\n",
    "\n",
    "mpi = sympy.sqrt((gampi*3*np.pi*sc.epsilon_0*sc.hbar*sc.c**3)/(wpi**3))\n",
    "gpi = E*mpi/(2*sc.hbar)\n",
    "rr = (2/15)*gpi**2/d\n",
    "float(-rr/(2*np.pi*1e6))"
   ]
  },
  {
   "cell_type": "code",
   "execution_count": null,
   "id": "immediate-custom",
   "metadata": {},
   "outputs": [],
   "source": []
  },
  {
   "cell_type": "code",
   "execution_count": null,
   "id": "efficient-triangle",
   "metadata": {},
   "outputs": [],
   "source": []
  },
  {
   "cell_type": "code",
   "execution_count": null,
   "id": "balanced-operation",
   "metadata": {},
   "outputs": [],
   "source": []
  }
 ],
 "metadata": {
  "kernelspec": {
   "display_name": "Python 3",
   "language": "python",
   "name": "python3"
  },
  "language_info": {
   "codemirror_mode": {
    "name": "ipython",
    "version": 3
   },
   "file_extension": ".py",
   "mimetype": "text/x-python",
   "name": "python",
   "nbconvert_exporter": "python",
   "pygments_lexer": "ipython3",
   "version": "3.9.2"
  }
 },
 "nbformat": 4,
 "nbformat_minor": 5
}
