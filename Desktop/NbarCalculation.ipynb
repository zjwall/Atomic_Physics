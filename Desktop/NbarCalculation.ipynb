{
 "cells": [
  {
   "cell_type": "code",
   "execution_count": 2,
   "id": "decent-darkness",
   "metadata": {},
   "outputs": [
    {
     "data": {
      "text/plain": [
       "28.792561673990186"
      ]
     },
     "execution_count": 2,
     "metadata": {},
     "output_type": "execute_result"
    }
   ],
   "source": [
    "import math\n",
    "import numpy as np\n",
    "T = 360e-6\n",
    "hbar = 1.0545e-34\n",
    "k = 1.38e-23\n",
    "v=256e3*2*np.pi\n",
    "nbar = 1/(math.exp((hbar*v)/(k*T))-1)\n",
    "nbar"
   ]
  },
  {
   "cell_type": "code",
   "execution_count": 3,
   "id": "stretch-brazilian",
   "metadata": {},
   "outputs": [
    {
     "data": {
      "text/plain": [
       "4.000000000000001"
      ]
     },
     "execution_count": 3,
     "metadata": {},
     "output_type": "execute_result"
    }
   ],
   "source": [
    "pb = 1-.5\n",
    "pr = 1-.6\n",
    "R = pr/pb\n",
    "nbar = R/(1-R)\n",
    "nbar"
   ]
  },
  {
   "cell_type": "code",
   "execution_count": 4,
   "id": "becoming-canyon",
   "metadata": {},
   "outputs": [
    {
     "name": "stdout",
     "output_type": "stream",
     "text": [
      "436.3017595530759\n"
     ]
    }
   ],
   "source": [
    "nbar = 35\n",
    "T = hbar*v/(k*np.log((nbar+1)/nbar))\n",
    "print(T/1e-6)\n"
   ]
  },
  {
   "cell_type": "code",
   "execution_count": 5,
   "id": "verified-journalism",
   "metadata": {},
   "outputs": [
    {
     "data": {
      "text/plain": [
       "360.0879840446127"
      ]
     },
     "execution_count": 5,
     "metadata": {},
     "output_type": "execute_result"
    }
   ],
   "source": [
    "#doppler cooling limit calc\n",
    "Gamma = 2*np.pi*15*10**6\n",
    "T=hbar*Gamma/(2*k)\n",
    "T/(1e-6) ##in uK"
   ]
  },
  {
   "cell_type": "code",
   "execution_count": 8,
   "id": "seeing-sample",
   "metadata": {},
   "outputs": [
    {
     "name": "stdout",
     "output_type": "stream",
     "text": [
      "0.04361388737372879\n"
     ]
    },
    {
     "data": {
      "text/plain": [
       "0.043613887373728795"
      ]
     },
     "execution_count": 8,
     "metadata": {},
     "output_type": "execute_result"
    }
   ],
   "source": [
    "#lamb dicke parameter\n",
    "m=2.20852e-25\n",
    "wz=254e3*2*np.pi\n",
    "\n",
    "z0=np.sqrt(hbar/(2*m*wz))\n",
    "kz = 2*np.pi/(1762e-9)\n",
    "wr=hbar*kz**2/(2*m)\n",
    "print(np.sqrt(wr/wz))\n",
    "kz*z0"
   ]
  },
  {
   "cell_type": "code",
   "execution_count": 7,
   "id": "molecular-internship",
   "metadata": {},
   "outputs": [
    {
     "data": {
      "text/plain": [
       "1.5604231862690457e-08"
      ]
     },
     "execution_count": 7,
     "metadata": {},
     "output_type": "execute_result"
    }
   ],
   "source": [
    "# lifetime classical dipole\n",
    "e_0 = 8.85418782e-12\n",
    "m = 9.10938356e-31\n",
    "c=2.998e8\n",
    "e=1.60217662e-19\n",
    "w=2*np.pi*508985497.453311e6\n",
    "t = (6*np.pi*e_0*m*c**3)/(e**2*w**2)\n",
    "t\n"
   ]
  },
  {
   "cell_type": "code",
   "execution_count": null,
   "id": "comparable-password",
   "metadata": {},
   "outputs": [],
   "source": [
    "I=np.pi*hbar*c/(3*(1762e-9)**3*30)\n",
    "I"
   ]
  },
  {
   "cell_type": "code",
   "execution_count": null,
   "id": "cognitive-upper",
   "metadata": {},
   "outputs": [],
   "source": [
    "#rf rod noise to heating rate\n",
    "import scipy.constants as sc\n",
    "\n",
    "e=1.60217662e-19\n",
    "hbar = 1.0545e-34\n",
    "wz=220e3\n",
    "q=1.602e-19\n",
    "m=2.20852e-25\n",
    "p=1e-13\n",
    "r=1\n",
    "v=np.sqrt(r*p)\n",
    "d=3e-3\n",
    "s=(v/d)**2\n",
    "print(s)\n",
    "var=sc.e**2/(4*m*sc.hbar*wz)\n",
    "t = \"{:e}\".format(var)\n",
    "\n",
    "print(t)\n",
    "hr=var*s\n",
    "print(hr)"
   ]
  },
  {
   "cell_type": "code",
   "execution_count": null,
   "id": "incident-lincoln",
   "metadata": {},
   "outputs": [],
   "source": [
    "#rf rod noise to heating rate\n",
    "#berkely numbers\n",
    "\n",
    "e=1.60217662e-19\n",
    "hbar = 1.0545e-34\n",
    "wz=2*np.pi*1e6\n",
    "q=1.602e-19\n",
    "m=6.64216e-26\n",
    "p=1e-15\n",
    "r=1\n",
    "v=np.sqrt(r*p)\n",
    "d=100e-4\n",
    "s=(v/d)**2\n",
    "print(s)\n",
    "var=(sc.e**2)/(4*m*sc.hbar*wz)\n",
    "t = \"{:e}\".format(var)\n",
    "print(t)\n",
    "hr=var*s\n",
    "print(hr)\n"
   ]
  },
  {
   "cell_type": "code",
   "execution_count": null,
   "id": "adjusted-consultation",
   "metadata": {},
   "outputs": [],
   "source": [
    "m=1.49449e-26\n",
    "wz=2*np.pi*10e6\n",
    "s = (1e-9)**2\n",
    "u=17\n",
    "E=100\n",
    "t = 4*m*sc.hbar*wz/(sc.e**2*s)*(u/E)**2\n",
    "\n",
    "print(t)"
   ]
  },
  {
   "cell_type": "code",
   "execution_count": null,
   "id": "catholic-representation",
   "metadata": {},
   "outputs": [],
   "source": [
    "#Trap voltage based on measure secular frequency\n",
    "w=2*np.pi*2.587e6\n",
    "m=2.20852e-25\n",
    "e=1.60217662e-19\n",
    "d=3e-3\n",
    "q=.24\n",
    "\n",
    "q*m*d**2*w**2/(2*e)"
   ]
  },
  {
   "cell_type": "code",
   "execution_count": null,
   "id": "curious-estate",
   "metadata": {},
   "outputs": [],
   "source": [
    "e0=8.85e-12\n",
    "t=18.8e6\n",
    "w=658.115e12\n",
    "d=72e12\n",
    "p=3*np.pi*c**2/(2*(2*np.pi*w)**3)\n",
    "d=(2*np.pi*t)/(d)\n",
    "p*d*2*1e-3/(np.pi*(100e-6)**2)/hbar"
   ]
  },
  {
   "cell_type": "code",
   "execution_count": null,
   "id": "finnish-stockholm",
   "metadata": {},
   "outputs": [],
   "source": [
    "r=np.sqrt(t*3*np.pi*e0*hbar*c/w**3)\n",
    "r"
   ]
  },
  {
   "cell_type": "code",
   "execution_count": null,
   "id": "moved-friend",
   "metadata": {},
   "outputs": [],
   "source": [
    "w=812e12\n",
    "I=2e-3/(np.pi*(1e-3)**2)\n",
    "1e-18*I/(hbar*(2*np.pi*w))\n"
   ]
  },
  {
   "cell_type": "code",
   "execution_count": null,
   "id": "former-separate",
   "metadata": {},
   "outputs": [],
   "source": [
    "A=1.5e6*np.pi*2\n",
    "wl = 413e-9\n",
    "I_s=2*np.pi*hbar*c*A/(3*wl**3)\n",
    "I_s/10/10000"
   ]
  },
  {
   "cell_type": "code",
   "execution_count": 69,
   "id": "discrete-innocent",
   "metadata": {},
   "outputs": [
    {
     "name": "stdout",
     "output_type": "stream",
     "text": [
      "360.1311513084825\n",
      "159.85097200710842\n",
      "519.9821233155909\n"
     ]
    }
   ],
   "source": [
    "###Stark Shift ####\n",
    "import scipy.constants as sc\n",
    "A=2*np.pi*15.4e6\n",
    "I = 2*.420/(np.pi*(51e-6)**2)\n",
    "E = np.sqrt(2*I/(sc.c*sc.epsilon_0))\n",
    "w0=2*np.pi*607e12\n",
    "a = 1/(4*np.pi*sc.epsilon_0*sc.hbar*sc.c)\n",
    "mu = np.sqrt(A*3*sc.c**2/(4*a*w0**3))\n",
    "W= E/sc.hbar*mu\n",
    "d = 2*np.pi*(607-563)*1e12\n",
    "ss = W**2/(4*d)/(1e3*2*np.pi)\n",
    "\n",
    "print(ss)\n",
    "\n",
    "# print(3*np.pi*sc.c**2*A*I/(2*w0**3*d*sc.hbar*1e3))\n",
    "A=2*np.pi*18.8e6; w0=2*np.pi*658e12 ; d = 2*np.pi*(658-563)*1e12\n",
    "ss2 = 3*np.pi*sc.c**2*A*I/(2*w0**3*d*sc.hbar*1e3*2*np.pi)\n",
    "print(ss2)\n",
    "print(ss+ss2)"
   ]
  },
  {
   "cell_type": "code",
   "execution_count": 70,
   "id": "sonic-norway",
   "metadata": {},
   "outputs": [
    {
     "name": "stdout",
     "output_type": "stream",
     "text": [
      "155.77221684881647\n"
     ]
    }
   ],
   "source": [
    "A=5.9e6*2*np.pi\n",
    "# I = 2*2/(np.pi*(44e-6)**2)\n",
    "# E = np.sqrt(2*I/(sc.c*sc.epsilon_0))\n",
    "w0=2*np.pi*488e12\n",
    "a = 1/(4*np.pi*sc.epsilon_0*sc.hbar*sc.c)\n",
    "mu = np.sqrt(A*3*sc.c**2/(4*a*w0**3))\n",
    "W=E/sc.hbar*mu\n",
    "d = 2*np.pi*(563-488)*1e12\n",
    "ss3 = W**2/(4*d*1e3*2*np.pi)\n",
    "\n",
    "print(ss3)\n",
    "\n",
    "# print(3*np.pi*sc.c**2*A*I/(2*w0**3*d*sc.hbar*1e3)/(2*np.pi))"
   ]
  },
  {
   "cell_type": "code",
   "execution_count": 71,
   "id": "trained-upper",
   "metadata": {},
   "outputs": [
    {
     "name": "stdout",
     "output_type": "stream",
     "text": [
      "675.7543401644074\n"
     ]
    }
   ],
   "source": [
    "print((ss+ss2+ss3))"
   ]
  },
  {
   "cell_type": "code",
   "execution_count": 72,
   "id": "sweet-phone",
   "metadata": {},
   "outputs": [
    {
     "name": "stdout",
     "output_type": "stream",
     "text": [
      "9.323773972118957e+20\n",
      "0.41763642974771076\n",
      "9.398654504420851e+20\n",
      "1.5530181140552108\n"
     ]
    }
   ],
   "source": [
    "\n",
    "A = 2*np.pi*25.4e6; w0=2*np.pi*658e12 ; d = 2*np.pi*(658-563)*1e12\n",
    "I = 2*.42/(np.pi*(51e-6)**2)\n",
    "E = np.sqrt(2*I/(sc.c*sc.epsilon_0))\n",
    "mu = np.sqrt(A*3*sc.c**3*sc.hbar*sc.epsilon_0*np.pi/(w0**3))\n",
    "g = E*mu/(2*sc.hbar)\n",
    "sr=A*g**2/(d**2)\n",
    "print(g**2)\n",
    "print(sr)\n",
    "\n",
    "\n",
    "A = 2*np.pi*20.1e6; w0=2*np.pi*607e12 ; d = 2*np.pi*(607-563)*1e12\n",
    "I = 2*.42/(np.pi*(51e-6)**2)\n",
    "E = np.sqrt(2*I/(sc.c*sc.epsilon_0))\n",
    "mu = np.sqrt(A*3*sc.c**3*sc.hbar*sc.epsilon_0*np.pi/(w0**3))\n",
    "g = E*mu/(2*sc.hbar)\n",
    "sr=A*g**2/(d**2)\n",
    "print(g**2)\n",
    "print(sr)"
   ]
  },
  {
   "cell_type": "code",
   "execution_count": 73,
   "id": "distributed-minister",
   "metadata": {},
   "outputs": [
    {
     "name": "stdout",
     "output_type": "stream",
     "text": [
      "1.5530181140552108\n"
     ]
    }
   ],
   "source": [
    "sr=A*g**2/(d**2)\n",
    "print(sr)"
   ]
  },
  {
   "cell_type": "code",
   "execution_count": null,
   "id": "human-clearance",
   "metadata": {},
   "outputs": [],
   "source": [
    "A = 2*np.pi*25.4e6; w0=2*np.pi*658e12 ; d = 2*np.pi*(658-563)*1e12\n",
    "I = 2*2/(np.pi*(20e-6)**2)\n",
    "E = np.sqrt(2*I/(sc.c*sc.epsilon_0))\n",
    "mu = np.sqrt(A*3*sc.c**3*sc.hbar*sc.epsilon_0/(2*w0**3))\n",
    "g = E*mu/(2*sc.hbar)\n",
    "print(g)\n",
    "sr = (A/3)*g**2*(1/d**2+2/(d-w0)**2)\n",
    "print(sr)"
   ]
  },
  {
   "cell_type": "code",
   "execution_count": null,
   "id": "material-norwegian",
   "metadata": {},
   "outputs": [],
   "source": [
    "np.sqrt(15/13)"
   ]
  },
  {
   "cell_type": "code",
   "execution_count": null,
   "id": "hollow-heath",
   "metadata": {},
   "outputs": [],
   "source": [
    ".074*2.54"
   ]
  },
  {
   "cell_type": "code",
   "execution_count": null,
   "id": "seven-spice",
   "metadata": {},
   "outputs": [],
   "source": [
    "np.sqrt(.18796)"
   ]
  },
  {
   "cell_type": "code",
   "execution_count": null,
   "id": "blocked-chrome",
   "metadata": {},
   "outputs": [],
   "source": [
    "w0=25.4e-6\n",
    "zr = np.pi*w0**2/(532e-9)\n",
    "z=.0053\n",
    "w = w0*np.sqrt(1+(z/zr)**2)\n",
    "w/1e-6"
   ]
  },
  {
   "cell_type": "code",
   "execution_count": null,
   "id": "unlike-astrology",
   "metadata": {},
   "outputs": [],
   "source": [
    "w0=1e-6\n",
    "zr = np.pi*w0**2/(532e-9)\n",
    "z=.005\n",
    "w = w0*np.sqrt(1+(z/zr)**2)\n",
    "w/1e-6"
   ]
  },
  {
   "cell_type": "code",
   "execution_count": 4,
   "id": "according-margin",
   "metadata": {},
   "outputs": [
    {
     "data": {
      "text/plain": [
       "0.10195072939636028"
      ]
     },
     "execution_count": 4,
     "metadata": {},
     "output_type": "execute_result"
    }
   ],
   "source": [
    "import numpy as np\n",
    "n = 1.6e-19*2*100\n",
    "d = 2.2085e-25*(200e-6)**2*(2*np.pi*30e6)**2\n",
    "n/d"
   ]
  },
  {
   "cell_type": "code",
   "execution_count": null,
   "id": "directed-conducting",
   "metadata": {},
   "outputs": [],
   "source": []
  }
 ],
 "metadata": {
  "kernelspec": {
   "display_name": "Python 3",
   "language": "python",
   "name": "python3"
  },
  "language_info": {
   "codemirror_mode": {
    "name": "ipython",
    "version": 3
   },
   "file_extension": ".py",
   "mimetype": "text/x-python",
   "name": "python",
   "nbconvert_exporter": "python",
   "pygments_lexer": "ipython3",
   "version": "3.9.2"
  }
 },
 "nbformat": 4,
 "nbformat_minor": 5
}
