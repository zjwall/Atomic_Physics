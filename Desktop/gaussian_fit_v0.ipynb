{
 "cells": [
  {
   "cell_type": "code",
   "execution_count": 21,
   "id": "greek-tattoo",
   "metadata": {},
   "outputs": [
    {
     "data": {
      "image/png": "[encoded data removed]",
      "text/plain": [
       "<Figure size 432x288 with 1 Axes>"
      ]
     },
     "metadata": {
      "needs_background": "light"
     },
     "output_type": "display_data"
    },
    {
     "name": "stdout",
     "output_type": "stream",
     "text": [
      "Fitted mean =  208.47736093652153\n",
      "Fitted standard deviation =  591.5932869632587\n",
      "FWHM 1393.2021907984742\n"
     ]
    }
   ],
   "source": [
    "import numpy \n",
    "from scipy.optimize import curve_fit\n",
    "import matplotlib.pyplot as plt\n",
    "\n",
    "\n",
    "x = (-300,-600,-900,-1200,-1500,300,600,900,1200,1500,0)\n",
    "y = (19,9,5,2,0,32,14,15,6,3,19)\n",
    "\n",
    "def gauss(x, *p):\n",
    "    A, mu, sigma = p\n",
    "    return A*numpy.exp(-(x-mu)**2/(2.*sigma**2))\n",
    "\n",
    "# p0 is the initial guess for the fitting coefficients (A, mu and sigma above)\n",
    "p0 = [10, 0., 300]\n",
    "\n",
    "coeff, var_matrix = curve_fit(gauss, x, y, p0=p0)\n",
    "\n",
    "# Get the fitted curve\n",
    "x2 = numpy.linspace(-1500,1500,100)\n",
    "hist_fit = gauss(x2, *coeff)\n",
    "\n",
    "plt.scatter(x, y, label='Test data')\n",
    "plt.scatter(x2, hist_fit, label='Fitted data')\n",
    "plt.show()\n",
    "\n",
    "\n",
    "print('Fitted mean = ', coeff[1])\n",
    "print('Fitted standard deviation = ', coeff[2])\n",
    "print('FWHM', 2.355*coeff[2])"
   ]
  },
  {
   "cell_type": "code",
   "execution_count": 22,
   "id": "crude-olive",
   "metadata": {},
   "outputs": [
    {
     "data": {
      "image/png": "[encoded data removed]",
      "text/plain": [
       "<Figure size 432x288 with 1 Axes>"
      ]
     },
     "metadata": {
      "needs_background": "light"
     },
     "output_type": "display_data"
    },
    {
     "name": "stdout",
     "output_type": "stream",
     "text": [
      "Fitted mean =  359.08555666068764\n",
      "Fitted standard deviation =  424.4465038663578\n",
      "FWHM 999.5715166052726\n"
     ]
    }
   ],
   "source": [
    "import numpy \n",
    "from scipy.optimize import curve_fit\n",
    "import matplotlib.pyplot as plt\n",
    "\n",
    "\n",
    "x = (-300,-600,-900,-1200,-1500,300,600,900,1200,1500,0)\n",
    "y = (2,2,1,0,0,8,4,4,0,0,3)\n",
    "\n",
    "\n",
    "def gauss(x, *p):\n",
    "    A, mu, sigma = p\n",
    "    return A*numpy.exp(-(x-mu)**2/(2.*sigma**2))\n",
    "\n",
    "# p0 is the initial guess for the fitting coefficients (A, mu and sigma above)\n",
    "p0 = [10, 0., 300]\n",
    "\n",
    "coeff, var_matrix = curve_fit(gauss, x, y, p0=p0)\n",
    "\n",
    "# Get the fitted curve\n",
    "x2 = numpy.linspace(-1500,1500,100)\n",
    "hist_fit = gauss(x2, *coeff)\n",
    "\n",
    "plt.scatter(x, y, label='Test data')\n",
    "plt.scatter(x2, hist_fit, label='Fitted data')\n",
    "plt.show()\n",
    "\n",
    "\n",
    "print('Fitted mean = ', coeff[1])\n",
    "print('Fitted standard deviation = ', coeff[2])\n",
    "print('FWHM', 2.355*coeff[2])"
   ]
  },
  {
   "cell_type": "code",
   "execution_count": null,
   "id": "exempt-eugene",
   "metadata": {},
   "outputs": [],
   "source": []
  }
 ],
 "metadata": {
  "kernelspec": {
   "display_name": "Python 3",
   "language": "python",
   "name": "python3"
  },
  "language_info": {
   "codemirror_mode": {
    "name": "ipython",
    "version": 3
   },
   "file_extension": ".py",
   "mimetype": "text/x-python",
   "name": "python",
   "nbconvert_exporter": "python",
   "pygments_lexer": "ipython3",
   "version": "3.9.2"
  }
 },
 "nbformat": 4,
 "nbformat_minor": 5
}
