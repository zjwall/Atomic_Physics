{
 "cells": [
  {
   "cell_type": "code",
   "execution_count": 1,
   "id": "extreme-stamp",
   "metadata": {
    "tags": []
   },
   "outputs": [
    {
     "data": {
      "text/plain": [
       "0.021307010220140008"
      ]
     },
     "execution_count": 1,
     "metadata": {},
     "output_type": "execute_result"
    }
   ],
   "source": [
    "import sympy\n",
    "from sympy import S\n",
    "from sympy.physics.wigner import wigner_3j\n",
    "from sympy.physics.wigner import wigner_6j\n",
    "import numpy as np\n",
    "import scipy.constants as sc\n",
    "\n",
    "I = 2*0.11/(np.pi*(29.3e-6)**2)\n",
    "E = np.sqrt(2*I/(sc.c*sc.epsilon_0))\n",
    "# w = 2*np.pi*(607.329890e12-1.815e9)\n",
    "w = 2*np.pi*(563e12)\n",
    "a = 1/(4*np.pi*sc.epsilon_0*sc.hbar*sc.c)\n",
    "\n",
    "gam1ps = 2*np.pi*15.1e6\n",
    "gam2ps = 2*np.pi*18.8e6\n",
    "gam1pd1 = 2*np.pi*5.3e6\n",
    "gam2pd1 = 2*np.pi*.7e6\n",
    "gam2pd2 = 2*np.pi*5.9e6\n",
    "\n",
    "\n",
    "###i = |F=0, mf=0, L=0> ###\n",
    "si = S(1)/2\n",
    "fi = 0\n",
    "mfi = 0\n",
    "ji = S(1)/2\n",
    "li = 0\n",
    "wi = 2*np.pi*(9.925e9)\n",
    "q= 1\n",
    "\n",
    "###ozeri paper calc##\n",
    "gam = 2*np.pi*20.1e6\n",
    "\n",
    "d = 2*np.pi*(563-607)*1e12\n",
    "wf = 2*np.pi*50.7e12\n",
    "w32 = 2*np.pi*658.118271e12\n",
    "w614 = 2*np.pi*487.989e12\n",
    "w1762 = 2*np.pi*(170.1732188978e12)\n",
    "w585 = 2*np.pi*(512e12)\n",
    "w650 = 2*np.pi*(461.311e12)\n",
    "\n",
    "\n",
    "E = np.sqrt(2*I/(sc.c*sc.epsilon_0))\n",
    "g2 = (gam*3*np.pi*sc.epsilon_0*sc.c**3*E**2)/(4*sc.hbar*w32**3)\n",
    "A614 = 2*np.pi*5.9e6\n",
    "A650 =  2*np.pi*5.3e6\n",
    "A585 = 2*np.pi*.7e6\n",
    "w2051 = 2*np.pi*(146.11656100000005e12)\n",
    "\n",
    "\n",
    "A614*g2/3*2/(d-wf)**2*((w-w1762)/w614)**3"
   ]
  },
  {
   "cell_type": "code",
   "execution_count": 2,
   "id": "corresponding-waste",
   "metadata": {},
   "outputs": [],
   "source": [
    "x = A650*g2/3*1/(d)**2*((w-w2051)/w650)**3"
   ]
  },
  {
   "cell_type": "code",
   "execution_count": 3,
   "id": "metric-charleston",
   "metadata": {},
   "outputs": [],
   "source": [
    "x2 = A585*g2/3*2/(d-wf)**2*((w-w2051)/w585)**3"
   ]
  },
  {
   "cell_type": "code",
   "execution_count": 4,
   "id": "wound-taylor",
   "metadata": {},
   "outputs": [
    {
     "data": {
      "text/plain": [
       "0.06271917121702461"
      ]
     },
     "execution_count": 4,
     "metadata": {},
     "output_type": "execute_result"
    }
   ],
   "source": [
    "x"
   ]
  },
  {
   "cell_type": "code",
   "execution_count": 5,
   "id": "commercial-cookie",
   "metadata": {},
   "outputs": [
    {
     "data": {
      "text/plain": [
       "0.0026159498898014675"
      ]
     },
     "execution_count": 5,
     "metadata": {},
     "output_type": "execute_result"
    }
   ],
   "source": [
    "x2"
   ]
  },
  {
   "cell_type": "code",
   "execution_count": 6,
   "id": "according-paper",
   "metadata": {},
   "outputs": [
    {
     "data": {
      "text/plain": [
       "0.9404321684580131"
      ]
     },
     "execution_count": 6,
     "metadata": {},
     "output_type": "execute_result"
    }
   ],
   "source": [
    "(A614/w614**3)/(A650/w650**3)"
   ]
  },
  {
   "cell_type": "code",
   "execution_count": 7,
   "id": "senior-dutch",
   "metadata": {},
   "outputs": [
    {
     "data": {
      "text/plain": [
       "2.3161389462809923"
      ]
     },
     "execution_count": 7,
     "metadata": {},
     "output_type": "execute_result"
    }
   ],
   "source": [
    "((1/d)**2/(1/(d-wf))**2)/2"
   ]
  },
  {
   "cell_type": "code",
   "execution_count": 8,
   "id": "accompanied-perspective",
   "metadata": {},
   "outputs": [
    {
     "data": {
      "text/plain": [
       "0.059280722891566266"
      ]
     },
     "execution_count": 8,
     "metadata": {},
     "output_type": "execute_result"
    }
   ],
   "source": [
    "2.31*.0213/.83"
   ]
  },
  {
   "cell_type": "code",
   "execution_count": 9,
   "id": "cardiovascular-accident",
   "metadata": {},
   "outputs": [
    {
     "data": {
      "text/plain": [
       "0.8366799012896664"
      ]
     },
     "execution_count": 9,
     "metadata": {},
     "output_type": "execute_result"
    }
   ],
   "source": [
    "((w-w1762)/(w-w2051))**3"
   ]
  },
  {
   "cell_type": "code",
   "execution_count": 10,
   "id": "clean-employment",
   "metadata": {},
   "outputs": [
    {
     "data": {
      "text/plain": [
       "58.614605104547564"
      ]
     },
     "execution_count": 10,
     "metadata": {},
     "output_type": "execute_result"
    }
   ],
   "source": [
    "import numpy as np\n",
    "w = 29*(70/5)*1e-6\n",
    "w0 = 48.4/2*1e-6\n",
    "zr = 3.5e-3\n",
    "x = np.sqrt(((w/w0)**2-1))*zr\n",
    "x/1e-3"
   ]
  },
  {
   "cell_type": "code",
   "execution_count": 11,
   "id": "collectible-african",
   "metadata": {},
   "outputs": [
    {
     "data": {
      "text/plain": [
       "184.23844826895683"
      ]
     },
     "execution_count": 11,
     "metadata": {},
     "output_type": "execute_result"
    }
   ],
   "source": [
    "import numpy as np\n",
    "w0 = 124/2*1e-6\n",
    "zr = 45.5/2*1e-3\n",
    "z= 25e-3\n",
    "w = w0*np.sqrt(1+(z/zr)**2)\n",
    "w*2/1e-6"
   ]
  },
  {
   "cell_type": "code",
   "execution_count": 21,
   "id": "abandoned-wagon",
   "metadata": {},
   "outputs": [
    {
     "name": "stdout",
     "output_type": "stream",
     "text": [
      "1.9007736428144744\n"
     ]
    }
   ],
   "source": [
    "N = 300\n",
    "I = 1\n",
    "r = 50.8e-3\n",
    "z = .127\n",
    "b = sc.mu_0*N*I*r**2/(2*(r**2+z**2)**(3/2))\n",
    "print(b*1e4)"
   ]
  },
  {
   "cell_type": "code",
   "execution_count": null,
   "id": "productive-avatar",
   "metadata": {},
   "outputs": [],
   "source": [
    "0.\n"
   ]
  }
 ],
 "metadata": {
  "kernelspec": {
   "display_name": "Python 3",
   "language": "python",
   "name": "python3"
  },
  "language_info": {
   "codemirror_mode": {
    "name": "ipython",
    "version": 3
   },
   "file_extension": ".py",
   "mimetype": "text/x-python",
   "name": "python",
   "nbconvert_exporter": "python",
   "pygments_lexer": "ipython3",
   "version": "3.9.2"
  }
 },
 "nbformat": 4,
 "nbformat_minor": 5
}
