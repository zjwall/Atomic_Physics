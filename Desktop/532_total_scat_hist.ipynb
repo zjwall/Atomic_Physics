{
 "cells": [
  {
   "cell_type": "code",
   "execution_count": 3,
   "id": "advised-pharmacology",
   "metadata": {},
   "outputs": [
    {
     "name": "stdout",
     "output_type": "stream",
     "text": [
      "20000\n",
      "19948\n"
     ]
    }
   ],
   "source": [
    "import matplotlib.pyplot as plt\n",
    "import numpy as np\n",
    "from scipy.optimize import curve_fit\n",
    "from scipy.special import factorial\n",
    "import scipy.constants as sc\n",
    "\n",
    "%matplotlib inline\n",
    "\n",
    "data3 = np.loadtxt('Z:/Group_Share/Barium/Data/2021.dir/12.dir/2021_12_18.dir/00055 - green_shelving_hist.csv', delimiter = ',')\n",
    "data3 = data3[:20000]\n",
    "counts = [i[2] for i in data3]\n",
    "print(len(counts))\n",
    "\n",
    "dcc = [i[1] for i in data3]\n",
    "dccind = [i for i in range(len(dcc)) if dcc[i] < 10]\n",
    "counts = [e for i, e in enumerate(counts) if i not in dccind]\n",
    "print(len(counts))"
   ]
  },
  {
   "cell_type": "code",
   "execution_count": 4,
   "id": "toxic-conversion",
   "metadata": {},
   "outputs": [
    {
     "name": "stdout",
     "output_type": "stream",
     "text": [
      "2\n"
     ]
    }
   ],
   "source": [
    "dark = [i for i in counts if i < 10]\n",
    "print(len(dark))"
   ]
  },
  {
   "cell_type": "code",
   "execution_count": 5,
   "id": "fourth-junior",
   "metadata": {},
   "outputs": [
    {
     "name": "stdout",
     "output_type": "stream",
     "text": [
      "20000\n",
      "19828\n"
     ]
    }
   ],
   "source": [
    "data = np.loadtxt('Z:/Group_Share/Barium/Data/2021.dir/12.dir/2021_12_18.dir/00314 - green_shelving_hist.csv', delimiter = ',')\n",
    "data = data[:20000]\n",
    "counts2 = [i[2] for i in data]\n",
    "print(len(counts2))\n",
    "\n",
    "dcc = [i[1] for i in data]\n",
    "dccind = [i for i in range(len(dcc)) if dcc[i] < 5]\n",
    "counts2 = [e for i, e in enumerate(counts2) if i not in dccind]\n",
    "print(len(counts2))\n",
    "dark2 = [i for i in counts2 if i < 10]\n"
   ]
  },
  {
   "cell_type": "code",
   "execution_count": 6,
   "id": "static-validity",
   "metadata": {},
   "outputs": [
    {
     "name": "stdout",
     "output_type": "stream",
     "text": [
      "81\n"
     ]
    },
    {
     "data": {
      "image/png": "[encoded data removed]",
      "text/plain": [
       "<Figure size 432x288 with 1 Axes>"
      ]
     },
     "metadata": {
      "needs_background": "light"
     },
     "output_type": "display_data"
    }
   ],
   "source": [
    "# print(data)\n",
    "fig = plt.figure()\n",
    "fig.suptitle('Total Scattering Rate Histogram', fontsize=20)\n",
    "ax = fig.gca()\n",
    "\n",
    "\n",
    "\n",
    "plt.hist(counts2,  bins=int(max(counts))-4,color='r', edgecolor='k', label = \"With 10 ms 532\")\n",
    "plt.hist(counts,  bins=int(max(counts))-4, color  = 'b', edgecolor='k', label = \"10 ms Dark\")\n",
    "print(int(max(counts)))\n",
    "plt.xlabel('Kcounts/sec')\n",
    "plt.ylabel('Number of Experiments')\n",
    "\n",
    "plt.legend(loc=(1.04,.51))\n",
    "plt.yscale('log')\n",
    "plt.show()"
   ]
  },
  {
   "cell_type": "code",
   "execution_count": 7,
   "id": "patient-integral",
   "metadata": {
    "tags": []
   },
   "outputs": [
    {
     "name": "stdout",
     "output_type": "stream",
     "text": [
      "318\n",
      "19828\n",
      "1.6037926165019165\n",
      "1.616792552330765\n"
     ]
    }
   ],
   "source": [
    "psc = (len(dark2)/len(counts2))\n",
    "print(len(dark2))\n",
    "print(len(counts2))\n",
    "print(psc/10e-3)\n",
    "print(-np.log(1-psc)/10e-3)"
   ]
  },
  {
   "cell_type": "code",
   "execution_count": 8,
   "id": "compound-stereo",
   "metadata": {},
   "outputs": [
    {
     "name": "stdout",
     "output_type": "stream",
     "text": [
      "Total Scattering 0.5249128795035671\n",
      "Raman S Scattering 0.07005575545732802\n",
      "Ozeri D_5/2 Scattering 0.11548083349078477\n",
      "Total Ozeri Raman Scattering 0.2012839753332198\n",
      "0.08051359013328792\n"
     ]
    }
   ],
   "source": [
    "###ozeri paper calc##\n",
    "gam_1 = 2*np.pi*20.1e6\n",
    "\n",
    "d = 2*np.pi*(563-607)*1e12\n",
    "wf = 2*np.pi*50.7e12\n",
    "w0 = 2*np.pi*658.118271e12\n",
    "gam=2*np.pi*(18.8+5.9+.7)*1e6\n",
    "\n",
    "\n",
    "\n",
    "I = 2*.3/(np.pi*(51e-6)**2)\n",
    "E = np.sqrt(2*I/(sc.c*sc.epsilon_0))\n",
    "a = 1/(4*np.pi*sc.epsilon_0*sc.hbar*sc.c)\n",
    "mu = np.sqrt(gam*3*sc.c**2/(4*a*w0**3))\n",
    "g = E*mu/(2*sc.hbar)\n",
    "\n",
    "\n",
    "\n",
    "\n",
    "sr = (gam_1/3)*(g**2*((1/d**2)+(2/(d-wf)**2)))\n",
    "\n",
    "\n",
    "print('Total Scattering', sr)\n",
    "\n",
    "\n",
    "##Raman scat\n",
    "\n",
    "rsr = (2*gam_1/9)*g**2*(wf/(d*(d-wf)))**2\n",
    "print('Raman S Scattering', rsr)\n",
    "\n",
    "\n",
    "##d scatter\n",
    "print('Ozeri D_5/2 Scattering', .22*sr)\n",
    "\n",
    "x=.25*sr+rsr\n",
    "##total raman ##\n",
    "print('Total Ozeri Raman Scattering', x)\n",
    "print(x/2.5)\n",
    "\n",
    "\n"
   ]
  },
  {
   "cell_type": "code",
   "execution_count": 9,
   "id": "primary-infrared",
   "metadata": {},
   "outputs": [
    {
     "name": "stdout",
     "output_type": "stream",
     "text": [
      "20000\n",
      "19948\n",
      "7\n"
     ]
    }
   ],
   "source": [
    "import matplotlib.pyplot as plt\n",
    "import numpy as np\n",
    "from scipy.optimize import curve_fit\n",
    "from scipy.special import factorial\n",
    "import scipy.constants as sc\n",
    "\n",
    "%matplotlib inline\n",
    "\n",
    "data3 = np.loadtxt('Z:/Group_Share/Barium/Data/2022.dir/01.dir/2022_01_05.dir/00197 - green_shelving_hist.csv', delimiter = ',')\n",
    "data3 = data3[:20000]\n",
    "counts = [i[2] for i in data3]\n",
    "print(len(counts))\n",
    "\n",
    "dcc = [i[1] for i in data3]\n",
    "dccind = [i for i in range(len(dcc)) if dcc[i] < 10]\n",
    "counts = [e for i, e in enumerate(counts) if i not in dccind]\n",
    "print(len(counts))\n",
    "\n",
    "dark = [i for i in counts if i < 10]\n",
    "print(len(dark))"
   ]
  },
  {
   "cell_type": "code",
   "execution_count": null,
   "id": "protecting-homework",
   "metadata": {},
   "outputs": [],
   "source": []
  },
  {
   "cell_type": "code",
   "execution_count": 10,
   "id": "unavailable-pioneer",
   "metadata": {},
   "outputs": [
    {
     "name": "stdout",
     "output_type": "stream",
     "text": [
      "20000\n",
      "19994\n"
     ]
    }
   ],
   "source": [
    "data = np.loadtxt('Z:/Group_Share/Barium/Data/2022.dir/02.dir/2022_02_06.dir/00307 - green_shelving_hist.csv', delimiter = ',')\n",
    "data = data[:20000]\n",
    "counts2 = [i[2] for i in data]\n",
    "print(len(counts2))\n",
    "\n",
    "dcc = [i[1] for i in data]\n",
    "dccind = [i for i in range(len(dcc)) if dcc[i] < 10]\n",
    "counts2 = [e for i, e in enumerate(counts2) if i not in dccind]\n",
    "print(len(counts2))\n",
    "dark2 = [i for i in counts2 if i < 10]\n"
   ]
  },
  {
   "cell_type": "code",
   "execution_count": 11,
   "id": "marked-ferry",
   "metadata": {},
   "outputs": [
    {
     "name": "stdout",
     "output_type": "stream",
     "text": [
      "85\n"
     ]
    },
    {
     "data": {
      "image/png": "[encoded data removed]",
      "text/plain": [
       "<Figure size 432x288 with 1 Axes>"
      ]
     },
     "metadata": {
      "needs_background": "light"
     },
     "output_type": "display_data"
    }
   ],
   "source": [
    "# print(data)\n",
    "fig = plt.figure()\n",
    "fig.suptitle('Total Scattering Rate Histogram', fontsize=20)\n",
    "ax = fig.gca()\n",
    "\n",
    "\n",
    "plt.hist(counts2,  bins=int(max(counts2)-3), color  = 'b', edgecolor='k', label = \"10 ms Dark\")\n",
    "\n",
    "\n",
    "print(int(max(counts)))\n",
    "plt.xlabel('Kcounts/sec')\n",
    "plt.ylabel('Number of Experiments')\n",
    "\n",
    "plt.legend(loc=(1.04,.51))\n",
    "plt.yscale('log')\n",
    "plt.show()"
   ]
  },
  {
   "cell_type": "code",
   "execution_count": 12,
   "id": "invalid-shakespeare",
   "metadata": {},
   "outputs": [
    {
     "ename": "SyntaxError",
     "evalue": "EOL while scanning string literal (<ipython-input-12-d9b0bf9d6015>, line 5)",
     "output_type": "error",
     "traceback": [
      "\u001b[1;36m  File \u001b[1;32m\"<ipython-input-12-d9b0bf9d6015>\"\u001b[1;36m, line \u001b[1;32m5\u001b[0m\n\u001b[1;33m    print('-np.log(1-psc)/10e-3)\u001b[0m\n\u001b[1;37m                                ^\u001b[0m\n\u001b[1;31mSyntaxError\u001b[0m\u001b[1;31m:\u001b[0m EOL while scanning string literal\n"
     ]
    }
   ],
   "source": [
    "psc = ((len(dark2)-5)/len(counts2))\n",
    "print(len(dark2))\n",
    "print(len(counts2))\n",
    "print(psc/10e-3)\n",
    "print('-np.log(1-psc)/10e-3)\n",
    "print(len(dark2))"
   ]
  },
  {
   "cell_type": "code",
   "execution_count": null,
   "id": "associate-divorce",
   "metadata": {},
   "outputs": [],
   "source": [
    "0.3457003868710263"
   ]
  },
  {
   "cell_type": "code",
   "execution_count": null,
   "id": "earned-collaboration",
   "metadata": {},
   "outputs": [],
   "source": []
  },
  {
   "cell_type": "code",
   "execution_count": null,
   "id": "potential-coating",
   "metadata": {},
   "outputs": [],
   "source": []
  },
  {
   "cell_type": "code",
   "execution_count": null,
   "id": "dressed-yeast",
   "metadata": {},
   "outputs": [],
   "source": [
    "###ozeri paper calc##\n",
    "gam_1 = 2*np.pi*20.1e6\n",
    "\n",
    "d = 2*np.pi*(563-607)*1e12\n",
    "wf = 2*np.pi*50.7e12\n",
    "w0 = 2*np.pi*658.118271e12\n",
    "gam=2*np.pi*(18.8+5.9+.7)*1e6\n",
    "\n",
    "\n",
    "\n",
    "I = 2*.3/(np.pi*(29.3e-6)**2)\n",
    "E = np.sqrt(2*I/(sc.c*sc.epsilon_0))\n",
    "a = 1/(4*np.pi*sc.epsilon_0*sc.hbar*sc.c)\n",
    "mu = np.sqrt(gam*3*sc.c**2/(4*a*w0**3))\n",
    "g = E*mu/(2*sc.hbar)\n",
    "\n",
    "\n",
    "\n",
    "\n",
    "sr = (gam_1/3)*(2/3*g**2*((1/d**2)+(2/(d-wf)**2)))\n",
    "\n",
    "\n",
    "print('Total Scattering', sr)\n",
    "\n",
    "\n",
    "##Raman scat\n",
    "\n",
    "rsr = (2*gam_1/9)*g**2*(wf/(d*(d-wf)))**2\n",
    "print('Raman S Scattering', rsr)\n",
    "\n",
    "\n",
    "##d scatter\n",
    "print('Ozeri D_5/2 Scattering', .22*sr)\n",
    "\n",
    "x=.33*sr+rsr\n",
    "##total raman ##\n",
    "print('Total Ozeri Raman Scattering', x)\n",
    "\n",
    "\n",
    "print('our model // aprox', rsr+rsr*.25)"
   ]
  },
  {
   "cell_type": "code",
   "execution_count": null,
   "id": "musical-lawyer",
   "metadata": {},
   "outputs": [],
   "source": [
    "###ozeri paper calc##\n",
    "gam_1 = 2*np.pi*20.1e6\n",
    "\n",
    "d = 2*np.pi*(563-607)*1e12\n",
    "wf = 2*np.pi*50.7e12\n",
    "w0 = 2*np.pi*658.118271e12\n",
    "gam=2*np.pi*(25.4)*1e6\n",
    "\n",
    "\n",
    "\n",
    "I = 2*.11/(np.pi*(29.3e-6)**2)\n",
    "E = np.sqrt(2*I/(sc.c*sc.epsilon_0))\n",
    "a = 1/(4*np.pi*sc.epsilon_0*sc.hbar*sc.c)\n",
    "mu = np.sqrt(gam*3*sc.c**2/(4*a*w0**3))\n",
    "g = E*mu/(2*sc.hbar)\n",
    "\n",
    "\n",
    "\n",
    "\n",
    "sr = (gam_1/3)*(2/3*g**2*((1/d**2)+(2/(d-wf)**2)))\n",
    "\n",
    "\n",
    "print('Total Scattering', sr)\n",
    "\n",
    "\n",
    "##Raman scat\n",
    "\n",
    "rsr = (2*gam_1/9)*g**2*(wf/(d*(d-wf)))**2\n",
    "print('Raman S Scattering', rsr)\n",
    "\n",
    "\n",
    "##d scatter\n",
    "print('Ozeri D_5/2 Scattering', .22*sr)\n",
    "\n",
    "x=.26*sr+rsr\n",
    "##total raman ##\n",
    "print('Total Ozeri Raman Scattering', x)\n",
    "\n",
    "\n",
    "print('our model // aprox', rsr+rsr*.25)"
   ]
  },
  {
   "cell_type": "code",
   "execution_count": null,
   "id": "quick-berry",
   "metadata": {},
   "outputs": [],
   "source": [
    "###ozeri paper calc##\n",
    "gam_1 = 2*np.pi*20.1e6\n",
    "\n",
    "d = 2*np.pi*(563-607)*1e12\n",
    "wf = 2*np.pi*50.7e12\n",
    "w0 = 2*np.pi*658.118271e12\n",
    "gam=2*np.pi*(25.4)*1e6\n",
    "\n",
    "\n",
    "\n",
    "I = 2*.36/(np.pi*(29.3e-6)**2)\n",
    "E = np.sqrt(2*I/(sc.c*sc.epsilon_0))\n",
    "a = 1/(4*np.pi*sc.epsilon_0*sc.hbar*sc.c)\n",
    "mu = np.sqrt(gam*3*sc.c**2/(4*a*w0**3))\n",
    "g = E*mu/(2*sc.hbar)\n",
    "\n",
    "\n",
    "\n",
    "\n",
    "sr = (gam_1/3)*(g**2*((1/d**2)+(2/(d-wf)**2)))\n",
    "\n",
    "\n",
    "print('Total Scattering', sr)\n",
    "\n",
    "\n",
    "##Raman scat\n",
    "\n",
    "rsr = (2*gam_1/9)*g**2*(wf/(d*(d-wf)))**2\n",
    "print('Raman S Scattering', rsr)\n",
    "\n",
    "\n",
    "##d scatter\n",
    "print('Ozeri D_5/2 Scattering', .22*sr)\n",
    "\n",
    "x=.26*sr+rsr\n",
    "##total raman ##\n",
    "print('Total Ozeri Raman Scattering', x)\n",
    "\n",
    "\n",
    "print('our model // aprox', rsr+rsr*.25)"
   ]
  },
  {
   "cell_type": "code",
   "execution_count": 1,
   "id": "increasing-advantage",
   "metadata": {
    "tags": []
   },
   "outputs": [
    {
     "name": "stdout",
     "output_type": "stream",
     "text": [
      "5.473060038618038e+20\n",
      "Total Scattering 0.32424164448613585\n",
      "Raman S Scattering 0.05387735752658919\n",
      "Ozeri D_5/2 Scattering 0.029935259021609883\n",
      "Ozeri D_3/2 Scattering 0.07234875056030614\n",
      "Total Ozeri Raman Scattering 0.16195790568863447\n",
      "our model // aprox 0.06734669690823648\n",
      "247912.86547832255\n"
     ]
    }
   ],
   "source": [
    "import matplotlib.pyplot as plt\n",
    "import numpy as np\n",
    "from scipy.optimize import curve_fit\n",
    "from scipy.special import factorial\n",
    "import scipy.constants as sc\n",
    "###ozeri paper calc##\n",
    "gam1 = 2*np.pi*15.1e6\n",
    "gam  = 2*np.pi*20.1e6\n",
    "d = 2*np.pi*(563-607)*1e12\n",
    "wf = 2*np.pi*50.7e12\n",
    "w32 = 2*np.pi*658.118271e12\n",
    "gam3 = 2*np.pi*18.8e6\n",
    "\n",
    "I = 2*.11/(np.pi*(29.3e-6)**2)\n",
    "E = np.sqrt(2*I/(sc.c*sc.epsilon_0))\n",
    "g2 = (gam3*3*np.pi*sc.epsilon_0*sc.c**3*E**2)/(4*sc.hbar*w32**3)\n",
    "\n",
    "print(g2)\n",
    "sr = (gam1/3)*(g2*((1/d**2)+(2/(d-wf)**2)))\n",
    "\n",
    "d3 = .24*(gam/3)*(g2*((1/d**2)))\n",
    "srd = .23*(gam/3)*(g2*((2/(d-wf)**2)))\n",
    "print('Total Scattering', sr)\n",
    "\n",
    "\n",
    "##Raman scat\n",
    "\n",
    "rsr = (2*gam3/9)*g2*(wf/(d*(d-wf)))**2\n",
    "print('Raman S Scattering', rsr)\n",
    "\n",
    "\n",
    "##d scatter\n",
    "print('Ozeri D_5/2 Scattering', srd)\n",
    "print('Ozeri D_3/2 Scattering', d3)\n",
    "\n",
    "x=(1/3)*sr+rsr\n",
    "##total raman ##\n",
    "print('Total Ozeri Raman Scattering', x)\n",
    "\n",
    "\n",
    "print('our model // aprox', rsr+rsr*.25)\n",
    "print(E)\n",
    "\n",
    "\n"
   ]
  },
  {
   "cell_type": "code",
   "execution_count": 45,
   "id": "fitting-provider",
   "metadata": {},
   "outputs": [
    {
     "name": "stdout",
     "output_type": "stream",
     "text": [
      "s scatter 0.1266097142920909\n",
      "s scatter 1.3563788187133145e-09\n",
      "s scatter 0.033730255235963895\n",
      "d3/2 scatter 0.07429170739643791\n",
      "d5/2 scatter 0.024335296801226296\n",
      "0.13235725943362808\n"
     ]
    }
   ],
   "source": [
    "##w3 theory\n",
    "\n",
    "I = 2*.11/(np.pi*(29.3e-6)**2)\n",
    "E = np.sqrt(2*I/(sc.c*sc.epsilon_0))\n",
    "# w = 2*np.pi*(607.419890e12-1.815e9)\n",
    "w = 2*np.pi*(563e12)\n",
    "a = 1/(4*np.pi*sc.epsilon_0*sc.hbar*sc.c)\n",
    "w12 = 2*np.pi*607.4299e12\n",
    "w32 = 2*np.pi*658.118271e12\n",
    "\n",
    "gam1ps = 2*np.pi*15.1e6\n",
    "gam2ps = 2*np.pi*18.8e6\n",
    "gam1pd1 = 2*np.pi*5.3e6\n",
    "gam2pd1 = 2*np.pi*.7e6\n",
    "gam2pd2 = 2*np.pi*5.9e6\n",
    "\n",
    "w2051 = 2*np.pi*146.1689215017e12\n",
    "w1762 = 2*np.pi*170.1432792281e12\n",
    "w650 = 2*np.pi*461.312345e12\n",
    "w585 = 2*np.pi*512.00176e12\n",
    "w614 = 2*np.pi*487.370e12\n",
    "\n",
    "g2 = (gam2ps*3*np.pi*sc.epsilon_0*sc.c**3*E**2)/(4*sc.hbar*w32**3)\n",
    "\n",
    "ps1 = ((w/w12))**3*gam1ps*g**2/(3*d**2)\n",
    "ps2 = (w/w32)**3*gam2ps*(2*g**2/(3*(d-wf)**2))\n",
    "\n",
    "ps = (g2/(3*d**2)-(2*g2/(3*(d-wf)**2)))\n",
    "rsr = (w/w32)**3*(2*gam2ps/9)*g2*(wf/(d*(d-wf)))**2\n",
    "\n",
    "pd11 = ((w-w2051)/w650)**3*gam1pd1*g**2/(3*d**2)\n",
    "pd21 = ((w-w2051)/w585)**3*gam2pd1*(2*g**2/(3*(d-wf)**2))\n",
    "pd22 = ((w-w1762)/w614)**3*gam2pd2*(2*g**2/(3*(d-wf)**2))\n",
    "\n",
    "\n",
    "print('s scatter', ps1-ps2)\n",
    "print('s scatter', ps)\n",
    "print('s scatter', rsr)\n",
    "\n",
    "print('d3/2 scatter', pd11+pd21)\n",
    "print('d5/2 scatter', pd22)\n",
    "print(rsr+pd11+pd21+pd22)"
   ]
  },
  {
   "cell_type": "code",
   "execution_count": 46,
   "id": "dirty-terrorist",
   "metadata": {
    "tags": []
   },
   "outputs": [
    {
     "name": "stdout",
     "output_type": "stream",
     "text": [
      "0.13235725943362808\n"
     ]
    }
   ],
   "source": [
    "x= (w/w32)**3*(2*gam2ps/9)*g2*(wf/(d*(d-wf)))**2+(((w-w2051)/w650)**3*gam1pd1)*g**2/(3*d**2)+(((w-w2051)/w585)**3*gam2pd1 + ((w-w1762)/w614)**3*gam2pd2)*(2*g**2/(3*(d-wf)**2))\n",
    "print(x)"
   ]
  },
  {
   "cell_type": "code",
   "execution_count": 1,
   "id": "pending-singer",
   "metadata": {},
   "outputs": [
    {
     "name": "stdout",
     "output_type": "stream",
     "text": [
      "5.473060038618038e+20\n",
      "Total Scattering 0.32424164448613585\n",
      "Raman S Scattering 0.05387735752658919\n",
      "Ozeri D_5/2 Scattering 0.029935259021609883\n",
      "Ozeri D_3/2 Scattering 0.07234875056030614\n",
      "Total Ozeri Raman Scattering 0.16195790568863447\n",
      "our model // aprox 0.06734669690823648\n",
      "247912.86547832255\n"
     ]
    }
   ],
   "source": [
    "\n",
    "import matplotlib.pyplot as plt\n",
    "import numpy as np\n",
    "from scipy.optimize import curve_fit\n",
    "from scipy.special import factorial\n",
    "import scipy.constants as sc\n",
    "###ozeri paper calc##\n",
    "gam1 = 2*np.pi*15.1e6\n",
    "gam  = 2*np.pi*20.1e6\n",
    "d = 2*np.pi*(563-607)*1e12\n",
    "wf = 2*np.pi*50.7e12\n",
    "w32 = 2*np.pi*658.118271e12\n",
    "gam3 = 2*np.pi*18.8e6\n",
    "\n",
    "I = 2*.11/(np.pi*(29.3e-6)**2)\n",
    "E = np.sqrt(2*I/(sc.c*sc.epsilon_0))\n",
    "g2 = (gam3*3*np.pi*sc.epsilon_0*sc.c**3*E**2)/(4*sc.hbar*w32**3)\n",
    "\n",
    "print(g2)\n",
    "sr = (gam1/3)*(g2*((1/d**2)+(2/(d-wf)**2)))\n",
    "\n",
    "d3 = .24*(gam/3)*(g2*((1/d**2)))\n",
    "srd = .23*(gam/3)*(g2*((2/(d-wf)**2)))\n",
    "print('Total Scattering', sr)\n",
    "\n",
    "\n",
    "##Raman scat\n",
    "\n",
    "rsr = (2*gam3/9)*g2*(wf/(d*(d-wf)))**2\n",
    "print('Raman S Scattering', rsr)\n",
    "\n",
    "\n",
    "##d scatter\n",
    "print('Ozeri D_5/2 Scattering', srd)\n",
    "print('Ozeri D_3/2 Scattering', d3)\n",
    "\n",
    "x=(1/3)*sr+rsr\n",
    "##total raman ##\n",
    "print('Total Ozeri Raman Scattering', x)\n",
    "\n",
    "\n",
    "print('our model // aprox', rsr+rsr*.25)\n",
    "print(E)\n",
    "\n",
    "\n"
   ]
  },
  {
   "cell_type": "code",
   "execution_count": 2,
   "id": "crucial-transparency",
   "metadata": {},
   "outputs": [
    {
     "data": {
      "text/plain": [
       "0.0037838083805684813"
      ]
     },
     "execution_count": 2,
     "metadata": {},
     "output_type": "execute_result"
    }
   ],
   "source": [
    "0.16195790568863447/42.8028825456277"
   ]
  },
  {
   "cell_type": "code",
   "execution_count": 3,
   "id": "selective-gothic",
   "metadata": {},
   "outputs": [
    {
     "data": {
      "text/plain": [
       "0.0033835007727569073"
      ]
     },
     "execution_count": 3,
     "metadata": {},
     "output_type": "execute_result"
    }
   ],
   "source": [
    "0.16195790568863447/47.866962819302"
   ]
  },
  {
   "cell_type": "code",
   "execution_count": 5,
   "id": "grand-young",
   "metadata": {},
   "outputs": [
    {
     "data": {
      "text/plain": [
       "0.002220945418527199"
      ]
     },
     "execution_count": 5,
     "metadata": {},
     "output_type": "execute_result"
    }
   ],
   "source": [
    "0.10630991177234056/47.866962819302"
   ]
  },
  {
   "cell_type": "code",
   "execution_count": 7,
   "id": "charged-project",
   "metadata": {},
   "outputs": [
    {
     "data": {
      "text/plain": [
       "0.00034224944426348856"
      ]
     },
     "execution_count": 7,
     "metadata": {},
     "output_type": "execute_result"
    }
   ],
   "source": [
    "0.01638244142348718/47.866962819302"
   ]
  },
  {
   "cell_type": "code",
   "execution_count": 8,
   "id": "healthy-necklace",
   "metadata": {},
   "outputs": [
    {
     "data": {
      "text/plain": [
       "0.0005000150368984223"
      ]
     },
     "execution_count": 8,
     "metadata": {},
     "output_type": "execute_result"
    }
   ],
   "source": [
    "0.021402084895410872/42.8028825456277"
   ]
  },
  {
   "cell_type": "code",
   "execution_count": 17,
   "id": "7a48f69a-92eb-4677-be1e-511d7677112f",
   "metadata": {},
   "outputs": [
    {
     "data": {
      "text/plain": [
       "0.0004070508337648696"
      ]
     },
     "execution_count": 17,
     "metadata": {},
     "output_type": "execute_result"
    }
   ],
   "source": [
    "0.10630991177234056/261.171094502044"
   ]
  },
  {
   "cell_type": "code",
   "execution_count": 12,
   "id": "5f3a9103-d8d8-4c9c-b561-58cef70aeade",
   "metadata": {},
   "outputs": [
    {
     "data": {
      "text/plain": [
       "1040.0"
      ]
     },
     "execution_count": 12,
     "metadata": {},
     "output_type": "execute_result"
    }
   ],
   "source": [
    "200*5200/1e3"
   ]
  },
  {
   "cell_type": "code",
   "execution_count": 14,
   "id": "25d5ce3b-7bbb-41ef-9622-02beed2697b3",
   "metadata": {},
   "outputs": [
    {
     "data": {
      "text/plain": [
       "0.16938711462008327"
      ]
     },
     "execution_count": 14,
     "metadata": {},
     "output_type": "execute_result"
    }
   ],
   "source": []
  },
  {
   "cell_type": "code",
   "execution_count": 18,
   "id": "a06d7de3-7148-4107-94fd-f2ee3eace906",
   "metadata": {},
   "outputs": [
    {
     "data": {
      "text/plain": [
       "1680.3798033616324"
      ]
     },
     "execution_count": 18,
     "metadata": {},
     "output_type": "execute_result"
    }
   ],
   "source": [
    ".684/0.0004070508337648696"
   ]
  },
  {
   "cell_type": "code",
   "execution_count": 20,
   "id": "bbce3e38-1400-4b06-806e-8b7d245f9415",
   "metadata": {},
   "outputs": [
    {
     "data": {
      "text/plain": [
       "5651.165"
      ]
     },
     "execution_count": 20,
     "metadata": {},
     "output_type": "execute_result"
    }
   ],
   "source": [
    "5649.485+1.680"
   ]
  },
  {
   "cell_type": "code",
   "execution_count": null,
   "id": "97920223-47b9-41dc-86c6-97556054f6df",
   "metadata": {},
   "outputs": [],
   "source": []
  }
 ],
 "metadata": {
  "kernelspec": {
   "display_name": "Python 3 (ipykernel)",
   "language": "python",
   "name": "python3"
  },
  "language_info": {
   "codemirror_mode": {
    "name": "ipython",
    "version": 3
   },
   "file_extension": ".py",
   "mimetype": "text/x-python",
   "name": "python",
   "nbconvert_exporter": "python",
   "pygments_lexer": "ipython3",
   "version": "3.9.13"
  }
 },
 "nbformat": 4,
 "nbformat_minor": 5
}
