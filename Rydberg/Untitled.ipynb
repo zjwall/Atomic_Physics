{
 "cells": [
  {
   "cell_type": "code",
   "execution_count": 2,
   "id": "fluid-monthly",
   "metadata": {},
   "outputs": [
    {
     "ename": "NameError",
     "evalue": "name 'calc' is not defined",
     "output_type": "error",
     "traceback": [
      "\u001b[1;31m---------------------------------------------------------------------------\u001b[0m",
      "\u001b[1;31mNameError\u001b[0m                                 Traceback (most recent call last)",
      "\u001b[1;32m<ipython-input-2-df2e7580b052>\u001b[0m in \u001b[0;36m<module>\u001b[1;34m\u001b[0m\n\u001b[1;32m----> 1\u001b[1;33m \u001b[0mquantum_states\u001b[0m \u001b[1;33m=\u001b[0m \u001b[0mcalc\u001b[0m\u001b[1;33m.\u001b[0m\u001b[0mbasisStates\u001b[0m\u001b[1;33m\u001b[0m\u001b[1;33m\u001b[0m\u001b[0m\n\u001b[0m\u001b[0;32m      2\u001b[0m \u001b[0mcutoff\u001b[0m \u001b[1;33m=\u001b[0m \u001b[1;36m.1\u001b[0m\u001b[1;33m\u001b[0m\u001b[1;33m\u001b[0m\u001b[0m\n\u001b[0;32m      3\u001b[0m \u001b[0mcount\u001b[0m \u001b[1;33m=\u001b[0m \u001b[1;36m0\u001b[0m\u001b[1;33m\u001b[0m\u001b[1;33m\u001b[0m\u001b[0m\n\u001b[0;32m      4\u001b[0m \u001b[0mprint\u001b[0m\u001b[1;33m(\u001b[0m\u001b[0mn\u001b[0m\u001b[1;33m,\u001b[0m\u001b[0me\u001b[0m\u001b[1;33m)\u001b[0m\u001b[1;33m\u001b[0m\u001b[1;33m\u001b[0m\u001b[0m\n\u001b[0;32m      5\u001b[0m \u001b[1;32mfor\u001b[0m \u001b[0mk\u001b[0m \u001b[1;32min\u001b[0m \u001b[0mrange\u001b[0m\u001b[1;33m(\u001b[0m\u001b[0me\u001b[0m\u001b[1;33m-\u001b[0m\u001b[1;36m1\u001b[0m\u001b[1;33m)\u001b[0m\u001b[1;33m:\u001b[0m\u001b[1;33m\u001b[0m\u001b[1;33m\u001b[0m\u001b[0m\n",
      "\u001b[1;31mNameError\u001b[0m: name 'calc' is not defined"
     ]
    }
   ],
   "source": [
    "quantum_states = calc.basisStates\n",
    "cutoff = .1\n",
    "count = 0\n",
    "print(n,e)\n",
    "for k in range(e-1):\n",
    "    for i  in range(n-1):\n",
    "        for j in range(n-1):\n",
    "            if ematrix[k,i,j] < cutoff:\n",
    "                count += 1\n",
    "                print(i,j, ematrix[k,i,j])\n",
    "                state1 = quantum_states[j]\n",
    "                state2 = quantum_states[i]\n",
    "                n, l, j, mj = state1  # Example state tuple\n",
    "                n2, l2, j2, mj2 = state2  # Example state tuple                \n",
    "                print(f\"  Energy: {energy} GHz, State: n={n}, l={l}, j={j},  m={mj}\")\n",
    "                print(f\"  Energy: {energy} GHz, State: n={n2}, l={l2}, j={j}, m={mj2}\")\n",
    "\n",
    "print(count)\n",
    "##so we are getting the transition energies now, but we don't have a clean way of backing out the labels of these states, "
   ]
  },
  {
   "cell_type": "code",
   "execution_count": null,
   "id": "knowing-justice",
   "metadata": {},
   "outputs": [],
   "source": [
    "from arc import StarkMap\n",
    "\n",
    "# Create a StarkMap instance for the element you are using (e.g., rubidium)\n",
    "num_points = 5\n",
    "calc = StarkMap(Caesium())\n",
    "calc.defineBasis(36, 3, 0.5, 0.5, 35, 36, 3)\n",
    "calc.diagonalise(np.linspace(0.,100,num_points),progressOutput=True)\n",
    "\n",
    "\n",
    "# Access the quantum numbers associated with each state\n",
    "energy_levels = calc.y\n",
    "electric_fields = calc.eFieldList\n",
    "\n",
    "# Access the basis states (quantum numbers)\n",
    "quantum_states = calc.basisStates\n",
    "\n",
    "# Loop over the electric field values and corresponding energy levels\n",
    "for i, e_field in enumerate(electric_fields):\n",
    "    print(f\"Electric Field: {e_field} V/m\")\n",
    "    print(\"Energy levels and quantum numbers for this field:\")\n",
    "    \n",
    "    # For each energy eigenvalue (calc.y), print the corresponding quantum state\n",
    "    for j, energy in enumerate(energy_levels[i]):\n",
    "        # The j-th energy level corresponds to the j-th basis state\n",
    "        state = quantum_states[j]\n",
    "        n, l, j, mj = state  # Example state tuple\n",
    "        print(f\"  Energy: {energy} GHz, State: n={n}, l={l}, m={mj}\")\n",
    "    print()"
   ]
  },
  {
   "cell_type": "code",
   "execution_count": null,
   "id": "popular-collaboration",
   "metadata": {},
   "outputs": [],
   "source": []
  }
 ],
 "metadata": {
  "kernelspec": {
   "display_name": "Python 3",
   "language": "python",
   "name": "python3"
  },
  "language_info": {
   "codemirror_mode": {
    "name": "ipython",
    "version": 3
   },
   "file_extension": ".py",
   "mimetype": "text/x-python",
   "name": "python",
   "nbconvert_exporter": "python",
   "pygments_lexer": "ipython3",
   "version": "3.9.2"
  }
 },
 "nbformat": 4,
 "nbformat_minor": 5
}
