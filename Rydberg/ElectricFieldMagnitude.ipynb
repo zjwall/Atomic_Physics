{
 "cells": [
  {
   "cell_type": "code",
   "execution_count": 24,
   "id": "internal-antarctica",
   "metadata": {},
   "outputs": [
    {
     "name": "stdout",
     "output_type": "stream",
     "text": [
      "8.128335186357552e-06\n"
     ]
    }
   ],
   "source": [
    "##calc of the ion rydberg distance if rabi rate is 1e6\n",
    "## we are going to assume a 5 Mhz transition frequency aka phonon and rydberg state splitting\n",
    "import numpy as np\n",
    "import scipy.constants as sc\n",
    "m = 2.29154e-25\n",
    "wz = 2*np.pi*5e6\n",
    "z0 = np.sqrt(sc.hbar/(2*m*wz))\n",
    "Omega = 1/1e-6\n",
    "\n",
    "#just going to take the matrix element for some high n state s-> p transition for now to get order of magnitude estimates, will have to fill this in with the actual state we want to use later\n",
    "from arc import *\n",
    "atom = Caesium()\n",
    "# transition 5 S_{1/2} m_j=-0.5 -> 5 P_{3/2} m_j=-1.5\n",
    "# for laser driving sigma- transition\n",
    "damu = atom.getDipoleMatrixElement(40,0,0.5,-0.5,40,1,1.5,-1.5,-1)\n",
    "scale = 8.4783536198e-30\n",
    "d = abs(damu*scale)\n",
    "\n",
    "L = ((2*z0*sc.e*d)/(4*np.pi*sc.epsilon_0*sc.hbar*Omega))**(1/3)\n",
    "print(L)"
   ]
  },
  {
   "cell_type": "code",
   "execution_count": 22,
   "id": "hungry-performer",
   "metadata": {},
   "outputs": [
    {
     "name": "stdout",
     "output_type": "stream",
     "text": [
      "21.79458437534221\n"
     ]
    }
   ],
   "source": [
    "E = sc.e/(4*np.pi*sc.epsilon_0*L**2)\n",
    "print(E)"
   ]
  },
  {
   "cell_type": "code",
   "execution_count": 29,
   "id": "affiliated-transportation",
   "metadata": {},
   "outputs": [
    {
     "name": "stdout",
     "output_type": "stream",
     "text": [
      "1.887109267582101e+17\n"
     ]
    }
   ],
   "source": [
    "##checking with erics term\n",
    "g = 2*sc.e*d*z0/(2*np.pi*sc.epsilon_0*sc.hbar*L**3)\n",
    "eta = 2*g*L/z0*wz/2\n",
    "g1 = g/(2*sqrt(1+eta**2))/sc.hbar\n",
    "print(eta)"
   ]
  },
  {
   "cell_type": "code",
   "execution_count": null,
   "id": "optical-pipeline",
   "metadata": {},
   "outputs": [],
   "source": []
  }
 ],
 "metadata": {
  "kernelspec": {
   "display_name": "Python 3",
   "language": "python",
   "name": "python3"
  },
  "language_info": {
   "codemirror_mode": {
    "name": "ipython",
    "version": 3
   },
   "file_extension": ".py",
   "mimetype": "text/x-python",
   "name": "python",
   "nbconvert_exporter": "python",
   "pygments_lexer": "ipython3",
   "version": "3.9.2"
  }
 },
 "nbformat": 4,
 "nbformat_minor": 5
}
