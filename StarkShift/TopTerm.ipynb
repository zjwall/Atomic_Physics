{
 "cells": [
  {
   "cell_type": "code",
   "execution_count": 1,
   "metadata": {},
   "outputs": [
    {
     "name": "stdout",
     "output_type": "stream",
     "text": [
      "2.8542484284734784e-29\n"
     ]
    },
    {
     "data": {
      "text/plain": [
       "2.81901978e-29"
      ]
     },
     "execution_count": 1,
     "metadata": {},
     "output_type": "execute_result"
    }
   ],
   "source": [
    "import sympy\n",
    "from sympy import S\n",
    "from sympy.physics.wigner import wigner_3j\n",
    "from sympy.physics.wigner import wigner_6j\n",
    "import numpy as np\n",
    "import scipy.constants as sc\n",
    "\n",
    "I = 2*.11/(np.pi*(29.3e-6)**2)\n",
    "E = np.sqrt(2*I/(sc.c*sc.epsilon_0))\n",
    "wl = 2*np.pi*563e12\n",
    "gam1 =2*np.pi*15.2e6\n",
    "gam2 =2*np.pi*18.9e6\n",
    "a = 1/(4*np.pi*sc.epsilon_0*sc.hbar*sc.c)\n",
    "qf  = 2*np.pi*9.9254644e9\n",
    "w1 = 2*np.pi*607.429870e12\n",
    "w2 = 2*np.pi*658.118271e12\n",
    "\n",
    "mu1 = np.sqrt(gam1*3*sc.c**2/(4*a*w1**3))/sc.hbar\n",
    "print(mu1*sc.hbar*np.sqrt(2))\n",
    "c = 8.478e-30\n",
    "3.3251*c"
   ]
  },
  {
   "cell_type": "code",
   "execution_count": 2,
   "metadata": {},
   "outputs": [],
   "source": [
    "def Top(mu,mu2,mu3,mu4,E,E2,E3,T,T2,w):\n",
    "    return -T*T2*.5/E2*(mu*mu2/(-E+w)+mu3*mu4/(-E3+w))\n"
   ]
  },
  {
   "cell_type": "code",
   "execution_count": 3,
   "metadata": {},
   "outputs": [
    {
     "name": "stdout",
     "output_type": "stream",
     "text": [
      "-2.650688123848409 -0.15188646150568308 17.45177349957046\n"
     ]
    }
   ],
   "source": [
    "##yb T term  5.82e-4\n",
    "## x is 6p term x2 is 7s \n",
    "##7s\n",
    "\n",
    "mu= 2.6829\n",
    "mu2 = 2.2338\n",
    "E1 = (sc.c/3695.24e-10)/4.359e-18*sc.h\n",
    "E2 = (sc.c/3695.24e-10)/4.359e-18*sc.h+(sc.c/3670.74e-10)/4.359e-18*sc.h\n",
    "\n",
    "mu3 = 3.7676\n",
    "mu4 = 3.7042\n",
    "E3 = (sc.c/3290.31e-10)/4.359e-18*sc.h\n",
    "E4 = (sc.c/3290.31e-10)/4.359e-18*sc.h+(sc.c/4181.99e-10)/4.359e-18*sc.h\n",
    "\n",
    "\n",
    "T = 2.4922e-6\n",
    "T2  = np.sqrt(3595/13172)\n",
    "x=-T*.5*T2/E2*(mu*mu2/E+mu3*mu4/E3)\n",
    "\n",
    "\n",
    "#yb 7p 7s\n",
    "mu= .0686\n",
    "mu2 = 6.05\n",
    "E = (sc.c/1569.70e-10)/4.359e-18*sc.h\n",
    "E2 = (sc.c/3695.24e-10)/4.359e-18*sc.h+(sc.c/3670.74e-10)/4.359e-18*sc.h\n",
    "\n",
    "mu3 = .1530\n",
    "mu4 = 8.3060\n",
    "E3 = (sc.c/1557.85e-10)/4.359e-18*sc.h\n",
    "E4 = (sc.c/3290.31e-10)/4.359e-18*sc.h+(sc.c/4181.99e-10)/4.359e-18*sc.h\n",
    "\n",
    "\n",
    "T = 2.4922e-6\n",
    "x2=-T*np.sqrt(3595/13172)*.5/E2*(mu*mu2/E+mu3*mu4/E3)\n",
    "print(x/1e-4,x2/1e-4,x/x2)"
   ]
  },
  {
   "cell_type": "code",
   "execution_count": 4,
   "metadata": {},
   "outputs": [
    {
     "name": "stdout",
     "output_type": "stream",
     "text": [
      "-0.4760024907691293 -0.06389453274691441 7.449815661921661\n",
      "total -3.3424716088701354\n",
      "0.6687848294957447\n"
     ]
    }
   ],
   "source": [
    "#yb 8s 6p\n",
    "mu= 2.6829\n",
    "mu2 = .6158\n",
    "E = (sc.c/3695.24e-10)/4.359e-18*sc.h\n",
    "E2 = (sc.c/3695.24e-10)/4.359e-18*sc.h+(sc.c/2174.96e-10)/4.359e-18*sc.h\n",
    "\n",
    "mu3 = 3.7676\n",
    "mu4 = .8926\n",
    "E3 = (sc.c/3290.31e-10)/4.359e-18*sc.h\n",
    "E4 = (sc.c/3290.31e-10)/4.359e-18*sc.h+(sc.c/4181.99e-10)/4.359e-18*sc.h\n",
    "\n",
    "\n",
    "T = 2.4922e-6\n",
    "T2 = np.sqrt(1500/13172)\n",
    "x3 = -T*.5*T2/E2*(mu*mu2/E+mu3*mu4/E3)\n",
    "\n",
    "mu= .0686\n",
    "mu2 = 4.6452\n",
    "E = (sc.c/1569.70e-10)/4.359e-18*sc.h\n",
    "E2 = (sc.c/3695.24e-10)/4.359e-18*sc.h+(sc.c/2174.96e-10)/4.359e-18*sc.h\n",
    "\n",
    "mu3 = .1530\n",
    "mu4 = 7.5711\n",
    "E3 = (sc.c/1557.85e-10)/4.359e-18*sc.h\n",
    "E4 = (sc.c/3290.31e-10)/4.359e-18*sc.h+(sc.c/4181.99e-10)/4.359e-18*sc.h\n",
    "\n",
    "\n",
    "T = 2.4922e-6\n",
    "x4 = -T*.5*T2/E2*(mu*mu2/E+mu3*mu4/E3)\n",
    "\n",
    "print(x3/1e-4,x4/1e-4,x3/x4)\n",
    "print('total', (x+x2+x3+x4)/1e-4)\n",
    "print(3.8855061024043773/5.8098)"
   ]
  },
  {
   "cell_type": "code",
   "execution_count": 5,
   "metadata": {},
   "outputs": [
    {
     "name": "stdout",
     "output_type": "stream",
     "text": [
      "0.06389453274691441\n",
      "0.09041426170472813\n"
     ]
    }
   ],
   "source": [
    "w = (sc.c/532e-9)/4.359e-18*sc.h\n",
    "print(Top(mu,mu2,mu3,mu4,E,E2,E3,T,T2,0)/1e-4)\n",
    "print(Top(mu,mu2,mu3,mu4,E,E2,E3,T,T2,w)/1e-4)\n"
   ]
  },
  {
   "cell_type": "code",
   "execution_count": null,
   "metadata": {},
   "outputs": [],
   "source": []
  },
  {
   "cell_type": "code",
   "execution_count": 17,
   "metadata": {},
   "outputs": [
    {
     "name": "stdout",
     "output_type": "stream",
     "text": [
      "0.09236000348720004\n",
      "0.19307134526961006\n",
      "-0.0002991638668180614\n",
      "-9.068254495421163 -0.18820882753509963 -0.0033947803854281707\n",
      "-0.0010462186918585507\n"
     ]
    }
   ],
   "source": [
    "\n",
    "#7s\n",
    "##ba T term 6p 6.62e-4\n",
    "\n",
    "mu= 3.3380\n",
    "mu2 = 2.4652\n",
    "E = (sc.c/493.4077e-9)/4.359e-18*sc.h\n",
    "E2 = (sc.c/493.4077e-9)/4.359e-18*sc.h+(sc.c/452.4926e-9)/4.359e-18*sc.h\n",
    "\n",
    "mu3 = 4.7097\n",
    "mu4 = 3.8451\n",
    "E3 = (sc.c/455.4033e-9)/4.359e-18*sc.h\n",
    "E4 = (sc.c/455.4033e-9)/4.359e-18*sc.h+(sc.c/489.9927e-9)/4.359e-18*sc.h\n",
    "print(E)\n",
    "print(E2)\n",
    "T = 1.1971e-6\n",
    "T2 = np.sqrt(1196/4078)\n",
    "x=-T*np.sqrt(1196/4078)/E2*(mu*mu2/(E)+mu3*mu4/(E3))\n",
    "print(-T*np.sqrt(1196/4078)/E2*(mu*mu2/(E)))\n",
    "\n",
    "##ba T term 7p\n",
    "mu= .0605\n",
    "mu2 = 6.9984\n",
    "E = (sc.c/202.40561e-9)/4.359e-18*sc.h\n",
    "E2 = (sc.c/493.4077e-9)/4.359e-18*sc.h+(sc.c/452.4926e-9)/4.359e-18*sc.h\n",
    "\n",
    "mu3 = .0870\n",
    "mu4 = 9.7571\n",
    "E3 = (sc.c/199.952e-9)/4.359e-18*sc.h\n",
    "E4 = (sc.c/455.4033e-9)/4.359e-18*sc.h+(sc.c/489.9927e-9)/4.359e-18*sc.h\n",
    "\n",
    "\n",
    "T = 1.1971e-6\n",
    "x2=-T*T2/E2*(mu*mu2/E+mu3*mu4/E3)\n",
    "\n",
    "##ba T term 8p\n",
    "mu= .0868\n",
    "mu2 = .1368\n",
    "E = (sc.c/163.04e-9)/4.359e-18*sc.h\n",
    "E2 = (sc.c/493.4077e-9)/4.359e-18*sc.h+(sc.c/452.4926e-9)/4.359e-18*sc.h\n",
    "\n",
    "mu3 = .0331\n",
    "mu4 = .4950\n",
    "E3 = (sc.c/163.04e-9)/4.359e-18*sc.h\n",
    "E4 = (sc.c/455.4033e-9)/4.359e-18*sc.h+(sc.c/489.9927e-9)/4.359e-18*sc.h\n",
    "\n",
    "\n",
    "T = 1.1971e-6\n",
    "x3=-T*T2/E2*(mu*mu2/E+mu3*mu4/E3)\n",
    "\n",
    "print(x/1e-4,x2/1e-4,x3/1e-4)\n",
    "print(x+x2+x4)\n"
   ]
  },
  {
   "cell_type": "code",
   "execution_count": 7,
   "metadata": {},
   "outputs": [
    {
     "name": "stdout",
     "output_type": "stream",
     "text": [
      "-1.2057235956292442 -0.07010668853346087 -0.09031386438721242\n",
      "total -1.0626002251891609\n"
     ]
    }
   ],
   "source": [
    "\n",
    "#8s\n",
    "##ba T term 6p 6.62e-4\n",
    "\n",
    "mu= 3.3380\n",
    "mu2 = .6973\n",
    "E = (sc.c/493.4077e-9)/4.359e-18*sc.h\n",
    "E2 = (sc.c/493.4077e-9)/4.359e-18*sc.h+(sc.c/264.72608e-9)/4.359e-18*sc.h\n",
    "\n",
    "mu3 = 4.7097\n",
    "mu4 = 1.0172\n",
    "E3 = (sc.c/455.4033e-9)/4.359e-18*sc.h\n",
    "\n",
    "\n",
    "T = 1.1971e-6\n",
    "T2 = np.sqrt(542/4078)\n",
    "x4=-T*T2/E2*(mu*mu2/(E)+mu3*mu4/(E3))\n",
    "\n",
    "\n",
    "##ba T term 7p\n",
    "mu= .0605\n",
    "mu2 = 4.9411\n",
    "E = (sc.c/202.40561e-9)/4.359e-18*sc.h\n",
    "\n",
    "mu3 = .0870\n",
    "mu4 = 7.6527\n",
    "E3 = (sc.c/199.952e-9)/4.359e-18*sc.h\n",
    "\n",
    "\n",
    "T = 1.1971e-6\n",
    "x5=-T*T2/E2*(mu*mu2/E+mu3*mu4/E3)\n",
    "\n",
    "##ba T term 8p\n",
    "mu= .0868\n",
    "mu2 = 11.5286\n",
    "E = (sc.c/163.04e-9)/4.359e-18*sc.h\n",
    "\n",
    "mu3 = .0331\n",
    "mu4 = 15.9899\n",
    "E3 = (sc.c/163.04e-9)/4.359e-18*sc.h\n",
    "\n",
    "\n",
    "T = 1.1971e-6\n",
    "x6=-T*T2/E2*(mu*mu2/E+mu3*mu4/E3)\n",
    "\n",
    "print(x4/1e-4,x5/1e-4,x6/1e-4)\n",
    "\n",
    "\n",
    "print('total', (x+x2+x3+x4+x5+x6)/1e-3)\n"
   ]
  },
  {
   "cell_type": "code",
   "execution_count": 8,
   "metadata": {},
   "outputs": [],
   "source": [
    "\n",
    "#9s\n",
    "##ba T term 6p 6.62e-4\n",
    "\n",
    "mu= 3.3380\n",
    "mu2 = .6973\n",
    "E = (sc.c/493.4077e-9)/4.359e-18*sc.h\n",
    "E2 = (sc.c/493.4077e-9)/4.359e-18*sc.h+(sc.c/264.72608e-9)/4.359e-18*sc.h\n",
    "\n",
    "mu3 = 4.7097\n",
    "mu4 = 1.0172\n",
    "E3 = (sc.c/455.4033e-9)/4.359e-18*sc.h\n",
    "\n",
    "\n",
    "T = 1.1971e-6\n",
    "T2 = np.sqrt(542/4078)\n",
    "x4=-T*T2/E2*(mu*mu2/(E)+mu3*mu4/(E3))"
   ]
  },
  {
   "cell_type": "code",
   "execution_count": 9,
   "metadata": {},
   "outputs": [
    {
     "data": {
      "text/plain": [
       "0.7995485327313769"
      ]
     },
     "execution_count": 9,
     "metadata": {},
     "output_type": "execute_result"
    }
   ],
   "source": [
    "1.0626/1.329"
   ]
  },
  {
   "cell_type": "code",
   "execution_count": null,
   "metadata": {},
   "outputs": [],
   "source": []
  },
  {
   "cell_type": "code",
   "execution_count": 10,
   "metadata": {},
   "outputs": [
    {
     "name": "stdout",
     "output_type": "stream",
     "text": [
      "0.6028617978146221\n",
      "5.609160045748885\n"
     ]
    }
   ],
   "source": [
    "w = (sc.c/532e-9)/4.359e-18*sc.h\n",
    "print(Top(mu,mu2,mu3,mu4,E,E2,E3,T,T2,0)/1e-4)\n",
    "print(Top(mu,mu2,mu3,mu4,E,E2,E3,T,T2,w)/1e-4)"
   ]
  },
  {
   "cell_type": "code",
   "execution_count": null,
   "metadata": {},
   "outputs": [],
   "source": []
  },
  {
   "cell_type": "code",
   "execution_count": 11,
   "metadata": {
    "jupyter": {
     "source_hidden": true
    }
   },
   "outputs": [
    {
     "ename": "NameError",
     "evalue": "name 'A1' is not defined",
     "output_type": "error",
     "traceback": [
      "\u001b[1;31m---------------------------------------------------------------------------\u001b[0m",
      "\u001b[1;31mNameError\u001b[0m                                 Traceback (most recent call last)",
      "\u001b[1;32m<ipython-input-11-66d8ba6aa4e5>\u001b[0m in \u001b[0;36m<module>\u001b[1;34m\u001b[0m\n\u001b[0;32m     10\u001b[0m \u001b[0mw\u001b[0m \u001b[1;33m=\u001b[0m \u001b[0mwl\u001b[0m\u001b[1;33m;\u001b[0m \u001b[0mmu1\u001b[0m\u001b[1;33m=\u001b[0m\u001b[0mmu1\u001b[0m\u001b[1;33m;\u001b[0m \u001b[0mmu2\u001b[0m\u001b[1;33m=\u001b[0m\u001b[0mmu2\u001b[0m\u001b[1;33m\u001b[0m\u001b[1;33m\u001b[0m\u001b[0m\n\u001b[0;32m     11\u001b[0m \u001b[1;33m\u001b[0m\u001b[0m\n\u001b[1;32m---> 12\u001b[1;33m \u001b[0mT1\u001b[0m \u001b[1;33m=\u001b[0m \u001b[0mTop2\u001b[0m\u001b[1;33m(\u001b[0m\u001b[0mF\u001b[0m\u001b[1;33m,\u001b[0m\u001b[0mK\u001b[0m\u001b[1;33m,\u001b[0m\u001b[0mI\u001b[0m\u001b[1;33m,\u001b[0m\u001b[0mJ\u001b[0m\u001b[1;33m,\u001b[0m\u001b[0mJ1\u001b[0m\u001b[1;33m,\u001b[0m\u001b[0mJ2\u001b[0m\u001b[1;33m,\u001b[0m\u001b[0mE\u001b[0m\u001b[1;33m,\u001b[0m\u001b[0mE1\u001b[0m\u001b[1;33m,\u001b[0m\u001b[0mE2\u001b[0m\u001b[1;33m,\u001b[0m\u001b[0mw\u001b[0m\u001b[1;33m,\u001b[0m\u001b[0mA1\u001b[0m\u001b[1;33m,\u001b[0m\u001b[0mA2\u001b[0m\u001b[1;33m,\u001b[0m\u001b[0mmu1\u001b[0m\u001b[1;33m,\u001b[0m\u001b[0mmu2\u001b[0m\u001b[1;33m)\u001b[0m\u001b[1;33m\u001b[0m\u001b[1;33m\u001b[0m\u001b[0m\n\u001b[0m\u001b[0;32m     13\u001b[0m \u001b[0mfloat\u001b[0m\u001b[1;33m(\u001b[0m\u001b[0mT1\u001b[0m\u001b[1;33m)\u001b[0m\u001b[1;33m\u001b[0m\u001b[1;33m\u001b[0m\u001b[0m\n\u001b[0;32m     14\u001b[0m \u001b[1;33m\u001b[0m\u001b[0m\n",
      "\u001b[1;31mNameError\u001b[0m: name 'A1' is not defined"
     ]
    }
   ],
   "source": [
    "def Top2(F,K,I,J,J1,J2,E,E1,E2,w,A1,A2,mu1,mu2):\n",
    "    c1 = (2/3)*sympy.sqrt(I*(I+1)*(2*I+1))\n",
    "    c2 = (-1)**(I+J+F)*wigner_6j(I,J,F,J,I,1)*(1/2)/(2*J+1)*(-1)**(J-J2+1)\n",
    "    c3 = sympy.sqrt(A1)*sympy.sqrt(A2)*mu1*mu2*(1/(E-E1+w))*(1/(E-E2))\n",
    "    c4 = 1/J*sympy.sqrt(2*J/(2*J+1)/(2*J+2))\n",
    "    return c1*c2*c3*c4\n",
    "\n",
    "\n",
    "F=0;K=0; I = S(1)/2; J=S(1)/2; J1=S(1)/2; J2=S(1)/2; E=0; E1=E1; E2=E2\n",
    "w = wl; mu1=mu1; mu2=mu2\n",
    "\n",
    "T1 = Top2(F,K,I,J,J1,J2,E,E1,E2,w,A1,A2,mu1,mu2)\n",
    "float(T1)\n",
    "\n",
    "F=0;K=0; I = S(1)/2; J=S(1)/2; J1=S(1)/2; J2=S(3)/2; E=0; E1=E3; E2=E2\n",
    "w = wl; mu1=mu2; mu2=mu4\n",
    "\n",
    "T2 = Top2(F,K,I,J,J1,J2,E,E1,E2,w,A1,A2,mu1,mu2)\n",
    "float(T2)\n",
    "\n",
    "float(T1+T2)*unc/1e-4/(-.401635)/sc.h"
   ]
  },
  {
   "cell_type": "code",
   "execution_count": null,
   "metadata": {
    "jupyter": {
     "source_hidden": true
    }
   },
   "outputs": [],
   "source": [
    "def Top(F,K,I,J,J1,J2,E,E1,E2,w,A1,A2,mu1,mu2):\n",
    "    c1 = (2*F+1)*sympy.sqrt(2*K+1)*sympy.sqrt(I*(I+1)*(2*I+1))/(2*J+1)\n",
    "    c2 = (-1)**(J+J2)*wigner_6j(I,I,1,J,J1,F)*wigner_6j(J,I,1,J1,J,F)*wigner_6j(K,J,J1,I,F,F)\n",
    "    c3 = sympy.sqrt(A1)*sympy.sqrt(A2)*mu1*mu2*(1/(E-E1+w))*(1/(E-E2))\n",
    "    c4 = 1/J*sympy.sqrt(2*J/(2*J+1)/(2*J+2))\n",
    "    return c1*c2*c3*c4\n",
    "\n",
    "\n",
    "unc = 7.2185e-4/1.7962e-11\n",
    "\n",
    "wl = 0\n",
    "a = 1/(4*np.pi*sc.epsilon_0*sc.hbar*sc.c)\n",
    "A1 = 13172e6*sc.h\n",
    "A2 = 3595e6*sc.h\n",
    "k = 1.179474389e29\n",
    "\n",
    "\n",
    "\n",
    "mu1 = 2.73/k\n",
    "mu2 = 2.23/k\n",
    "E1 = (sc.c/3695.24e-10)*sc.h\n",
    "E2 = (sc.c/3695.24e-10)*sc.h+(sc.c/3670.74e-10)*sc.h\n",
    "\n",
    "\n",
    "\n",
    "mu3 = 3.844/k\n",
    "mu4 = 3.69970/k\n",
    "E3 = (sc.c/3290.31e-10)*sc.h\n",
    "E4 = (sc.c/3290.31e-10)*sc.h+(sc.c/4181.99e-10)*sc.h\n",
    "\n",
    "F=0;K=0; I = S(1)/2; J=S(1)/2; J1=S(1)/2; J2=S(1)/2; E=0; E1=E1; E2=E2\n",
    "w = wl; mu1=mu1; mu2=mu2\n",
    "\n",
    "T1 = Top(F,K,I,J,J1,J2,E,E1,E2,w,A1,A2,mu1,mu2)\n",
    "float(T1)\n",
    "\n",
    "F=0;K=0; I = S(1)/2; J=S(1)/2; J1=S(1)/2; J2=S(3)/2; E=0; E1=E3; E2=E2\n",
    "w = wl; mu1=mu2; mu2=mu4\n",
    "\n",
    "T2 = Top(F,K,I,J,J1,J2,E,E1,E2,w,A1,A2,mu1,mu2)\n",
    "float(T2)\n",
    "\n",
    "float(T1+T2)*unc/1e-4/(-.401635)/sc.h"
   ]
  },
  {
   "cell_type": "code",
   "execution_count": null,
   "metadata": {},
   "outputs": [],
   "source": [
    "##experimental dipole moments in atomic units--note convention uncludes (2J'+1)\n",
    "\n",
    "k = 1.179474389e29\n",
    "\n",
    "gam1 = 1.23e8\n",
    "w1 = 2*np.pi*(sc.c/369.524e-9)\n",
    "mu1 = np.sqrt(gam1*3*sc.c**2/(4*a*w1**3))\n",
    "\n",
    "gam2 = 1.62e8\n",
    "w2 = 2*np.pi*(sc.c/329.031e-9)\n",
    "mu3 = np.sqrt(gam2*3*sc.c**2/(4*a*w2**3))\n",
    "\n",
    "print(mu1*k*np.sqrt(2),mu3*k*np.sqrt(4))"
   ]
  },
  {
   "cell_type": "code",
   "execution_count": null,
   "metadata": {},
   "outputs": [],
   "source": [
    "#checking hfs reduced term --this checks out note the unclear pemdas only divide by J then mult by sqrt term\n",
    "\n",
    "\n",
    "bm = 9.274e-24\n",
    "\n",
    "F=0;K=0; I = S(1)/2; J=1/2\n",
    "x = sympy.sqrt(2*I*(2*I+1)*(2*I+2))*wigner_6j(J,I,F,I,J,1)*(1/3)\n",
    "gi = .401635/x\n",
    "print('gi',float(gi))\n",
    "\n",
    "\n",
    "con = gi/(J)*np.sqrt(2*J/(2*J+1)/(2*J+2))\n",
    "T = 2.4922e-6\n",
    "qf  = 13.172e9*1.519828500716e-16/con\n",
    "\n",
    "\n",
    "print(T)\n",
    "print(float(qf))\n",
    "print(float(T/qf))"
   ]
  },
  {
   "cell_type": "code",
   "execution_count": null,
   "metadata": {},
   "outputs": [],
   "source": [
    "F=1; K=0; I = S(3)/2; J=1/2\n",
    "x = sympy.sqrt(2*I*(2*I+1)*(2*I+2))*wigner_6j(J,I,F,I,J,1)*(1/3)\n",
    "gi = .424191/x\n",
    "print(float(gi))\n",
    "\n",
    "con = gi/(J)*np.sqrt(2*J/(2*J+1)/(2*J+2))\n",
    "T = 1.1971e-6\n",
    "qf  = 4.01887e9*1.519828500716e-16/con\n",
    "print(T)\n",
    "print(float(qf))\n",
    "print(float(T/qf))"
   ]
  },
  {
   "cell_type": "code",
   "execution_count": null,
   "metadata": {},
   "outputs": [],
   "source": [
    "#gi calc from foot\n",
    "A=4018.87083385e6*sc.h\n",
    "n=6\n",
    "Z=56\n",
    "gi = A*(3/2)*np.pi*br**3*n**3/(sc.mu_0*2*bm*(sc.m_e/sc.m_p)*bm*Z**3)\n",
    "gi"
   ]
  },
  {
   "cell_type": "code",
   "execution_count": null,
   "metadata": {},
   "outputs": [],
   "source": [
    "##note on the convention of the thesis-- must multiply dipole moment by 2J'+1 \n",
    "\n",
    "wigner_6j(0,0,0,1/2,1/2,1/2)*wigner_6j(1/2,0,1/2,1,3/2,1)*1/sympy.sqrt(3)\n",
    "\n",
    "##convention of paper have to multiply by (2J'+1)/(2J+1)? \n",
    "wigner_6j(1,1,0,0,0,1)*1/sympy.sqrt(3) "
   ]
  },
  {
   "cell_type": "code",
   "execution_count": null,
   "metadata": {},
   "outputs": [],
   "source": []
  },
  {
   "cell_type": "code",
   "execution_count": null,
   "metadata": {},
   "outputs": [],
   "source": []
  }
 ],
 "metadata": {
  "kernelspec": {
   "display_name": "Python 3",
   "language": "python",
   "name": "python3"
  },
  "language_info": {
   "codemirror_mode": {
    "name": "ipython",
    "version": 3
   },
   "file_extension": ".py",
   "mimetype": "text/x-python",
   "name": "python",
   "nbconvert_exporter": "python",
   "pygments_lexer": "ipython3",
   "version": "3.9.1"
  }
 },
 "nbformat": 4,
 "nbformat_minor": 5
}
