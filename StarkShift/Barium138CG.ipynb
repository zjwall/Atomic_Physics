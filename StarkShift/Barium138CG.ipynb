{
 "cells": [
  {
   "cell_type": "code",
   "execution_count": 56,
   "id": "fallen-andrews",
   "metadata": {},
   "outputs": [
    {
     "name": "stdout",
     "output_type": "stream",
     "text": [
      "-sqrt(3)/3\n",
      "-sqrt(3)/3\n"
     ]
    }
   ],
   "source": [
    "import matplotlib.pyplot as plt\n",
    "import numpy as np\n",
    "from matplotlib.ticker import MultipleLocator, FormatStrFormatter\n",
    "import math\n",
    "import cmath\n",
    "import scipy.constants as sc\n",
    "import time\n",
    "%matplotlib inline\n",
    "import sympy\n",
    "\n",
    "####input to function is j_1,j_2,j_3,m_1,m_2,m_3\n",
    "from sympy import S\n",
    "from sympy.physics.wigner import clebsch_gordan\n",
    "\n",
    "from sympy.physics.wigner import wigner_3j\n",
    "ji = S(1)/2\n",
    "mji = -S(1)/2\n",
    "jf = S(1)/2\n",
    "mjf = -S(1)/2\n",
    "k = 1\n",
    "q = 0\n",
    "print(clebsch_gordan(ji, k, jf, mji, q, mjf))\n",
    "\n",
    "from sympy.physics.wigner import wigner_3j\n",
    "print(wigner_3j(jf, k, ji, -mjf,q, mji)*(-1)**(jf-mjf)*sympy.sqrt(2*jf+1))"
   ]
  },
  {
   "cell_type": "code",
   "execution_count": 58,
   "id": "adequate-faith",
   "metadata": {},
   "outputs": [
    {
     "name": "stdout",
     "output_type": "stream",
     "text": [
      "-sqrt(6)/3\n",
      "-sqrt(6)/3\n",
      "sqrt(3)/3\n",
      "sqrt(3)/3\n",
      "sqrt(6)/3\n",
      "sqrt(6)/3\n"
     ]
    }
   ],
   "source": [
    "ji = S(1)/2\n",
    "mji = -S(1)/2\n",
    "jf = S(1)/2\n",
    "mjf = S(1)/2\n",
    "k = 1\n",
    "q = 1\n",
    "print(clebsch_gordan(ji, k, jf, mji, q, mjf))\n",
    "\n",
    "from sympy.physics.wigner import wigner_3j\n",
    "print(wigner_3j(jf, k, ji, -mjf,q, mji)*(-1)**(jf-mjf)*sympy.sqrt(2*jf+1))\n",
    "\n",
    "ji = S(1)/2\n",
    "mji = S(1)/2\n",
    "jf = S(1)/2\n",
    "mjf = S(1)/2\n",
    "k = 1\n",
    "q = 0\n",
    "print(clebsch_gordan(ji, k, jf, mji, q, mjf))\n",
    "\n",
    "from sympy.physics.wigner import wigner_3j\n",
    "print(wigner_3j(jf, k, ji, -mjf,q, mji)*(-1)**(jf-mjf)*sympy.sqrt(2*jf+1))\n",
    "\n",
    "ji = S(1)/2\n",
    "mji = S(1)/2\n",
    "jf = S(1)/2\n",
    "mjf = -S(1)/2\n",
    "k = 1\n",
    "q = -1\n",
    "print(clebsch_gordan(ji, k, jf, mji, q, mjf))\n",
    "\n",
    "from sympy.physics.wigner import wigner_3j\n",
    "print(wigner_3j(jf, k, ji, -mjf,q, mji)*(-1)**(jf-mjf)*sympy.sqrt(2*jf+1))"
   ]
  },
  {
   "cell_type": "code",
   "execution_count": 64,
   "id": "ruled-reminder",
   "metadata": {},
   "outputs": [
    {
     "name": "stdout",
     "output_type": "stream",
     "text": [
      "sqrt(3)/3\n",
      "sqrt(3)/3\n"
     ]
    }
   ],
   "source": [
    "\n",
    "ji = S(1)/2\n",
    "mji = S(1)/2\n",
    "jf = S(1)/2\n",
    "mjf = S(1)/2\n",
    "k = 1\n",
    "q = 0\n",
    "print(clebsch_gordan(ji, k, jf, mji, q, mjf))\n",
    "\n",
    "from sympy.physics.wigner import wigner_3j\n",
    "print(wigner_3j(jf, k, ji, -mjf,q, mji)*(-1)**(jf-mjf)*sympy.sqrt(2*jf+1))"
   ]
  },
  {
   "cell_type": "code",
   "execution_count": 55,
   "id": "structured-staff",
   "metadata": {},
   "outputs": [
    {
     "name": "stdout",
     "output_type": "stream",
     "text": [
      "-sqrt(3)/3\n",
      "-sqrt(3)/3\n"
     ]
    }
   ],
   "source": [
    "from sympy.physics.wigner import wigner_3j\n",
    "ji = S(1)/2\n",
    "mji = -S(1)/2\n",
    "jf = S(1)/2\n",
    "mjf = -S(1)/2\n",
    "k = 1\n",
    "q = 0\n",
    "print(clebsch_gordan(ji, k, jf, mji, q, mjf))\n",
    "\n",
    "from sympy.physics.wigner import wigner_3j\n",
    "print(wigner_3j(jf, k, ji, -mjf,q, mji)*(-1)**(jf-mjf)*sympy.sqrt(2*jf+1))"
   ]
  },
  {
   "cell_type": "code",
   "execution_count": null,
   "id": "rising-finish",
   "metadata": {},
   "outputs": [],
   "source": [
    "#john doyle example\n",
    "from sympy.physics.wigner import wigner_3j\n",
    "ji = 2\n",
    "mji = 0\n",
    "jf = 1\n",
    "mjf = -1\n",
    "k = 1\n",
    "q = -1\n",
    "print(clebsch_gordan(ji, k, jf, mji, q, mjf))\n",
    "\n",
    "from sympy.physics.wigner import wigner_3j\n",
    "print(wigner_3j(jf, k, ji, -mjf,q, mji)*(-1)**(jf-mjf)*sympy.sqrt(2*jf+1))"
   ]
  }
 ],
 "metadata": {
  "kernelspec": {
   "display_name": "Python 3",
   "language": "python",
   "name": "python3"
  },
  "language_info": {
   "codemirror_mode": {
    "name": "ipython",
    "version": 3
   },
   "file_extension": ".py",
   "mimetype": "text/x-python",
   "name": "python",
   "nbconvert_exporter": "python",
   "pygments_lexer": "ipython3",
   "version": "3.9.2"
  }
 },
 "nbformat": 4,
 "nbformat_minor": 5
}
