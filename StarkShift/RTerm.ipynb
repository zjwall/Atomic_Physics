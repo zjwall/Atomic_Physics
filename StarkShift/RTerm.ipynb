{
 "cells": [
  {
   "cell_type": "code",
   "execution_count": 1,
   "metadata": {},
   "outputs": [],
   "source": [
    "import sympy\n",
    "from sympy import S\n",
    "from sympy.physics.wigner import wigner_3j\n",
    "from sympy.physics.wigner import wigner_6j\n",
    "import numpy as np\n",
    "import scipy.constants as sc"
   ]
  },
  {
   "cell_type": "code",
   "execution_count": 2,
   "metadata": {},
   "outputs": [],
   "source": [
    "def R(mu,mu2,E,E2,T,w):\n",
    "    return T*.5*(mu**2/(E-w)**2+mu2**2/(E2-w)**2)"
   ]
  },
  {
   "cell_type": "code",
   "execution_count": 3,
   "metadata": {},
   "outputs": [
    {
     "data": {
      "text/plain": [
       "1.5118458243030477"
      ]
     },
     "execution_count": 3,
     "metadata": {},
     "output_type": "execute_result"
    }
   ],
   "source": [
    "#### Agrees with Yb paper\n",
    "mu= 2.6829\n",
    "E = (sc.c/3695.24e-10)/4.359e-18*sc.h\n",
    "\n",
    "mu2 = 3.7676\n",
    "E2 = (sc.c/3290.31e-10)/4.359e-18*sc.h\n",
    "\n",
    "T = 2.4922e-6\n",
    "x=T*.5*(mu**2/E**2+mu2**2/E2**2)\n",
    "x/1e-3\n"
   ]
  },
  {
   "cell_type": "code",
   "execution_count": 4,
   "metadata": {},
   "outputs": [
    {
     "name": "stdout",
     "output_type": "stream",
     "text": [
      "1.5118458243030477\n",
      "12.65774778319487\n"
     ]
    }
   ],
   "source": [
    "w = (sc.c/532e-9)/4.359e-18*sc.h\n",
    "print(R(mu,mu2,E,E2,T,0)/1e-3)\n",
    "print(R(mu,mu2,E,E2,T,w)/1e-3)\n"
   ]
  },
  {
   "cell_type": "code",
   "execution_count": 5,
   "metadata": {},
   "outputs": [
    {
     "data": {
      "text/plain": [
       "0.0002997772978034969"
      ]
     },
     "execution_count": 5,
     "metadata": {},
     "output_type": "execute_result"
    }
   ],
   "source": [
    "##next term in series yb\n",
    "mu= .13556\n",
    "E = (sc.c/1569.7e-10)/4.359e-18*sc.h\n",
    "\n",
    "mu3 = .04392\n",
    "E3 = (sc.c/1557.85e-10)/4.359e-18*sc.h\n",
    "\n",
    "T = 2.4922e-6\n",
    "x=T*.5*(mu**2/E**2+mu3**2/E3**2)\n",
    "x/1e-3"
   ]
  },
  {
   "cell_type": "code",
   "execution_count": 6,
   "metadata": {},
   "outputs": [
    {
     "data": {
      "text/plain": [
       "2.1076829201346277"
      ]
     },
     "execution_count": 6,
     "metadata": {},
     "output_type": "execute_result"
    }
   ],
   "source": [
    "#### Agrees with Ba paper 2.11\n",
    "mu= 3.3380\n",
    "E = (sc.c/493.4077e-9)/4.359e-18*sc.h\n",
    "\n",
    "mu2 = 4.7097\n",
    "E2 = (sc.c/455.4033e-9)/4.359e-18*sc.h\n",
    "\n",
    "T = 1.1971e-6\n",
    "x=T*.5*(mu**2/E**2+mu2**2/E2**2)\n",
    "x/1e-3\n"
   ]
  },
  {
   "cell_type": "code",
   "execution_count": 7,
   "metadata": {},
   "outputs": [
    {
     "name": "stdout",
     "output_type": "stream",
     "text": [
      "2.1076829201346277\n",
      "212.52779460742886\n"
     ]
    }
   ],
   "source": [
    "w = (sc.c/532e-9)/4.359e-18*sc.h\n",
    "print(R(mu,mu2,E,E2,T,0)/1e-3)\n",
    "print(R(mu,mu2,E,E2,T,w)/1e-3)\n"
   ]
  },
  {
   "cell_type": "code",
   "execution_count": null,
   "metadata": {},
   "outputs": [],
   "source": []
  }
 ],
 "metadata": {
  "kernelspec": {
   "display_name": "Python 3",
   "language": "python",
   "name": "python3"
  },
  "language_info": {
   "codemirror_mode": {
    "name": "ipython",
    "version": 3
   },
   "file_extension": ".py",
   "mimetype": "text/x-python",
   "name": "python",
   "nbconvert_exporter": "python",
   "pygments_lexer": "ipython3",
   "version": "3.9.1"
  }
 },
 "nbformat": 4,
 "nbformat_minor": 4
}
