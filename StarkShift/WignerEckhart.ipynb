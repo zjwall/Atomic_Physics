{
 "cells": [
  {
   "cell_type": "markdown",
   "id": "applicable-manor",
   "metadata": {},
   "source": [
    "## Wigner Eckhart Theorem\n",
    "\n",
    "$$\n",
    "<n',j',m'|T^k_q|n,j,m> = <j',m'|k,q;j,m> \\cdot \\frac{<n',j'||T^k||n,j>}{\\sqrt{2j'+1}}\n",
    "$$\n",
    "equivalently \n",
    "$$\n",
    "<n',j',m'|T^k_q|n,j,m> = \\\\\n",
    "\\begin{pmatrix} \n",
    "j' & k & j \\\\\n",
    "-m' & q & m \n",
    "\\end{pmatrix} \\cdot <n',j'||T^k||n,j> (-1)^{j'-m'}\n",
    "$$\n",
    "\n",
    "Spectator theorem for hyperfine\n",
    "$$\n",
    "<n', F', mf' |T^k_q| n, F, mf> =  \\\\\n",
    "\\begin{pmatrix} \n",
    "F' & k & F \\\\\n",
    "-m_F' & q & m_F \n",
    "\\end{pmatrix} \n",
    "\\cdot (-1)^{F'-m_F'} \\cdot \\sqrt{2F'+1} \\sqrt{2F +1} \\cdot \n",
    "\\begin{Bmatrix} \n",
    "J' & F' & I \\\\\n",
    "F & J & k \n",
    "\\end{Bmatrix}\\\\\n",
    "\\cdot (-1)^{J'+I+J+1} \n",
    "\\cdot \\sqrt{2J'+1} \\sqrt{2J +1} \\cdot \n",
    "\\begin{Bmatrix} \n",
    "L' & J' & S \\\\\n",
    "J & L & k \n",
    "\\end{Bmatrix}\\cdot (-1)^{L'+S+J+1} \\cdot <n',l'||T^k||n,l>\n",
    "$$"
   ]
  },
  {
   "cell_type": "code",
   "execution_count": 2,
   "id": "grand-filename",
   "metadata": {
    "tags": []
   },
   "outputs": [
    {
     "name": "stdout",
     "output_type": "stream",
     "text": [
      "1\n",
      "sqrt(715)/143\n",
      "-1/14\n",
      "1\n",
      "1\n"
     ]
    }
   ],
   "source": [
    "import matplotlib.pyplot as plt\n",
    "import numpy as np\n",
    "from matplotlib.ticker import MultipleLocator, FormatStrFormatter\n",
    "import math\n",
    "import cmath\n",
    "import scipy.constants as sc\n",
    "import time\n",
    "%matplotlib inline\n",
    "import sympy\n",
    "\n",
    "####input to function is j_1,j_2,j_3,m_1,m_2,m_3\n",
    "from sympy import S\n",
    "from sympy.physics.wigner import clebsch_gordan\n",
    "print(clebsch_gordan(S(3)/2, S(1)/2, 2, S(3)/2, S(1)/2, 2))\n",
    "\n",
    "from sympy.physics.wigner import wigner_3j\n",
    "print(wigner_3j(2, 6, 4, 0, 0, 0))\n",
    "\n",
    "\n",
    "from sympy.physics.wigner import wigner_6j\n",
    "print(wigner_6j(3,3,3,3,3,3))\n",
    "\n",
    "\n",
    "from sympy.physics.wigner import wigner_9j\n",
    "x = wigner_9j(1,1,1, 1,1,1, 1,1,0) \n",
    "\n",
    "print(clebsch_gordan(S(3)/2, S(1)/2, 2, S(3)/2, S(1)/2, 2))\n",
    "print(wigner_3j(S(3)/2, S(1)/2, 2, S(3)/2, S(1)/2, -2)*(sympy.sqrt(2*2+1)*(-1)**(-S(3)/2+S(1)/2-2)))"
   ]
  },
  {
   "cell_type": "markdown",
   "id": "broadband-surrey",
   "metadata": {},
   "source": [
    "## Example\n",
    "$$\n",
    "<l'=1, s=\\frac{1}{2}, j' = \\frac{3}{2}, m_j' = \\frac{1}{2} |r_q| l=2, s=\\frac{1}{2}, j = \\frac{3}{2}, m_j = \\frac{1}{2}>$$"
   ]
  },
  {
   "cell_type": "code",
   "execution_count": 3,
   "id": "growing-convergence",
   "metadata": {},
   "outputs": [
    {
     "data": {
      "text/latex": [
       "$\\displaystyle \\frac{\\sqrt{2}}{30}$"
      ],
      "text/plain": [
       "sqrt(2)/30"
      ]
     },
     "execution_count": 3,
     "metadata": {},
     "output_type": "execute_result"
    }
   ],
   "source": [
    "from sympy import *\n",
    "\n",
    "###First do long way##\n",
    "cbi_sd = clebsch_gordan(2, S(1)/2, S(3)/2, 1, S(-1)/2, S(1)/2)\n",
    "cbi_su = clebsch_gordan(2, S(1)/2, S(3)/2, 0, S(1)/2, S(1)/2)\n",
    "\n",
    "cbf_sd = clebsch_gordan(1, S(1)/2, S(3)/2, 1, S(-1)/2, S(1)/2)\n",
    "cbf_su = clebsch_gordan(1, S(1)/2, S(3)/2, 0, S(1)/2, S(1)/2)\n",
    "\n",
    "cby1 = clebsch_gordan(2, 1, 1, 1, 0, 1)\n",
    "cby2 = clebsch_gordan(2, 1, 1, 0, 0, 0)\n",
    "\n",
    "(cbi_sd*cbf_sd*cby1+cbi_su*cbf_su*cby2)*S(1)/sympy.sqrt(2+1)\n"
   ]
  },
  {
   "cell_type": "code",
   "execution_count": 4,
   "id": "toxic-manhattan",
   "metadata": {},
   "outputs": [
    {
     "data": {
      "text/latex": [
       "$\\displaystyle \\frac{\\sqrt{2}}{30}$"
      ],
      "text/plain": [
       "sqrt(2)/30"
      ]
     },
     "execution_count": 4,
     "metadata": {},
     "output_type": "execute_result"
    }
   ],
   "source": [
    "from sympy.physics.wigner import wigner_6j\n",
    "import sympy\n",
    "##Using the 'spectator theorem from Doyle notes'\n",
    "wigner_6j(2,S(3)/2,S(1)/2,S(3)/2,1,1)*wigner_3j(S(3)/2,1, S(3)/2, -S(1)/2, 0, S(1)/2)*sympy.sqrt(2*S(3)/2+1)*sympy.sqrt(2*S(3)/2+1)*(-1)\n"
   ]
  },
  {
   "cell_type": "markdown",
   "id": "macro-knock",
   "metadata": {},
   "source": [
    "## Example\n",
    "Generate all the coupling coefficients between the s and p orbitals including spin, store in matrix with row = final state mj\n",
    "col  = initial state mj"
   ]
  },
  {
   "cell_type": "code",
   "execution_count": 5,
   "id": "together-employer",
   "metadata": {},
   "outputs": [
    {
     "name": "stdout",
     "output_type": "stream",
     "text": [
      "[[ 0.33333333  0.33333333]\n",
      " [-0.47140452 -0.47140452]\n",
      " [ 0.57735027 -0.57735027]\n",
      " [-0.47140452  0.47140452]\n",
      " [ 0.33333333 -0.33333333]\n",
      " [ 0.          0.        ]]\n"
     ]
    }
   ],
   "source": [
    "l1 = 0\n",
    "l2 = 1\n",
    "H = np.zeros([2*(2*l2+1),2*(2*l1+1)])\n",
    "\n",
    "for i in range(2*(2*l1+1)):\n",
    "    for j in range(2*(2*l2+1)):\n",
    "        if j < 2:\n",
    "            H[j,i] = wigner_6j(1,S(1)/2,S(1)/2,S(1)/2,0,1)*wigner_3j(S(1)/2, 1, S(1)/2, (-1)**(i+1)*(j-S(1)/2), j*(-1)**i, i-S(1)/2)*sympy.sqrt(2*S(1)/2+1)*sympy.sqrt(2*S(1)/2+1)\n",
    "        if j >= 2:\n",
    "            H[j,i] = wigner_6j(1,S(3)/2,S(1)/2,S(1)/2,0,1)*wigner_3j(S(3)/2, 1, S(1)/2, (-1)**(i+1)*(j-3-S(1)/2), (j-3)*(-1)**i, i-S(1)/2)*sympy.sqrt(2*S(3)/2+1)*sympy.sqrt(2*S(1)/2+1)\n",
    "\n",
    "\n",
    "            \n",
    "print(H)"
   ]
  },
  {
   "cell_type": "code",
   "execution_count": 6,
   "id": "sonic-switzerland",
   "metadata": {},
   "outputs": [
    {
     "data": {
      "text/plain": [
       "1.0"
      ]
     },
     "execution_count": 6,
     "metadata": {},
     "output_type": "execute_result"
    }
   ],
   "source": [
    "htot = 0\n",
    "for i in range(2*(2*l1+1)):\n",
    "    for j in range(2*(2*l2+1)):\n",
    "        htot += H[j,i]**2\n",
    "    \n",
    "htot\n",
    "\n",
    "htot = 0\n",
    "for i in range(2*(2*l1+1)):\n",
    "    for j in range(2*(2*l2+1)):\n",
    "        htot += H[j,i]**2\n",
    "    \n",
    "htot\n",
    "\n",
    "\n",
    "htot = 0\n",
    "for j in range(2*(2*l2+1)):\n",
    "        htot += H[j,1]**2\n",
    "    \n",
    "htot"
   ]
  },
  {
   "cell_type": "code",
   "execution_count": 7,
   "id": "existing-inclusion",
   "metadata": {},
   "outputs": [
    {
     "name": "stdout",
     "output_type": "stream",
     "text": [
      "[[0.]]\n",
      "[[-0.33333333  0.33333333  0.33333333]]\n",
      "[[-0.47140452  0.47140452  0.47140452]]\n",
      "[[0. 0. 0. 0. 0.]]\n"
     ]
    },
    {
     "data": {
      "text/plain": [
       "1.0"
      ]
     },
     "execution_count": 7,
     "metadata": {},
     "output_type": "execute_result"
    }
   ],
   "source": [
    "##now add hyperfine \n",
    "\n",
    "s = S(1)/2; I = S(1)/2\n",
    "f1 = 0; j1 = S(1)/2; l1 = 0\n",
    "f2 = 0; j2 = S(1)/2; l2 = 1\n",
    "\n",
    "H00 = np.zeros([(2*f1+1),(2*f2+1)])\n",
    "\n",
    "for i in range(2*f1+1):\n",
    "    for j in range(1):\n",
    "        c1 = wigner_3j(f1, 1, f2, i, i+j , -j)*(-1)**(f1-i)\n",
    "        c2 = wigner_6j(j1,f1,S(1)/2,f2,j2,1)*sympy.sqrt(2*f1+1)*sympy.sqrt(2*f2+1)*(-1)**(j1+I+f2+1)\n",
    "        c3 = wigner_6j(l1,j1,S(1)/2,j2,l2,1)*sympy.sqrt(2*j1+1)*sympy.sqrt(2*j2+1)*(-1)**(j1+I+f2+1)\n",
    "        H00[i,j] = c1*c2*c3\n",
    "            \n",
    "print(H00)\n",
    "\n",
    "s = S(1)/2; I = S(1)/2\n",
    "f1 = 0; j1 = S(1)/2; l1 = 0\n",
    "f2 = 1; j2 = S(1)/2; l2 = 1\n",
    "\n",
    "H01 = np.zeros([(2*f1+1),(2*f2+1)])\n",
    "\n",
    "for i in range(2*f1+1):\n",
    "    for j in range(-f2,f2+1):\n",
    "        c1 = wigner_3j(f1, 1, f2, i, i+j , -j)*(-1)**(f1-i)\n",
    "        c2 = wigner_6j(j1,f1,S(1)/2,f2,j2,1)*sympy.sqrt(2*f1+1)*sympy.sqrt(2*f2+1)*(-1)**(j1+I+f2+1)\n",
    "        c3 = wigner_6j(l1,j1,S(1)/2,j2,l2,1)*sympy.sqrt(2*j1+1)*sympy.sqrt(2*j2+1)*(-1)**(j1+I+f2+1)\n",
    "        H01[i,j] = c1*c2*c3\n",
    "            \n",
    "print(H01)\n",
    "\n",
    "\n",
    "s = S(1)/2; I = S(1)/2\n",
    "f1 = 0; j1 = S(1)/2; l1 = 0\n",
    "f2 = 1; j2 = S(3)/2; l2 = 1\n",
    "\n",
    "H02 = np.zeros([(2*f1+1),(2*f2+1)])\n",
    "\n",
    "for i in range(2*f1+1):\n",
    "    for j in range(-f2,f2+1):\n",
    "        c1 = wigner_3j(f1, 1, f2, i, i+j , -j)*(-1)**(f1-i)\n",
    "        c2 = wigner_6j(j1,f1,S(1)/2,f2,j2,1)*sympy.sqrt(2*f1+1)*sympy.sqrt(2*f2+1)*(-1)**(j1+I+f2+1)\n",
    "        c3 = wigner_6j(l1,j1,S(1)/2,j2,l2,1)*sympy.sqrt(2*j1+1)*sympy.sqrt(2*j2+1)*(-1)**(j1+I+f2+1)\n",
    "        H02[i,j] = c1*c2*c3\n",
    "            \n",
    "print(H02)\n",
    "\n",
    "s = S(1)/2; I = S(1)/2\n",
    "f1 = 0; j1 = S(1)/2; l1 = 0\n",
    "f2 = 2; j2 = S(3)/2; l2 = 1\n",
    "H03 = np.zeros([(2*f1+1),(2*f2+1)])\n",
    "\n",
    "for i in range(2*f1+1):\n",
    "    for j in range(-f2,f2+1):\n",
    "        c1 = wigner_3j(f1, 1, f2, i, i+j , -j)*(-1)**(f1-i)\n",
    "        c2 = wigner_6j(j1,f1,S(1)/2,f2,j2,1)*sympy.sqrt(2*f1+1)*sympy.sqrt(2*f2+1)*(-1)**(j1+I+f2+1)\n",
    "        c3 = wigner_6j(l1,j1,S(1)/2,j2,l2,1)*sympy.sqrt(2*j1+1)*sympy.sqrt(2*j2+1)*(-1)**(j1+I+f2+1)\n",
    "        H03[i,j] = c1*c2*c3\n",
    "            \n",
    "print(H03)\n",
    "\n",
    "\n",
    "htot = 0\n",
    "for i in range(len(H00[0])):\n",
    "    htot += H00[0,i]**2\n",
    "for i in range(len(H01[0])):\n",
    "    htot += H01[0,i]**2 \n",
    "for i in range(len(H02[0])):\n",
    "    htot += H02[0,i]**2\n",
    "for i in range(len(H03[0])):\n",
    "    htot += H03[0,i]**2\n",
    "htot\n"
   ]
  },
  {
   "cell_type": "code",
   "execution_count": null,
   "id": "continuous-subscriber",
   "metadata": {},
   "outputs": [],
   "source": []
  },
  {
   "cell_type": "markdown",
   "id": "velvet-coordination",
   "metadata": {},
   "source": [
    "## Example\n",
    "$$\n",
    "<I'=\\frac{1}{2}, J'=\\frac{1}{2}, F' = 0, m_F' = 0 |r_q| I=\\frac{1}{2}, J=\\frac{1}{2}, F = 1, m_F = 0 >$$"
   ]
  },
  {
   "cell_type": "code",
   "execution_count": 8,
   "id": "indian-polish",
   "metadata": {},
   "outputs": [
    {
     "data": {
      "text/latex": [
       "$\\displaystyle \\frac{1}{3}$"
      ],
      "text/plain": [
       "1/3"
      ]
     },
     "execution_count": 8,
     "metadata": {},
     "output_type": "execute_result"
    }
   ],
   "source": [
    "Iui = clebsch_gordan(S(1)/2,S(1)/2,1,-S(1)/2,S(1)/2,0)\n",
    "Idi = clebsch_gordan(S(1)/2,S(1)/2,1,S(1)/2,-S(1)/2,0)\n",
    "\n",
    "Sdi = clebsch_gordan(0,S(1)/2,S(1)/2,0,-S(1)/2,-S(1)/2)\n",
    "Sui = clebsch_gordan(0,S(1)/2,S(1)/2,0,S(1)/2,S(1)/2)\n",
    "\n",
    "Iuf = clebsch_gordan(S(1)/2,S(1)/2,0,-S(1)/2,S(1)/2,0)\n",
    "Idf = clebsch_gordan(S(1)/2,S(1)/2,0,S(1)/2,-S(1)/2,0)\n",
    "\n",
    "Sdf = clebsch_gordan(1,S(1)/2,S(1)/2,0,-S(1)/2,-S(1)/2)\n",
    "Suf = clebsch_gordan(1,S(1)/2,S(1)/2,0,S(1)/2,S(1)/2)\n",
    "\n",
    "cg1 = wigner_3j(0,1,1,0,0,0)\n",
    "\n",
    "cg1*(Iui*Sdi*Iuf*Sdf+Idi*Sui*Idf*Suf)\n",
    "\n"
   ]
  },
  {
   "cell_type": "code",
   "execution_count": 25,
   "id": "continuing-fifth",
   "metadata": {},
   "outputs": [
    {
     "data": {
      "text/latex": [
       "$\\displaystyle \\frac{\\sqrt{3}}{3}$"
      ],
      "text/plain": [
       "sqrt(3)/3"
      ]
     },
     "execution_count": 25,
     "metadata": {},
     "output_type": "execute_result"
    }
   ],
   "source": [
    "s = S(1)/2\n",
    "I = S(1)/2\n",
    "\n",
    "\n",
    "f1 = 1\n",
    "mf1 = -1\n",
    "j1 = S(1)/2\n",
    "l1 = 1\n",
    "\n",
    "\n",
    "f2 = 0\n",
    "mf2 = 0\n",
    "j2 = S(1)/2\n",
    "l2 = 0\n",
    "\n",
    "\n",
    "q = -1\n",
    "\n",
    "c1 = wigner_3j(f1, 1, f2, -mf1, q , mf2)*(-1)**(f1-mf1)\n",
    "c2 = wigner_6j(j1,f1,S(1)/2,f2,j2,1)*sympy.sqrt(2*f1+1)*sympy.sqrt(2*f2+1)*(-1)**(j1+I+f2+1)\n",
    "c3 = wigner_6j(l1,j1,S(1)/2,j2,l2,1)*sympy.sqrt(2*j1+1)*sympy.sqrt(2*j2+1)*(-1)**(j1+I+f2+1)\n",
    "\n",
    "c1*c2*c3 \n",
    "c1"
   ]
  },
  {
   "cell_type": "code",
   "execution_count": 10,
   "id": "elegant-genome",
   "metadata": {},
   "outputs": [
    {
     "data": {
      "text/latex": [
       "$\\displaystyle \\frac{\\sqrt{6}}{6}$"
      ],
      "text/plain": [
       "sqrt(6)/6"
      ]
     },
     "execution_count": 10,
     "metadata": {},
     "output_type": "execute_result"
    }
   ],
   "source": [
    "s = S(1)/2\n",
    "I = S(1)/2\n",
    "\n",
    "\n",
    "f1 = 1\n",
    "mf1 = 1\n",
    "j1 = S(1)/2\n",
    "l1 = 1\n",
    "\n",
    "\n",
    "f2 = 1\n",
    "mf2 = 0\n",
    "j2 = S(1)/2\n",
    "l2 = 0\n",
    "\n",
    "\n",
    "\n",
    "q = -1\n",
    "\n",
    "\n",
    "\n",
    "Iui = clebsch_gordan(S(1)/2,j1,f1,S(1)/2,mf1-S(1)/2,mf1)\n",
    "Idi = clebsch_gordan(S(1)/2,j1,f1,-S(1)/2,mf1+S(1)/2,mf1)\n",
    "\n",
    "Iuf = clebsch_gordan(S(1)/2,j2,f2,S(1)/2,mf2-S(1)/2,mf2)\n",
    "Idf = clebsch_gordan(S(1)/2,j2,f2,-S(1)/2,mf2+S(1)/2,mf2)\n",
    "\n",
    "cg1 = clebsch_gordan(j1,1,j2,mf1-S(1)/2,q, mf2-S(1)/2)\n",
    "cg2 = clebsch_gordan(j1,1,j2,mf1+S(1)/2,q, mf2+S(1)/2)\n",
    "\n",
    "(cg1*(Iui*Iuf)+cg2*(Idi*Idf))/sympy.sqrt(2*j1+1)"
   ]
  },
  {
   "cell_type": "code",
   "execution_count": 11,
   "id": "patient-retention",
   "metadata": {},
   "outputs": [
    {
     "data": {
      "text/latex": [
       "$\\displaystyle - \\frac{\\sqrt{6}}{6}$"
      ],
      "text/plain": [
       "-sqrt(6)/6"
      ]
     },
     "execution_count": 11,
     "metadata": {},
     "output_type": "execute_result"
    }
   ],
   "source": [
    "f1 = 1\n",
    "mf1 = 0\n",
    "j1 = S(1)/2\n",
    "l1 = 0\n",
    "\n",
    "\n",
    "f2 = 1\n",
    "mf2 = 1\n",
    "j2 = S(1)/2\n",
    "l2 = 1\n",
    "\n",
    "s = S(1)/2\n",
    "I = S(1)/2\n",
    "\n",
    "\n",
    "q = 1\n",
    "\n",
    "\n",
    "\n",
    "Iui = clebsch_gordan(S(1)/2,j1,f1,S(1)/2,mf1-S(1)/2,mf1)\n",
    "Idi = clebsch_gordan(S(1)/2,j1,f1,-S(1)/2,mf1+S(1)/2,mf1)\n",
    "\n",
    "Iuf = clebsch_gordan(S(1)/2,j2,f2,S(1)/2,mf2-S(1)/2,mf2)\n",
    "Idf = clebsch_gordan(S(1)/2,j2,f2,-S(1)/2,mf2+S(1)/2,mf2)\n",
    "\n",
    "cg1 = clebsch_gordan(j1,1,j2,mf1-S(1)/2,q, mf2-S(1)/2)\n",
    "cg2 = clebsch_gordan(j1,1,j2,mf1+S(1)/2,q, mf2+S(1)/2)\n",
    "\n",
    "(cg1*(Iui*Iuf)+cg2*(Idi*Idf))/sympy.sqrt(2*j2+1)"
   ]
  },
  {
   "cell_type": "code",
   "execution_count": 12,
   "id": "common-facility",
   "metadata": {},
   "outputs": [
    {
     "data": {
      "text/latex": [
       "$\\displaystyle \\frac{\\sqrt{3}}{3}$"
      ],
      "text/plain": [
       "sqrt(3)/3"
      ]
     },
     "execution_count": 12,
     "metadata": {},
     "output_type": "execute_result"
    }
   ],
   "source": [
    "s = S(1)/2\n",
    "I = S(1)/2\n",
    "\n",
    "\n",
    "f1 = 1\n",
    "mf1 = -1\n",
    "j1 = S(1)/2\n",
    "l1 = 1\n",
    "\n",
    "\n",
    "f2 = 1\n",
    "mf2 = 0\n",
    "j2 = S(1)/2\n",
    "l2 = 0\n",
    "\n",
    "\n",
    "\n",
    "q = -1\n",
    "\n",
    "c1 = wigner_3j(f1, 1, f2, -mf1, q , mf2)*(-1)**(f1-mf1)\n",
    "c2 = wigner_6j(j1,j2,1,f1,f2,S(1)/2)*sympy.sqrt(2*f1+1)*sympy.sqrt(2*f2+1)*sympy.sqrt(2*j1+1)*(-1)**(j1+I+f2+1)\n",
    "\n",
    "\n",
    "c1*c2"
   ]
  },
  {
   "cell_type": "code",
   "execution_count": 13,
   "id": "level-practice",
   "metadata": {},
   "outputs": [
    {
     "data": {
      "text/latex": [
       "$\\displaystyle \\frac{\\sqrt{6}}{6}$"
      ],
      "text/plain": [
       "sqrt(6)/6"
      ]
     },
     "execution_count": 13,
     "metadata": {},
     "output_type": "execute_result"
    }
   ],
   "source": [
    "s = S(1)/2\n",
    "I = S(1)/2\n",
    "\n",
    "\n",
    "\n",
    "f1 = 1\n",
    "mf1 = 0\n",
    "j1 = S(1)/2\n",
    "l1 = 0\n",
    "\n",
    "\n",
    "f2 = 1\n",
    "mf2 = 1\n",
    "j2 = S(1)/2\n",
    "l2 = 1\n",
    "\n",
    "q = -1\n",
    "\n",
    "\n",
    "c1 = wigner_3j(f1, 1, f2, -mf1, q , mf2)*(-1)**(f1-mf1)\n",
    "c2 = wigner_6j(j1,f1,S(1)/2,f2,j2,1)*sympy.sqrt(2*f1+1)*sympy.sqrt(2*f2+1)*(-1)**(j1+I+f2+1)\n",
    "\n",
    "c1*c2"
   ]
  },
  {
   "cell_type": "code",
   "execution_count": 14,
   "id": "central-contact",
   "metadata": {},
   "outputs": [
    {
     "data": {
      "text/latex": [
       "$\\displaystyle - \\frac{\\sqrt{30}}{15}$"
      ],
      "text/plain": [
       "-sqrt(30)/15"
      ]
     },
     "execution_count": 14,
     "metadata": {},
     "output_type": "execute_result"
    }
   ],
   "source": [
    "clebsch_gordan(2,1,1,0,0,0)/(sympy.sqrt(3))"
   ]
  },
  {
   "cell_type": "code",
   "execution_count": 15,
   "id": "indie-fraud",
   "metadata": {},
   "outputs": [
    {
     "data": {
      "text/latex": [
       "$\\displaystyle \\frac{\\sqrt{30}}{15}$"
      ],
      "text/plain": [
       "sqrt(30)/15"
      ]
     },
     "execution_count": 15,
     "metadata": {},
     "output_type": "execute_result"
    }
   ],
   "source": [
    "clebsch_gordan(1,1,2,0,0,0)/(sympy.sqrt(5))"
   ]
  },
  {
   "cell_type": "code",
   "execution_count": null,
   "id": "thermal-beverage",
   "metadata": {},
   "outputs": [],
   "source": []
  },
  {
   "cell_type": "code",
   "execution_count": null,
   "id": "timely-school",
   "metadata": {},
   "outputs": [],
   "source": []
  },
  {
   "cell_type": "code",
   "execution_count": 16,
   "id": "attractive-dollar",
   "metadata": {},
   "outputs": [
    {
     "data": {
      "text/latex": [
       "$\\displaystyle - \\frac{1}{3}$"
      ],
      "text/plain": [
       "-1/3"
      ]
     },
     "execution_count": 16,
     "metadata": {},
     "output_type": "execute_result"
    }
   ],
   "source": [
    "wigner_6j(j1,j2,1,f1,f2,S(1)/2)"
   ]
  },
  {
   "cell_type": "code",
   "execution_count": 17,
   "id": "comparable-update",
   "metadata": {},
   "outputs": [
    {
     "data": {
      "text/latex": [
       "$\\displaystyle - \\frac{1}{3}$"
      ],
      "text/plain": [
       "-1/3"
      ]
     },
     "execution_count": 17,
     "metadata": {},
     "output_type": "execute_result"
    }
   ],
   "source": [
    "wigner_6j(j1,f1,S(1)/2,f2,j2,1)"
   ]
  },
  {
   "cell_type": "code",
   "execution_count": null,
   "id": "adverse-scene",
   "metadata": {},
   "outputs": [],
   "source": []
  },
  {
   "cell_type": "code",
   "execution_count": null,
   "id": "loving-optics",
   "metadata": {},
   "outputs": [],
   "source": []
  },
  {
   "cell_type": "code",
   "execution_count": null,
   "id": "first-fossil",
   "metadata": {},
   "outputs": [],
   "source": []
  }
 ],
 "metadata": {
  "kernelspec": {
   "display_name": "Python 3",
   "language": "python",
   "name": "python3"
  },
  "language_info": {
   "codemirror_mode": {
    "name": "ipython",
    "version": 3
   },
   "file_extension": ".py",
   "mimetype": "text/x-python",
   "name": "python",
   "nbconvert_exporter": "python",
   "pygments_lexer": "ipython3",
   "version": "3.9.2"
  }
 },
 "nbformat": 4,
 "nbformat_minor": 5
}
