{
 "cells": [
  {
   "cell_type": "markdown",
   "id": "agricultural-mixture",
   "metadata": {},
   "source": [
    "## Stark Shift Calculation ##"
   ]
  },
  {
   "cell_type": "code",
   "execution_count": 4,
   "id": "disciplinary-wireless",
   "metadata": {},
   "outputs": [],
   "source": [
    "import scipy.constants as sc\n",
    "import numpy as np\n",
    "from sympy import *\n",
    "\n",
    "n = 2\n",
    "H = zeros(n,n)\n",
    "\n",
    "\n",
    "\n",
    "\n",
    "I = 2*1e-3/(np.pi*(30e-6)**2)\n",
    "E = np.sqrt(2*I/(sc.c*sc.epsilon_0))\n",
    "\n",
    "w0 = 2*np.pi*607e12\n",
    "A=2*np.pi*15.4e6\n",
    "a = 1/(4*np.pi*sc.epsilon_0*sc.hbar*sc.c)\n",
    "mu = np.sqrt(A*3*sc.c**2/(4*a*w0**3))\n",
    "d = 2*np.pi*(607-563)*1e12\n"
   ]
  },
  {
   "cell_type": "code",
   "execution_count": 5,
   "id": "necessary-novelty",
   "metadata": {},
   "outputs": [
    {
     "data": {
      "text/latex": [
       "$\\displaystyle \\left[\\begin{matrix}0 & 1.31585364979645\\\\1.31585364979645 & 607000.0\\end{matrix}\\right]$"
      ],
      "text/plain": [
       "Matrix([\n",
       "[               0, 1.31585364979645],\n",
       "[1.31585364979645,         607000.0]])"
      ]
     },
     "execution_count": 5,
     "metadata": {},
     "output_type": "execute_result"
    }
   ],
   "source": [
    "\n",
    "H[1,1] = sc.hbar*w0\n",
    "H[0,1] = H[1,0] = E*mu/2*sqrt((w0/d))\n",
    "\n",
    "\n",
    "H/(2*np.pi*sc.hbar*1e9)"
   ]
  },
  {
   "cell_type": "code",
   "execution_count": 6,
   "id": "weighted-passing",
   "metadata": {},
   "outputs": [],
   "source": [
    "P, D = H.diagonalize()\n"
   ]
  },
  {
   "cell_type": "code",
   "execution_count": 7,
   "id": "acting-shoulder",
   "metadata": {},
   "outputs": [
    {
     "data": {
      "text/latex": [
       "$\\displaystyle \\left[\\begin{matrix}-2852.50548216556 & -1315853649.79645\\\\-1315853649.79645 & 2852.53189995526\\end{matrix}\\right]$"
      ],
      "text/plain": [
       "Matrix([\n",
       "[-2852.50548216556, -1315853649.79645],\n",
       "[-1315853649.79645,  2852.53189995526]])"
      ]
     },
     "execution_count": 7,
     "metadata": {},
     "output_type": "execute_result"
    }
   ],
   "source": [
    "(D-H)/(2*np.pi*sc.hbar)"
   ]
  },
  {
   "cell_type": "code",
   "execution_count": 8,
   "id": "charming-latvia",
   "metadata": {},
   "outputs": [
    {
     "data": {
      "text/latex": [
       "$\\displaystyle \\left[\\begin{matrix}-2852.50548216556 & 0\\\\0 & 607000000002853.0\\end{matrix}\\right]$"
      ],
      "text/plain": [
       "Matrix([\n",
       "[-2852.50548216556,                 0],\n",
       "[                0, 607000000002853.0]])"
      ]
     },
     "execution_count": 8,
     "metadata": {},
     "output_type": "execute_result"
    }
   ],
   "source": [
    "(D)/(2*np.pi*sc.hbar)"
   ]
  },
  {
   "cell_type": "code",
   "execution_count": 9,
   "id": "brilliant-poland",
   "metadata": {},
   "outputs": [
    {
     "data": {
      "text/plain": [
       "206.7714023325774"
      ]
     },
     "execution_count": 9,
     "metadata": {},
     "output_type": "execute_result"
    }
   ],
   "source": [
    "(E*mu/2)**2/w0/(2*np.pi*sc.hbar**2)"
   ]
  },
  {
   "cell_type": "code",
   "execution_count": 10,
   "id": "amended-merchandise",
   "metadata": {},
   "outputs": [],
   "source": [
    "import scipy.constants as sc\n",
    "\n",
    "W= E/sc.hbar*mu\n",
    "d = 2*np.pi*(607-563)*1e12\n",
    "ss = W**2/(4*d)/(2*np.pi)\n",
    "H1 = zeros(n,n)\n",
    "\n",
    "H1[1,1] = sc.hbar*d\n",
    "H1[0,1] = H1[1,0] = sc.hbar*W/2\n",
    "\n",
    "P, D = H1.diagonalize()"
   ]
  },
  {
   "cell_type": "code",
   "execution_count": 11,
   "id": "numeric-refrigerator",
   "metadata": {},
   "outputs": [
    {
     "data": {
      "text/latex": [
       "$\\displaystyle \\left[\\begin{matrix}-2852.50548199404 & 0\\\\0 & 44000000002852.5\\end{matrix}\\right]$"
      ],
      "text/plain": [
       "Matrix([\n",
       "[-2852.50548199404,                0],\n",
       "[                0, 44000000002852.5]])"
      ]
     },
     "execution_count": 11,
     "metadata": {},
     "output_type": "execute_result"
    }
   ],
   "source": [
    "(D)/(2*np.pi*sc.hbar)"
   ]
  },
  {
   "cell_type": "code",
   "execution_count": 12,
   "id": "educational-america",
   "metadata": {},
   "outputs": [
    {
     "name": "stdout",
     "output_type": "stream",
     "text": [
      "-2852.5054819940383\n"
     ]
    }
   ],
   "source": [
    "c11 = P[0,0]\n",
    "c12 = P[1,0]\n",
    "\n",
    "\n",
    "(c11*H[0,0]+c12*H[1,0])/(2*np.pi*sc.hbar*c11)\n",
    "\n",
    "\n",
    "print(float(W/2*(c12/c11)/(2*np.pi)))"
   ]
  },
  {
   "cell_type": "code",
   "execution_count": 13,
   "id": "fantastic-emphasis",
   "metadata": {},
   "outputs": [
    {
     "data": {
      "text/latex": [
       "$\\displaystyle 607000000010595.0$"
      ],
      "text/plain": [
       "607000000010595."
      ]
     },
     "execution_count": 13,
     "metadata": {},
     "output_type": "execute_result"
    }
   ],
   "source": [
    "c21 = P[0,1]\n",
    "c22 = P[1,1]\n",
    "\n",
    "(c21*H[1,0]+c22*H[1,1])/(2*np.pi*sc.hbar*c22)"
   ]
  },
  {
   "cell_type": "code",
   "execution_count": 14,
   "id": "funny-credit",
   "metadata": {
    "tags": []
   },
   "outputs": [
    {
     "name": "stdout",
     "output_type": "stream",
     "text": [
      "2852.505482178966\n",
      "-2852.5042034842104\n"
     ]
    }
   ],
   "source": [
    "###Stark Shift ####\n",
    "import scipy.constants as sc\n",
    "I = 2*1e-3/(np.pi*(30e-6)**2)\n",
    "E = np.sqrt(2*I/(sc.c*sc.epsilon_0))\n",
    "\n",
    "w0 = 2*np.pi*607e12\n",
    "A=2*np.pi*15.4e6\n",
    "a = 1/(4*np.pi*sc.epsilon_0*sc.hbar*sc.c)\n",
    "mu = np.sqrt(A*3*sc.c**2/(4*a*w0**3))\n",
    "\n",
    "W= E/sc.hbar*mu\n",
    "d = 2*np.pi*(607-563)*1e12\n",
    "ss = W**2/(4*d)/(2*np.pi)\n",
    "\n",
    "print(ss)\n",
    "\n",
    "ss = (d-np.sqrt(d**2+float(W)**2))/(4*np.pi)\n",
    "\n",
    "print(ss)"
   ]
  },
  {
   "cell_type": "code",
   "execution_count": 15,
   "id": "advised-ontario",
   "metadata": {
    "tags": []
   },
   "outputs": [
    {
     "name": "stdout",
     "output_type": "stream",
     "text": [
      "57.0501096435793\n",
      "-57.04958671048705\n"
     ]
    }
   ],
   "source": [
    "import sympy\n",
    "from sympy import S\n",
    "from sympy.physics.wigner import wigner_3j\n",
    "from sympy.physics.wigner import wigner_6j\n",
    "\n",
    "\n",
    "I = S(1)/2\n",
    "s = S(1)/2\n",
    "f1 = 1\n",
    "mf1 = -1\n",
    "j1 = S(1)/2\n",
    "l1 = 1\n",
    "f2 = 1\n",
    "mf2 = -1\n",
    "j2 = S(1)/2\n",
    "l2 = 0\n",
    "q = 0\n",
    "\n",
    "c1 = wigner_3j(f1, 1, f2, -mf1, q , mf2)*(-1)**(f1-mf1)\n",
    "c2 = wigner_6j(j1,f1,S(1)/2,f2,j2,1)*sympy.sqrt(2*f1+1)*sympy.sqrt(2*f2+1)*(-1)**(j1+I+f2+1)\n",
    "c3 = wigner_6j(l1,j1,S(1)/2,j2,l2,1)*sympy.sqrt(2*j1+1)*sympy.sqrt(2*j2+1)*(-1)**(l1+s+j2+1)\n",
    "x = c1*c2*c3*sympy.sqrt((2*j2+1)/(2*j1+1))\n",
    "\n",
    "\n",
    "I = 2*1e-3/(np.pi*(100e-6)**2)\n",
    "E = np.sqrt(2*I/(sc.c*sc.epsilon_0))\n",
    "\n",
    "w0 = 2*np.pi*607e12\n",
    "A=2*np.pi*15.4e6\n",
    "a = 1/(4*np.pi*sc.epsilon_0*sc.hbar*sc.c)\n",
    "mu = np.sqrt(A*3*sc.c**2/(4*a*w0**3))*x*sympy.sqrt(2*j2+1)\n",
    "\n",
    "W= E/sc.hbar*mu\n",
    "d = 2*np.pi*(607-563)*1e12\n",
    "ss = W**2/(4*d)/(2*np.pi)\n",
    "\n",
    "print(ss)\n",
    "\n",
    "ss = (d-np.sqrt(d**2+float(W)**2))/(4*np.pi)\n",
    "\n",
    "print(ss)"
   ]
  },
  {
   "cell_type": "markdown",
   "id": "cardiac-conservative",
   "metadata": {},
   "source": [
    "## OPTICAL QUBIT STARK SHIFT ##"
   ]
  },
  {
   "cell_type": "code",
   "execution_count": 43,
   "id": "labeled-cricket",
   "metadata": {
    "tags": []
   },
   "outputs": [],
   "source": [
    "I = 2*.28/(np.pi*(40e-6)**2)\n",
    "\n",
    "E = np.sqrt(2*I/(sc.c*sc.epsilon_0))\n",
    "\n",
    "w0 = 2*np.pi*(607.429890e12-1.815e9)\n",
    "A=2*np.pi*15.1e6\n",
    "a = 1/(4*np.pi*sc.epsilon_0*sc.hbar*sc.c)\n",
    "l = 563e12\n",
    "\n",
    "\n",
    "s = S(1)/2\n",
    "f1 = 1\n",
    "mf1 = 1\n",
    "j1 = S(1)/2\n",
    "l1 = 1\n",
    "f2 = 1\n",
    "mf2 = 0\n",
    "j2 = S(1)/2\n",
    "l2 = 0\n",
    "q = 1\n",
    "\n",
    "c1 = wigner_3j(f2, 1, f1, mf2, q , -mf1)*(-1)**(f1-mf1)*sympy.sqrt(2*f1+1)\n",
    "c2 = wigner_6j(j1,f1,S(1)/2,f2,j2,1)*sympy.sqrt(2*f2+1)*sympy.sqrt(2*j1+1)*(-1)**(j1+S(1)/2+f2+1)\n",
    "x = c1*c2\n",
    "\n",
    "\n",
    "mu = np.sqrt(A*3*sc.c**2/(4*a*w0**3))*x\n",
    "\n",
    "W= E/sc.hbar*mu\n",
    "d = w0-2*np.pi*l\n",
    "ss = W**2/(4*d)/(2*np.pi)\n"
   ]
  },
  {
   "cell_type": "code",
   "execution_count": 44,
   "id": "atomic-invalid",
   "metadata": {
    "tags": []
   },
   "outputs": [],
   "source": [
    "\n",
    "w0 = 2*np.pi*(658.118271e12+625e6)\n",
    "A=2*np.pi*18.8e6\n",
    "k = (3*np.pi*sc.epsilon_0*sc.hbar*sc.c**3)/(w0**3)\n",
    "\n",
    "\n",
    "s = S(1)/2\n",
    "f1 = 1\n",
    "mf1 = 1\n",
    "j1 = S(3)/2\n",
    "l1 = 1\n",
    "f2 = 1\n",
    "mf2 = 0\n",
    "j2 = S(1)/2\n",
    "l2 = 0\n",
    "q = 1\n",
    "\n",
    "c1 = wigner_3j(f2, 1, f1, mf2, q , -mf1)*(-1)**(f1-mf1)*sympy.sqrt(2*f1+1)\n",
    "c2 = wigner_6j(j1,f1,S(1)/2,f2,j2,1)*sympy.sqrt(2*f2+1)*sympy.sqrt(2*j1+1)*(-1)**(j1+S(1)/2+f2+1)\n",
    "x = c1*c2\n",
    "\n",
    "\n",
    "mu = np.sqrt(A*3*sc.c**2/(4*a*w0**3))*x\n",
    "\n",
    "W= E/sc.hbar*mu\n",
    "d = w0-2*np.pi*l\n",
    "ss2 = W**2/(4*d)/(2*np.pi)"
   ]
  },
  {
   "cell_type": "code",
   "execution_count": 45,
   "id": "copyrighted-upgrade",
   "metadata": {
    "tags": []
   },
   "outputs": [],
   "source": [
    "w0 = 2*np.pi*658.118271e12\n",
    "A=2*np.pi*18.8e6\n",
    "k = (3*np.pi*sc.epsilon_0*sc.hbar*sc.c**3)/(w0**3)\n",
    "\n",
    "\n",
    "s = S(1)/2\n",
    "f1 = 2\n",
    "mf1 = 1\n",
    "j1 = S(3)/2\n",
    "l1 = 1\n",
    "f2 = 1\n",
    "mf2 = 0\n",
    "j2 = S(1)/2\n",
    "l2 = 0\n",
    "q = 1\n",
    "\n",
    "c1 = wigner_3j(f2, 1, f1, mf2, q , -mf1)*(-1)**(f1-mf1)*sympy.sqrt(2*f1+1)\n",
    "c2 = wigner_6j(j1,f1,S(1)/2,f2,j2,1)*sympy.sqrt(2*f2+1)*sympy.sqrt(2*j1+1)*(-1)**(j1+S(1)/2+f2+1)\n",
    "x = c1*c2\n",
    "\n",
    "\n",
    "mu = np.sqrt(A*3*sc.c**2/(4*a*w0**3))*x\n",
    "\n",
    "W= E/sc.hbar*mu\n",
    "d = w0-2*np.pi*l\n",
    "ss3 = W**2/(4*d)/(2*np.pi)\n"
   ]
  },
  {
   "cell_type": "code",
   "execution_count": 46,
   "id": "existing-richards",
   "metadata": {
    "tags": []
   },
   "outputs": [],
   "source": [
    "w0 = 2*np.pi*489.989370e12\n",
    "A=2*np.pi*5.9e6\n",
    "k = (3*np.pi*sc.epsilon_0*sc.hbar*sc.c**3)/(w0**3)\n",
    "\n",
    "\n",
    "s = S(1)/2\n",
    "f1 = 2\n",
    "mf1 = 1\n",
    "j1 = S(3)/2\n",
    "l1 = 1\n",
    "f2 = 3\n",
    "mf2 = 0\n",
    "j2 = S(5)/2\n",
    "l2 = 2\n",
    "q = 1\n",
    "\n",
    "c1 = wigner_3j(f2, 1, f1, mf2, q , -mf1)*(-1)**(f1-mf1)*sympy.sqrt(2*f1+1)\n",
    "c2 = wigner_6j(j1,f1,S(1)/2,f2,j2,1)*sympy.sqrt(2*f2+1)*sympy.sqrt(2*j1+1)*(-1)**(j1+S(1)/2+f2+1)\n",
    "x = c1*c2\n",
    "\n",
    "mu = np.sqrt(A*3*sc.c**2/(4*a*w0**3))*x\n",
    "\n",
    "W= E/sc.hbar*mu\n",
    "d = w0-2*np.pi*l\n",
    "ss4 = W**2/(4*d)/(2*np.pi)\n"
   ]
  },
  {
   "cell_type": "code",
   "execution_count": 47,
   "id": "coordinate-accident",
   "metadata": {},
   "outputs": [
    {
     "name": "stdout",
     "output_type": "stream",
     "text": [
      "145.117132530781\n",
      "33.1765934671199\n",
      "99.5307179540201\n",
      "-26.2935818423410\n",
      "304.118025794262\n"
     ]
    }
   ],
   "source": [
    "print(ss/1e3)\n",
    "print(ss2/1e3)\n",
    "print(ss3/1e3)\n",
    "print(ss4/1e3)\n",
    "\n",
    "print((ss+ss2+ss3-ss4)/1e3)"
   ]
  },
  {
   "cell_type": "code",
   "execution_count": 21,
   "id": "removed-pavilion",
   "metadata": {
    "tags": []
   },
   "outputs": [
    {
     "data": {
      "text/latex": [
       "$\\displaystyle - \\frac{\\sqrt{3}}{3}$"
      ],
      "text/plain": [
       "-sqrt(3)/3"
      ]
     },
     "execution_count": 21,
     "metadata": {},
     "output_type": "execute_result"
    }
   ],
   "source": [
    "wigner_3j(1/2,1,1/2,1/2,-1,1/2)"
   ]
  },
  {
   "cell_type": "code",
   "execution_count": 22,
   "id": "radical-cincinnati",
   "metadata": {
    "tags": []
   },
   "outputs": [
    {
     "data": {
      "text/plain": [
       "-1.0"
      ]
     },
     "execution_count": 22,
     "metadata": {},
     "output_type": "execute_result"
    }
   ],
   "source": [
    "(-1)**(1/2-1-1/2)"
   ]
  },
  {
   "cell_type": "code",
   "execution_count": null,
   "id": "iraqi-cardiff",
   "metadata": {},
   "outputs": [],
   "source": []
  },
  {
   "cell_type": "code",
   "execution_count": null,
   "id": "dressed-lottery",
   "metadata": {},
   "outputs": [],
   "source": []
  },
  {
   "cell_type": "code",
   "execution_count": null,
   "id": "clinical-hypothetical",
   "metadata": {},
   "outputs": [],
   "source": []
  },
  {
   "cell_type": "code",
   "execution_count": null,
   "id": "seventh-chemical",
   "metadata": {},
   "outputs": [],
   "source": []
  }
 ],
 "metadata": {
  "kernelspec": {
   "display_name": "Python 3",
   "language": "python",
   "name": "python3"
  },
  "language_info": {
   "codemirror_mode": {
    "name": "ipython",
    "version": 3
   },
   "file_extension": ".py",
   "mimetype": "text/x-python",
   "name": "python",
   "nbconvert_exporter": "python",
   "pygments_lexer": "ipython3",
   "version": "3.9.2"
  }
 },
 "nbformat": 4,
 "nbformat_minor": 5
}
