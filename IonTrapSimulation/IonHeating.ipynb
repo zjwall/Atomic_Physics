{
 "cells": [
  {
   "cell_type": "markdown",
   "id": "becoming-quality",
   "metadata": {},
   "source": [
    "$$\\newcommand{\\ket}[1]{\\left|{#1}\\right\\rangle}$$\n",
    "$$\\newcommand{\\bra}[1]{\\left\\langle{#1}\\right|}$$\n",
    "\n",
    "Our goal is to calculate the heating rate from the power spectrum of the voltage on the RF rods of the trap. We begin with the Hamiltonian for a particle of chrage $q$ and mass $m$ trapped in a harmonic well subject to a fluctuating nongradient electric field drive $\\epsilon(t)$\n",
    "$$\n",
    "\\begin{align}\n",
    "H(t)=H_0-q\\epsilon(t)x\n",
    "\\end{align}\n",
    "$$\n",
    "This leads to a heating rate from the motional ground state of,\n",
    "$$\\Gamma= \\frac{q^2}{4m\\hbar \\omega }S_E(\\omega)$$\n",
    "where we define\n",
    "$$\n",
    "\\begin{align}\n",
    "S_E(\\omega) =\\int^{\\infty}_0 d\\tau \\cos(\\omega \\tau) \\langle \\boldsymbol{\\epsilon}(t)\\boldsymbol{\\epsilon}(t+\\tau)\\rangle\n",
    "\\end{align}\n",
    "$$\n",
    "\n",
    "Next Hamiltonian for a particle subject to a fluctuating gradient electric field drive $\\epsilon(t)$\n",
    "$$\n",
    "\\begin{align}\n",
    "H(t)=H_0-q\\epsilon(t)x^2\n",
    "\\end{align}\n",
    "$$\n",
    "This leads to a transition rate from the ground motional state \n",
    "$$\n",
    "\\begin{align}\n",
    "R_{m\\leftarrow n}=\\frac{q^2}{8m^2\\omega^2}\\int^{\\infty}_{-\\infty}d \\tau e^{i\\omega_{mn}\\tau}\\langle \\boldsymbol{\\epsilon}(t) \\boldsymbol{\\epsilon}(t+\\tau)\\rangle|\\bra{m}z^2\\ket{n}|^2 \\end{align}\n",
    "$$\n",
    "\n",
    "$$\n",
    "R_{n\\pm1\\leftarrow n} =\\frac{q^2}{8m^2\\omega^2} S_E(2\\omega_z)(n+1\\pm 1)(n \\pm 1)\n",
    "$$\n",
    "\n",
    "$$\n",
    "\\frac{q^2}{8m^2\\omega^2}S_e(2\\omega)(n+1\\pm 1)(n \\pm 1)\n",
    "$$\n",
    "\n",
    "$$\n",
    "\\langle\\dot{E}\\rangle= \\frac{q^2}{8m^2 \\omega^2 }S_E(2\\omega)\\langle E \\rangle\n",
    "$$\n",
    "\n",
    "We would like to roughly translate this electric field fluctuation to fluctuation in the voltage of the RF trap rod. Assuming a mostly hyperbolic geometry we can take $\\epsilon(t)$ to be\n",
    "$$\n",
    "\\begin{align}\n",
    "\\epsilon(t)=-V_n\\cos(\\omega_n t)\\alpha'\n",
    "\\end{align}\n",
    "$$\n",
    "where $\\alpha'$ is a geometric factor. Then assuming zero $a$ parameter, we can take our known secular frequency, and back out a $q$ value, and from this we can rewrite the equation in terms of the ratio of noise to carrier voltage on the rods.\n",
    "$$\n",
    "\\begin{align}\n",
    "\\epsilon(t)=-\\frac{\\sqrt{2}m\\omega_{sec}\\omega_{rf}}{q}\\frac{V_n}{V_c}\\cos(\\omega_n t)\n",
    "\\end{align}\n",
    "$$\n"
   ]
  },
  {
   "cell_type": "code",
   "execution_count": 13,
   "id": "common-aurora",
   "metadata": {
    "tags": []
   },
   "outputs": [
    {
     "name": "stdout",
     "output_type": "stream",
     "text": [
      "3.446681491821444e+25\n"
     ]
    },
    {
     "data": {
      "text/plain": [
       "2.777777777777778e-16"
      ]
     },
     "execution_count": 13,
     "metadata": {},
     "output_type": "execute_result"
    }
   ],
   "source": [
    "#rf rod noise to heating rate\n",
    "import numpy as np\n",
    "\n",
    "e=1.60217662e-19\n",
    "hbar = 1.0545e-34\n",
    "v=220e3\n",
    "q=e*133\n",
    "m=2.20852e-25\n",
    "p=1e-12\n",
    "r=50\n",
    "v=np.sqrt(r*p)\n",
    "d=3e-3\n",
    "s=(v/d)**2\n",
    "\n",
    "coeff=q**2/(4*m*hbar*v)*50e-6\n",
    "print(coeff)\n",
    "(5e-11/3e-3)**2"
   ]
  },
  {
   "cell_type": "code",
   "execution_count": 6,
   "id": "extensive-cartridge",
   "metadata": {
    "collapsed": true,
    "jupyter": {
     "outputs_hidden": true,
     "source_hidden": true
    },
    "tags": []
   },
   "outputs": [
    {
     "name": "stdout",
     "output_type": "stream",
     "text": [
      "1.84e-15\n"
     ]
    }
   ],
   "source": [
    "k=1.38e-23\n",
    "s=4*k*300/d**2\n",
    "print(s)"
   ]
  },
  {
   "cell_type": "code",
   "execution_count": 8,
   "id": "automated-buddy",
   "metadata": {},
   "outputs": [
    {
     "name": "stdout",
     "output_type": "stream",
     "text": [
      "1268378788990291.2\n"
     ]
    }
   ],
   "source": [
    "c=k*q**2*300/(m*hbar*v*d**2)\n",
    "print(c)"
   ]
  },
  {
   "cell_type": "code",
   "execution_count": 11,
   "id": "resistant-copyright",
   "metadata": {},
   "outputs": [
    {
     "name": "stdout",
     "output_type": "stream",
     "text": [
      "12011.224087864499\n"
     ]
    }
   ],
   "source": [
    "w=10e3\n",
    "k=np.sqrt(2*np.log(2))\n",
    "a=(k/w)**2/2\n",
    "print(1/np.sqrt(a))"
   ]
  },
  {
   "cell_type": "code",
   "execution_count": null,
   "id": "noble-plane",
   "metadata": {},
   "outputs": [],
   "source": []
  }
 ],
 "metadata": {
  "kernelspec": {
   "display_name": "Python 3",
   "language": "python",
   "name": "python3"
  },
  "language_info": {
   "codemirror_mode": {
    "name": "ipython",
    "version": 3
   },
   "file_extension": ".py",
   "mimetype": "text/x-python",
   "name": "python",
   "nbconvert_exporter": "python",
   "pygments_lexer": "ipython3",
   "version": "3.9.2"
  }
 },
 "nbformat": 4,
 "nbformat_minor": 5
}
