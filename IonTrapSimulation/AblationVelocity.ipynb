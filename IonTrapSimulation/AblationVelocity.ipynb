{
 "cells": [
  {
   "cell_type": "code",
   "execution_count": 107,
   "id": "graduate-february",
   "metadata": {},
   "outputs": [
    {
     "name": "stdout",
     "output_type": "stream",
     "text": [
      "0.011293822014943817\n",
      "ion velocity m/s 125.66370614359172\n"
     ]
    }
   ],
   "source": [
    "##calculation for ion velocity given particular trap depth\n",
    "import numpy as np\n",
    "from scipy.optimize import curve_fit\n",
    "import scipy.special as sp\n",
    "import scipy.constants as sc\n",
    "\n",
    "\n",
    "w0 = 2*np.pi*1e5  #secular freq\n",
    "m = 2.29154e-25\n",
    "r0 = 200e-6\n",
    "td = .5*m*w0**2*r0**2  #trap depth in J\n",
    "tdev = 6.242e+18*td\n",
    "print(tdev)\n",
    "#convert to ion velocity\n",
    "v = np.sqrt(2*td/m)\n",
    "print('ion velocity m/s', v)\n",
    "#then convert this to doppler broadening\n"
   ]
  },
  {
   "cell_type": "code",
   "execution_count": 108,
   "id": "rough-coverage",
   "metadata": {},
   "outputs": [
    {
     "name": "stdout",
     "output_type": "stream",
     "text": [
      "27.666749748758416\n"
     ]
    }
   ],
   "source": [
    "# from sigma in gaussian convert to v\n",
    "w0 = 725*2*np.pi*1e12\n",
    "sig = 700e6\n",
    "u = sig*sc.c/w0/(2*np.sqrt(np.log(2)))\n",
    "print(u)"
   ]
  },
  {
   "cell_type": "code",
   "execution_count": 111,
   "id": "russian-brother",
   "metadata": {},
   "outputs": [
    {
     "name": "stdout",
     "output_type": "stream",
     "text": [
      "878.2796418757952\n"
     ]
    }
   ],
   "source": [
    "T = 10\n",
    "d = 2*w0/sc.c*np.sqrt(2*np.log(2)*sc.k*T/m)\n",
    "print(d/1e6)"
   ]
  },
  {
   "cell_type": "code",
   "execution_count": 112,
   "id": "forbidden-bookmark",
   "metadata": {},
   "outputs": [
    {
     "name": "stdout",
     "output_type": "stream",
     "text": [
      "34.713061516009695\n"
     ]
    }
   ],
   "source": [
    "u2 = np.sqrt(2*sc.k*T/m)\n",
    "print(u2)"
   ]
  },
  {
   "cell_type": "code",
   "execution_count": null,
   "id": "arctic-judge",
   "metadata": {},
   "outputs": [],
   "source": [
    "\n"
   ]
  },
  {
   "cell_type": "code",
   "execution_count": null,
   "id": "spectacular-patient",
   "metadata": {},
   "outputs": [],
   "source": []
  },
  {
   "cell_type": "code",
   "execution_count": null,
   "id": "trained-paraguay",
   "metadata": {},
   "outputs": [],
   "source": []
  }
 ],
 "metadata": {
  "kernelspec": {
   "display_name": "Python 3",
   "language": "python",
   "name": "python3"
  },
  "language_info": {
   "codemirror_mode": {
    "name": "ipython",
    "version": 3
   },
   "file_extension": ".py",
   "mimetype": "text/x-python",
   "name": "python",
   "nbconvert_exporter": "python",
   "pygments_lexer": "ipython3",
   "version": "3.9.2"
  }
 },
 "nbformat": 4,
 "nbformat_minor": 5
}
